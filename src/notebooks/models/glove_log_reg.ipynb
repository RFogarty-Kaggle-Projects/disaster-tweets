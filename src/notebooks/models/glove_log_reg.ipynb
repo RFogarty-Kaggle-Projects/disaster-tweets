{
 "cells": [
  {
   "cell_type": "markdown",
   "id": "fe0e215e",
   "metadata": {},
   "source": [
    "Notebook for using GloVe vectors combined with logistic regression"
   ]
  },
  {
   "cell_type": "markdown",
   "id": "e742ff1b",
   "metadata": {},
   "source": [
    "**Imports**"
   ]
  },
  {
   "cell_type": "code",
   "execution_count": 15,
   "id": "33b35f62",
   "metadata": {},
   "outputs": [],
   "source": [
    "\n",
    "import json\n",
    "import os\n",
    "import pathlib\n",
    "\n",
    "import numpy as np\n",
    "import pandas as pd\n",
    "import sklearn as sk\n",
    "\n",
    "import pyplotterlib.standard.plotters as ppl\n",
    "\n",
    "import shared_code_path\n",
    "import misc_utils as miscUtilHelp\n",
    "import model_wrappers as modelWrapHelp\n",
    "import standard_pipes as stdPipeHelp\n",
    "import train_pipes as trainPipeHelp\n"
   ]
  },
  {
   "cell_type": "markdown",
   "id": "8728d2b5",
   "metadata": {},
   "source": [
    "**Configuration Variables**"
   ]
  },
  {
   "cell_type": "code",
   "execution_count": 2,
   "id": "8d5d8cdd",
   "metadata": {},
   "outputs": [],
   "source": [
    "#\n",
    "_rawDataFolder = os.path.abspath( os.path.join(\"..\",\"..\",\"..\",\"raw_data\") )\n",
    "TRAIN_PATH = os.path.abspath( os.path.join(_rawDataFolder, \"train.csv\") )\n",
    "TEST_PATH = os.path.abspath( os.path.join(_rawDataFolder, \"test.csv\") )\n",
    "\n",
    "#\n",
    "GLOVE_DIMS = [25, 50, 100]\n",
    "\n",
    "#\n",
    "SAVE_FOLDER = os.path.abspath( \"glove_log_reg_save_folder\" )\n",
    "SUBMISSIONS_PATH = os.path.join(SAVE_FOLDER, \"submissions.csv\")\n",
    "\n",
    "#\n",
    "RERUN_HP_SEARCH = False\n",
    "C_VALS = [1e-2, 1e-1, 1e0, 1e1, 1e2, 1e3]\n"
   ]
  },
  {
   "cell_type": "code",
   "execution_count": 3,
   "id": "8a0001b2",
   "metadata": {},
   "outputs": [],
   "source": [
    "np.random.seed(523423)"
   ]
  },
  {
   "cell_type": "markdown",
   "id": "33f8f10f",
   "metadata": {},
   "source": [
    "**Create save folder**"
   ]
  },
  {
   "cell_type": "code",
   "execution_count": 4,
   "id": "2ce01fde",
   "metadata": {},
   "outputs": [],
   "source": [
    "pathlib.Path(SAVE_FOLDER).mkdir(exist_ok=True)"
   ]
  },
  {
   "cell_type": "markdown",
   "id": "515c3e35",
   "metadata": {},
   "source": [
    "**Import raw data**"
   ]
  },
  {
   "cell_type": "code",
   "execution_count": 5,
   "id": "ec5845d1",
   "metadata": {},
   "outputs": [
    {
     "data": {
      "text/html": [
       "<div>\n",
       "<style scoped>\n",
       "    .dataframe tbody tr th:only-of-type {\n",
       "        vertical-align: middle;\n",
       "    }\n",
       "\n",
       "    .dataframe tbody tr th {\n",
       "        vertical-align: top;\n",
       "    }\n",
       "\n",
       "    .dataframe thead th {\n",
       "        text-align: right;\n",
       "    }\n",
       "</style>\n",
       "<table border=\"1\" class=\"dataframe\">\n",
       "  <thead>\n",
       "    <tr style=\"text-align: right;\">\n",
       "      <th></th>\n",
       "      <th>id</th>\n",
       "      <th>keyword</th>\n",
       "      <th>location</th>\n",
       "      <th>text</th>\n",
       "      <th>target</th>\n",
       "    </tr>\n",
       "  </thead>\n",
       "  <tbody>\n",
       "    <tr>\n",
       "      <th>0</th>\n",
       "      <td>1</td>\n",
       "      <td>NaN</td>\n",
       "      <td>NaN</td>\n",
       "      <td>Our Deeds are the Reason of this #earthquake M...</td>\n",
       "      <td>1</td>\n",
       "    </tr>\n",
       "    <tr>\n",
       "      <th>1</th>\n",
       "      <td>4</td>\n",
       "      <td>NaN</td>\n",
       "      <td>NaN</td>\n",
       "      <td>Forest fire near La Ronge Sask. Canada</td>\n",
       "      <td>1</td>\n",
       "    </tr>\n",
       "  </tbody>\n",
       "</table>\n",
       "</div>"
      ],
      "text/plain": [
       "   id keyword location                                               text   \n",
       "0   1     NaN      NaN  Our Deeds are the Reason of this #earthquake M...  \\\n",
       "1   4     NaN      NaN             Forest fire near La Ronge Sask. Canada   \n",
       "\n",
       "   target  \n",
       "0       1  \n",
       "1       1  "
      ]
     },
     "execution_count": 5,
     "metadata": {},
     "output_type": "execute_result"
    }
   ],
   "source": [
    "RAW_TRAIN = pd.read_csv(TRAIN_PATH)\n",
    "RAW_TRAIN.head(2)"
   ]
  },
  {
   "cell_type": "markdown",
   "id": "a15db3e3",
   "metadata": {},
   "source": [
    "**Apply a standard text cleaning pipeline**"
   ]
  },
  {
   "cell_type": "code",
   "execution_count": 6,
   "id": "b8b85b4a",
   "metadata": {},
   "outputs": [],
   "source": [
    "cleanPipe = stdPipeHelp.loadTextPreprocPipeA()\n",
    "PROC_DATA = cleanPipe.fit_transform(RAW_TRAIN)"
   ]
  },
  {
   "cell_type": "markdown",
   "id": "ada0e664",
   "metadata": {},
   "source": [
    "**Shuffle the frame**"
   ]
  },
  {
   "cell_type": "code",
   "execution_count": 7,
   "id": "06e592b6",
   "metadata": {},
   "outputs": [],
   "source": [
    "PROC_DATA = PROC_DATA.sample(frac=1.0)"
   ]
  },
  {
   "cell_type": "code",
   "execution_count": 8,
   "id": "aebadee3",
   "metadata": {},
   "outputs": [
    {
     "data": {
      "text/html": [
       "<div>\n",
       "<style scoped>\n",
       "    .dataframe tbody tr th:only-of-type {\n",
       "        vertical-align: middle;\n",
       "    }\n",
       "\n",
       "    .dataframe tbody tr th {\n",
       "        vertical-align: top;\n",
       "    }\n",
       "\n",
       "    .dataframe thead th {\n",
       "        text-align: right;\n",
       "    }\n",
       "</style>\n",
       "<table border=\"1\" class=\"dataframe\">\n",
       "  <thead>\n",
       "    <tr style=\"text-align: right;\">\n",
       "      <th></th>\n",
       "      <th>id</th>\n",
       "      <th>keyword</th>\n",
       "      <th>location</th>\n",
       "      <th>text</th>\n",
       "      <th>target</th>\n",
       "    </tr>\n",
       "  </thead>\n",
       "  <tbody>\n",
       "    <tr>\n",
       "      <th>663</th>\n",
       "      <td>958</td>\n",
       "      <td>blaze</td>\n",
       "      <td>Mo.City</td>\n",
       "      <td>@beautiful_juic1 just letting you know</td>\n",
       "      <td>0</td>\n",
       "    </tr>\n",
       "    <tr>\n",
       "      <th>2086</th>\n",
       "      <td>2998</td>\n",
       "      <td>dead</td>\n",
       "      <td>NaN</td>\n",
       "      <td>@atchisonsean he is dead</td>\n",
       "      <td>0</td>\n",
       "    </tr>\n",
       "  </tbody>\n",
       "</table>\n",
       "</div>"
      ],
      "text/plain": [
       "        id keyword location                                    text  target\n",
       "663    958   blaze  Mo.City  @beautiful_juic1 just letting you know       0\n",
       "2086  2998    dead      NaN                @atchisonsean he is dead       0"
      ]
     },
     "execution_count": 8,
     "metadata": {},
     "output_type": "execute_result"
    }
   ],
   "source": [
    "PROC_DATA.head(2)"
   ]
  },
  {
   "cell_type": "markdown",
   "id": "c92a4a8a",
   "metadata": {},
   "source": [
    "**Create frames for each dimensionality of embedding**"
   ]
  },
  {
   "cell_type": "code",
   "execution_count": 9,
   "id": "d44b0cf6",
   "metadata": {},
   "outputs": [
    {
     "name": "stdout",
     "output_type": "stream",
     "text": [
      " "
     ]
    }
   ],
   "source": [
    "%%prun\n",
    "#7598209 function calls in 22.405 seconds\n",
    "_embedPaths = [ os.path.join(_rawDataFolder, \"glove.twitter.27B.{}d.txt\".format(x)) for x in GLOVE_DIMS ]\n",
    "_EMBED_DICTS = [miscUtilHelp.getGloveVectorsFromPath(inpPath) for inpPath in _embedPaths]"
   ]
  },
  {
   "cell_type": "code",
   "execution_count": 10,
   "id": "af0bfd95",
   "metadata": {},
   "outputs": [],
   "source": [
    "ALL_FRAMES = list()\n",
    "for _embedDict in _EMBED_DICTS:\n",
    "    _embedPipeline = stdPipeHelp.loadGloveTransformsPipeA(_embedDict)\n",
    "    _currFrame = _embedPipeline.transform(PROC_DATA.copy())\n",
    "    ALL_FRAMES.append(_currFrame)"
   ]
  },
  {
   "cell_type": "code",
   "execution_count": 11,
   "id": "3c07876c",
   "metadata": {},
   "outputs": [
    {
     "data": {
      "text/html": [
       "<div>\n",
       "<style scoped>\n",
       "    .dataframe tbody tr th:only-of-type {\n",
       "        vertical-align: middle;\n",
       "    }\n",
       "\n",
       "    .dataframe tbody tr th {\n",
       "        vertical-align: top;\n",
       "    }\n",
       "\n",
       "    .dataframe thead th {\n",
       "        text-align: right;\n",
       "    }\n",
       "</style>\n",
       "<table border=\"1\" class=\"dataframe\">\n",
       "  <thead>\n",
       "    <tr style=\"text-align: right;\">\n",
       "      <th></th>\n",
       "      <th>id</th>\n",
       "      <th>keyword</th>\n",
       "      <th>location</th>\n",
       "      <th>text</th>\n",
       "      <th>target</th>\n",
       "      <th>max_enc_0</th>\n",
       "      <th>max_enc_1</th>\n",
       "      <th>max_enc_2</th>\n",
       "      <th>max_enc_3</th>\n",
       "      <th>max_enc_4</th>\n",
       "      <th>...</th>\n",
       "      <th>mean_enc_15</th>\n",
       "      <th>mean_enc_16</th>\n",
       "      <th>mean_enc_17</th>\n",
       "      <th>mean_enc_18</th>\n",
       "      <th>mean_enc_19</th>\n",
       "      <th>mean_enc_20</th>\n",
       "      <th>mean_enc_21</th>\n",
       "      <th>mean_enc_22</th>\n",
       "      <th>mean_enc_23</th>\n",
       "      <th>mean_enc_24</th>\n",
       "    </tr>\n",
       "  </thead>\n",
       "  <tbody>\n",
       "    <tr>\n",
       "      <th>663</th>\n",
       "      <td>958</td>\n",
       "      <td>blaze</td>\n",
       "      <td>Mo.City</td>\n",
       "      <td>@beautiful_juic1 just letting you know</td>\n",
       "      <td>0</td>\n",
       "      <td>0.30260</td>\n",
       "      <td>1.5634</td>\n",
       "      <td>0.49681</td>\n",
       "      <td>0.65891</td>\n",
       "      <td>0.0</td>\n",
       "      <td>...</td>\n",
       "      <td>0.328964</td>\n",
       "      <td>0.240285</td>\n",
       "      <td>-0.739515</td>\n",
       "      <td>0.101460</td>\n",
       "      <td>-0.600307</td>\n",
       "      <td>0.600025</td>\n",
       "      <td>0.369602</td>\n",
       "      <td>0.101965</td>\n",
       "      <td>0.423355</td>\n",
       "      <td>-0.609163</td>\n",
       "    </tr>\n",
       "    <tr>\n",
       "      <th>2086</th>\n",
       "      <td>2998</td>\n",
       "      <td>dead</td>\n",
       "      <td>NaN</td>\n",
       "      <td>@atchisonsean he is dead</td>\n",
       "      <td>0</td>\n",
       "      <td>0.48301</td>\n",
       "      <td>0.3220</td>\n",
       "      <td>0.80542</td>\n",
       "      <td>0.19205</td>\n",
       "      <td>0.0</td>\n",
       "      <td>...</td>\n",
       "      <td>0.283317</td>\n",
       "      <td>0.349648</td>\n",
       "      <td>0.561750</td>\n",
       "      <td>-0.540043</td>\n",
       "      <td>-0.311870</td>\n",
       "      <td>0.671617</td>\n",
       "      <td>0.742180</td>\n",
       "      <td>0.297840</td>\n",
       "      <td>0.043673</td>\n",
       "      <td>0.129747</td>\n",
       "    </tr>\n",
       "  </tbody>\n",
       "</table>\n",
       "<p>2 rows × 80 columns</p>\n",
       "</div>"
      ],
      "text/plain": [
       "        id keyword location                                    text  target   \n",
       "663    958   blaze  Mo.City  @beautiful_juic1 just letting you know       0  \\\n",
       "2086  2998    dead      NaN                @atchisonsean he is dead       0   \n",
       "\n",
       "      max_enc_0  max_enc_1  max_enc_2  max_enc_3  max_enc_4  ...  mean_enc_15   \n",
       "663     0.30260     1.5634    0.49681    0.65891        0.0  ...     0.328964  \\\n",
       "2086    0.48301     0.3220    0.80542    0.19205        0.0  ...     0.283317   \n",
       "\n",
       "      mean_enc_16  mean_enc_17  mean_enc_18  mean_enc_19  mean_enc_20   \n",
       "663      0.240285    -0.739515     0.101460    -0.600307     0.600025  \\\n",
       "2086     0.349648     0.561750    -0.540043    -0.311870     0.671617   \n",
       "\n",
       "      mean_enc_21  mean_enc_22  mean_enc_23  mean_enc_24  \n",
       "663      0.369602     0.101965     0.423355    -0.609163  \n",
       "2086     0.742180     0.297840     0.043673     0.129747  \n",
       "\n",
       "[2 rows x 80 columns]"
      ]
     },
     "execution_count": 11,
     "metadata": {},
     "output_type": "execute_result"
    }
   ],
   "source": [
    "ALL_FRAMES[0].head(2)"
   ]
  },
  {
   "cell_type": "markdown",
   "id": "04e36284",
   "metadata": {},
   "source": [
    "**Create a function to run (or load previously run results) for a grid search over n-dims and c-values**"
   ]
  },
  {
   "cell_type": "code",
   "execution_count": 12,
   "id": "c17d0304",
   "metadata": {},
   "outputs": [],
   "source": [
    "def getGridSearchResults(prefixFeats, outPath, rerun=True, scaleVals=False):\n",
    "    if scaleVals:\n",
    "        trainPipe = trainPipeHelp.StandardScaler(ignoreCols=[\"target\",\"text\",\"keyword\", \"location\"])\n",
    "    else:\n",
    "        trainPipe = None\n",
    "\n",
    "    if rerun:\n",
    "        #\n",
    "        outResults = np.zeros( (len(GLOVE_DIMS),len(C_VALS)) )\n",
    "        for dimIdx,gloveFrame in enumerate(ALL_FRAMES):\n",
    "            for cIdx, cVal in enumerate(C_VALS):\n",
    "                _currKwargs = {\"featPrefix\":prefixFeats, \"C\":cVal,\n",
    "                               \"trainPipe\":trainPipe, \"modelKwargs\":{\"max_iter\":1000}}\n",
    "                model = modelWrapHelp.LogRegressionClassifier(feats=list(), **_currKwargs)\n",
    "                outResults[dimIdx][cIdx] = np.mean(sk.model_selection.cross_val_score(model, gloveFrame))\n",
    "\n",
    "        #\n",
    "        with open(outPath,\"wt\") as f:\n",
    "            json.dump(outResults.tolist(),f)\n",
    "    \n",
    "    else:\n",
    "        with open(outPath,\"rt\") as f:\n",
    "            outResults = np.array(json.load(f))\n",
    "    \n",
    "    return outResults\n",
    "            "
   ]
  },
  {
   "cell_type": "markdown",
   "id": "fea7a40e",
   "metadata": {},
   "source": [
    "**Run grid searchs with a few options for mapping a list of embedding vectors to a single vector**"
   ]
  },
  {
   "cell_type": "code",
   "execution_count": 13,
   "id": "c66b062f",
   "metadata": {},
   "outputs": [],
   "source": [
    "#\n",
    "_prefixFeatsAndOutPaths = [ ([\"min_\"] , os.path.join(SAVE_FOLDER, \"min_grid.json\")),\n",
    "                            ([\"max_\"] , os.path.join(SAVE_FOLDER, \"max_grid.json\")),\n",
    "                            ([\"mean_\"], os.path.join(SAVE_FOLDER, \"mean_grid.json\")),\n",
    "                            ([\"min_\",\"max_\",\"mean_\"], os.path.join(SAVE_FOLDER, \"min_max_mean.json\"))\n",
    "                          ]\n",
    "\n",
    "SCORE_GRIDS = list()\n",
    "\n",
    "for prefixes,outPath in _prefixFeatsAndOutPaths:\n",
    "    _currScores = getGridSearchResults(prefixes, outPath, rerun=RERUN_HP_SEARCH, scaleVals=False)\n",
    "    SCORE_GRIDS.append(_currScores)\n",
    "    \n",
    "    \n",
    "    "
   ]
  },
  {
   "cell_type": "markdown",
   "id": "dd12039e",
   "metadata": {},
   "source": [
    "**Visualize the grid search results**"
   ]
  },
  {
   "cell_type": "code",
   "execution_count": 43,
   "id": "2854df57",
   "metadata": {},
   "outputs": [
    {
     "data": {
      "image/png": "[encoded data removed]",
      "text/plain": [
       "<Figure size 700x500 with 8 Axes>"
      ]
     },
     "metadata": {},
     "output_type": "display_data"
    }
   ],
   "source": [
    "#Create a template heatmap plotter\n",
    "_maxColor = max([np.max(x) for x in SCORE_GRIDS])\n",
    "_minColor = min([np.min(x) for x in SCORE_GRIDS])\n",
    "_currKwargs = {\"annotateVals\":True,\n",
    "               \"colorBarShow\":True,\n",
    "               \"colorMapMaxVal\":_maxColor,\n",
    "               \"colorMapMinVal\":_minColor,\n",
    "               \"groupLabelsCols\":[\"{:.0e}\".format(x) for x in C_VALS],\n",
    "               \"groupLabelsColsRotation\":45,\n",
    "               \"groupLabelsRows\":GLOVE_DIMS,\n",
    "               \"xLabelStr\":\"C-Value\",\n",
    "               \"yLabelStr\":\"N-GloVe Dimensions\"\n",
    "              }\n",
    "heatmapTemplate = ppl.DiscreteHeatMapPlotter(**_currKwargs)\n",
    "\n",
    "\n",
    "#Get individual discrete heat maps\n",
    "plotters = list()\n",
    "for (prefixes,_unused), scoreGrid in zip(_prefixFeatsAndOutPaths,SCORE_GRIDS):\n",
    "    _titleStr = \"Features = \" + \",\".join([x.replace(\"_\",\"\") for x in prefixes])\n",
    "    _currKwargs = {\"plotData\":scoreGrid, \"titleStr\":_titleStr}\n",
    "    _currPlotter = heatmapTemplate.createFactory(**_currKwargs)\n",
    "    plotters.append(_currPlotter)\n",
    "\n",
    "#Remove y-axis label from all but one\n",
    "    \n",
    "#Plot heat maps in a grid\n",
    "_currKwargs = {\"constrainedLayout\":True,\n",
    "               \"figHeightPerRow\":2.5,\n",
    "               \"figWidthPerCol\":3.5,\n",
    "               \"nColsGrid\":2\n",
    "               }\n",
    "gridPlotter = ppl.RectMultiPlotter(**_currKwargs)\n",
    "\n",
    "_unused = gridPlotter.createPlot(plotters=plotters)"
   ]
  },
  {
   "cell_type": "markdown",
   "id": "ad10626a",
   "metadata": {},
   "source": [
    "**Some conclusions**"
   ]
  },
  {
   "cell_type": "markdown",
   "id": "6b997556",
   "metadata": {},
   "source": [
    "1) Using features for the minimum/maximum/mean embedding all together gives the best results\n",
    "\n",
    "2) If only mean XOR max XOR min are used, then the mean embedding gives the best results\n",
    "\n",
    "3) 25-dimensional GloVe vectors give worse results than 50/100 dimensional\n",
    "\n",
    "4) 100-dimensional vectors give similar (though sometimes slightly better) results than 50-dimensional"
   ]
  },
  {
   "cell_type": "markdown",
   "id": "6a2abb35",
   "metadata": {},
   "source": [
    "**Create a final model with the best hyperparameters**"
   ]
  },
  {
   "cell_type": "code",
   "execution_count": 48,
   "id": "f4e3021b",
   "metadata": {},
   "outputs": [],
   "source": [
    "cValue, useDims, usePrefixes = 1e-1, 100, [\"mean_\",\"max_\",\"min_\"]\n",
    "\n",
    "_useEmbedDict = _EMBED_DICTS[ GLOVE_DIMS.index(useDims) ]\n",
    "trainPipe = stdPipeHelp.loadGloveTransformsPipeA(_useEmbedDict)\n",
    "_currKwargs = {\"featPrefix\":usePrefixes, \"C\":cValue, \"modelKwargs\":{\"max_iter\":1000}, \"trainPipe\":trainPipe}\n",
    "MODEL = modelWrapHelp.LogRegressionClassifier(feats=list(), **_currKwargs)\n"
   ]
  },
  {
   "cell_type": "markdown",
   "id": "9a8a6a7b",
   "metadata": {},
   "source": [
    "**Have a quick look at the cross-val scores for training data**"
   ]
  },
  {
   "cell_type": "code",
   "execution_count": 50,
   "id": "ab131b93",
   "metadata": {},
   "outputs": [
    {
     "name": "stdout",
     "output_type": "stream",
     "text": [
      "[0.75229358 0.73269231 0.73586654 0.72267389 0.70103093]\n",
      "0.7289114500020141\n"
     ]
    }
   ],
   "source": [
    "cvScores = sk.model_selection.cross_val_score(MODEL, PROC_DATA)\n",
    "print(cvScores)\n",
    "print(np.mean(cvScores))"
   ]
  },
  {
   "cell_type": "markdown",
   "id": "895c06fd",
   "metadata": {},
   "source": [
    "**Retrain on the full dataset**"
   ]
  },
  {
   "cell_type": "code",
   "execution_count": 52,
   "id": "91b8490a",
   "metadata": {},
   "outputs": [
    {
     "data": {
      "text/html": [
       "<style>#sk-container-id-1 {color: black;background-color: white;}#sk-container-id-1 pre{padding: 0;}#sk-container-id-1 div.sk-toggleable {background-color: white;}#sk-container-id-1 label.sk-toggleable__label {cursor: pointer;display: block;width: 100%;margin-bottom: 0;padding: 0.3em;box-sizing: border-box;text-align: center;}#sk-container-id-1 label.sk-toggleable__label-arrow:before {content: \"▸\";float: left;margin-right: 0.25em;color: #696969;}#sk-container-id-1 label.sk-toggleable__label-arrow:hover:before {color: black;}#sk-container-id-1 div.sk-estimator:hover label.sk-toggleable__label-arrow:before {color: black;}#sk-container-id-1 div.sk-toggleable__content {max-height: 0;max-width: 0;overflow: hidden;text-align: left;background-color: #f0f8ff;}#sk-container-id-1 div.sk-toggleable__content pre {margin: 0.2em;color: black;border-radius: 0.25em;background-color: #f0f8ff;}#sk-container-id-1 input.sk-toggleable__control:checked~div.sk-toggleable__content {max-height: 200px;max-width: 100%;overflow: auto;}#sk-container-id-1 input.sk-toggleable__control:checked~label.sk-toggleable__label-arrow:before {content: \"▾\";}#sk-container-id-1 div.sk-estimator input.sk-toggleable__control:checked~label.sk-toggleable__label {background-color: #d4ebff;}#sk-container-id-1 div.sk-label input.sk-toggleable__control:checked~label.sk-toggleable__label {background-color: #d4ebff;}#sk-container-id-1 input.sk-hidden--visually {border: 0;clip: rect(1px 1px 1px 1px);clip: rect(1px, 1px, 1px, 1px);height: 1px;margin: -1px;overflow: hidden;padding: 0;position: absolute;width: 1px;}#sk-container-id-1 div.sk-estimator {font-family: monospace;background-color: #f0f8ff;border: 1px dotted black;border-radius: 0.25em;box-sizing: border-box;margin-bottom: 0.5em;}#sk-container-id-1 div.sk-estimator:hover {background-color: #d4ebff;}#sk-container-id-1 div.sk-parallel-item::after {content: \"\";width: 100%;border-bottom: 1px solid gray;flex-grow: 1;}#sk-container-id-1 div.sk-label:hover label.sk-toggleable__label {background-color: #d4ebff;}#sk-container-id-1 div.sk-serial::before {content: \"\";position: absolute;border-left: 1px solid gray;box-sizing: border-box;top: 0;bottom: 0;left: 50%;z-index: 0;}#sk-container-id-1 div.sk-serial {display: flex;flex-direction: column;align-items: center;background-color: white;padding-right: 0.2em;padding-left: 0.2em;position: relative;}#sk-container-id-1 div.sk-item {position: relative;z-index: 1;}#sk-container-id-1 div.sk-parallel {display: flex;align-items: stretch;justify-content: center;background-color: white;position: relative;}#sk-container-id-1 div.sk-item::before, #sk-container-id-1 div.sk-parallel-item::before {content: \"\";position: absolute;border-left: 1px solid gray;box-sizing: border-box;top: 0;bottom: 0;left: 50%;z-index: -1;}#sk-container-id-1 div.sk-parallel-item {display: flex;flex-direction: column;z-index: 1;position: relative;background-color: white;}#sk-container-id-1 div.sk-parallel-item:first-child::after {align-self: flex-end;width: 50%;}#sk-container-id-1 div.sk-parallel-item:last-child::after {align-self: flex-start;width: 50%;}#sk-container-id-1 div.sk-parallel-item:only-child::after {width: 0;}#sk-container-id-1 div.sk-dashed-wrapped {border: 1px dashed gray;margin: 0 0.4em 0.5em 0.4em;box-sizing: border-box;padding-bottom: 0.4em;background-color: white;}#sk-container-id-1 div.sk-label label {font-family: monospace;font-weight: bold;display: inline-block;line-height: 1.2em;}#sk-container-id-1 div.sk-label-container {text-align: center;}#sk-container-id-1 div.sk-container {/* jupyter's `normalize.less` sets `[hidden] { display: none; }` but bootstrap.min.css set `[hidden] { display: none !important; }` so we also need the `!important` here to be able to override the default hidden behavior on the sphinx rendered scikit-learn.org. See: https://github.com/scikit-learn/scikit-learn/issues/21755 */display: inline-block !important;position: relative;}#sk-container-id-1 div.sk-text-repr-fallback {display: none;}</style><div id=\"sk-container-id-1\" class=\"sk-top-container\"><div class=\"sk-text-repr-fallback\"><pre>LogRegressionClassifier(C=0.1, featPrefix=[&#x27;mean_&#x27;, &#x27;max_&#x27;, &#x27;min_&#x27;], feats=[],\n",
       "                        modelKwargs={&#x27;max_iter&#x27;: 1000}, penalty=&#x27;l2&#x27;,\n",
       "                        trainPipe=Pipeline(steps=[(&#x27;Add min-GloVe embeddings&#x27;,\n",
       "                                                   &lt;train_pipes.CreateMaxSentenceEncodings object at 0x7f1f2c7de950&gt;),\n",
       "                                                  (&#x27;Add max-GloVe embeddings&#x27;,\n",
       "                                                   &lt;train_pipes.CreateMinSentenceEncodings object at 0x7f1f2c7dd7b0&gt;),\n",
       "                                                  (&#x27;Add mean-GloVe embeddings&#x27;,\n",
       "                                                   &lt;train_pipes.CreateMeanSentenceEncodings object at 0x7f1f2c7defe0&gt;)]))</pre><b>In a Jupyter environment, please rerun this cell to show the HTML representation or trust the notebook. <br />On GitHub, the HTML representation is unable to render, please try loading this page with nbviewer.org.</b></div><div class=\"sk-container\" hidden><div class=\"sk-item sk-dashed-wrapped\"><div class=\"sk-label-container\"><div class=\"sk-label sk-toggleable\"><input class=\"sk-toggleable__control sk-hidden--visually\" id=\"sk-estimator-id-1\" type=\"checkbox\" ><label for=\"sk-estimator-id-1\" class=\"sk-toggleable__label sk-toggleable__label-arrow\">LogRegressionClassifier</label><div class=\"sk-toggleable__content\"><pre>LogRegressionClassifier(C=0.1, featPrefix=[&#x27;mean_&#x27;, &#x27;max_&#x27;, &#x27;min_&#x27;], feats=[],\n",
       "                        modelKwargs={&#x27;max_iter&#x27;: 1000}, penalty=&#x27;l2&#x27;,\n",
       "                        trainPipe=Pipeline(steps=[(&#x27;Add min-GloVe embeddings&#x27;,\n",
       "                                                   &lt;train_pipes.CreateMaxSentenceEncodings object at 0x7f1f2c7de950&gt;),\n",
       "                                                  (&#x27;Add max-GloVe embeddings&#x27;,\n",
       "                                                   &lt;train_pipes.CreateMinSentenceEncodings object at 0x7f1f2c7dd7b0&gt;),\n",
       "                                                  (&#x27;Add mean-GloVe embeddings&#x27;,\n",
       "                                                   &lt;train_pipes.CreateMeanSentenceEncodings object at 0x7f1f2c7defe0&gt;)]))</pre></div></div></div><div class=\"sk-parallel\"><div class=\"sk-parallel-item\"><div class=\"sk-item\"><div class=\"sk-label-container\"><div class=\"sk-label sk-toggleable\"><input class=\"sk-toggleable__control sk-hidden--visually\" id=\"sk-estimator-id-2\" type=\"checkbox\" ><label for=\"sk-estimator-id-2\" class=\"sk-toggleable__label sk-toggleable__label-arrow\">trainPipe: Pipeline</label><div class=\"sk-toggleable__content\"><pre>Pipeline(steps=[(&#x27;Add min-GloVe embeddings&#x27;,\n",
       "                 &lt;train_pipes.CreateMaxSentenceEncodings object at 0x7f1f2c7de950&gt;),\n",
       "                (&#x27;Add max-GloVe embeddings&#x27;,\n",
       "                 &lt;train_pipes.CreateMinSentenceEncodings object at 0x7f1f2c7dd7b0&gt;),\n",
       "                (&#x27;Add mean-GloVe embeddings&#x27;,\n",
       "                 &lt;train_pipes.CreateMeanSentenceEncodings object at 0x7f1f2c7defe0&gt;)])</pre></div></div></div><div class=\"sk-serial\"><div class=\"sk-item\"><div class=\"sk-serial\"><div class=\"sk-item\"><div class=\"sk-estimator sk-toggleable\"><input class=\"sk-toggleable__control sk-hidden--visually\" id=\"sk-estimator-id-3\" type=\"checkbox\" ><label for=\"sk-estimator-id-3\" class=\"sk-toggleable__label sk-toggleable__label-arrow\">CreateMaxSentenceEncodings</label><div class=\"sk-toggleable__content\"><pre>&lt;train_pipes.CreateMaxSentenceEncodings object at 0x7f1f2c7de950&gt;</pre></div></div></div><div class=\"sk-item\"><div class=\"sk-estimator sk-toggleable\"><input class=\"sk-toggleable__control sk-hidden--visually\" id=\"sk-estimator-id-4\" type=\"checkbox\" ><label for=\"sk-estimator-id-4\" class=\"sk-toggleable__label sk-toggleable__label-arrow\">CreateMinSentenceEncodings</label><div class=\"sk-toggleable__content\"><pre>&lt;train_pipes.CreateMinSentenceEncodings object at 0x7f1f2c7dd7b0&gt;</pre></div></div></div><div class=\"sk-item\"><div class=\"sk-estimator sk-toggleable\"><input class=\"sk-toggleable__control sk-hidden--visually\" id=\"sk-estimator-id-5\" type=\"checkbox\" ><label for=\"sk-estimator-id-5\" class=\"sk-toggleable__label sk-toggleable__label-arrow\">CreateMeanSentenceEncodings</label><div class=\"sk-toggleable__content\"><pre>&lt;train_pipes.CreateMeanSentenceEncodings object at 0x7f1f2c7defe0&gt;</pre></div></div></div></div></div></div></div></div></div></div></div></div>"
      ],
      "text/plain": [
       "LogRegressionClassifier(C=0.1, featPrefix=['mean_', 'max_', 'min_'], feats=[],\n",
       "                        modelKwargs={'max_iter': 1000}, penalty='l2',\n",
       "                        trainPipe=Pipeline(steps=[('Add min-GloVe embeddings',\n",
       "                                                   <train_pipes.CreateMaxSentenceEncodings object at 0x7f1f2c7de950>),\n",
       "                                                  ('Add max-GloVe embeddings',\n",
       "                                                   <train_pipes.CreateMinSentenceEncodings object at 0x7f1f2c7dd7b0>),\n",
       "                                                  ('Add mean-GloVe embeddings',\n",
       "                                                   <train_pipes.CreateMeanSentenceEncodings object at 0x7f1f2c7defe0>)]))"
      ]
     },
     "execution_count": 52,
     "metadata": {},
     "output_type": "execute_result"
    }
   ],
   "source": [
    "MODEL.fit(PROC_DATA)"
   ]
  },
  {
   "cell_type": "markdown",
   "id": "27a5e415",
   "metadata": {},
   "source": [
    "**Double check our output model has good accuracy on the train set**"
   ]
  },
  {
   "cell_type": "code",
   "execution_count": 53,
   "id": "c601a65f",
   "metadata": {},
   "outputs": [],
   "source": [
    "trainPred = MODEL.predict(PROC_DATA)\n",
    "_deltaVals = [ abs(pred-act) for pred,act in zip(trainPred,PROC_DATA[\"target\"].to_numpy()) ]\n",
    "trainAcc = (len(_deltaVals)-sum(_deltaVals)) / len(_deltaVals)"
   ]
  },
  {
   "cell_type": "code",
   "execution_count": 54,
   "id": "02949bf9",
   "metadata": {},
   "outputs": [
    {
     "name": "stdout",
     "output_type": "stream",
     "text": [
      "Training accuracy = 0.811326164874552\n"
     ]
    }
   ],
   "source": [
    "print(\"Training accuracy = {}\".format(trainAcc))"
   ]
  },
  {
   "cell_type": "markdown",
   "id": "d31b17d9",
   "metadata": {},
   "source": [
    "**Apply the model to the test data set**"
   ]
  },
  {
   "cell_type": "code",
   "execution_count": 55,
   "id": "f15d699b",
   "metadata": {},
   "outputs": [
    {
     "data": {
      "text/html": [
       "<div>\n",
       "<style scoped>\n",
       "    .dataframe tbody tr th:only-of-type {\n",
       "        vertical-align: middle;\n",
       "    }\n",
       "\n",
       "    .dataframe tbody tr th {\n",
       "        vertical-align: top;\n",
       "    }\n",
       "\n",
       "    .dataframe thead th {\n",
       "        text-align: right;\n",
       "    }\n",
       "</style>\n",
       "<table border=\"1\" class=\"dataframe\">\n",
       "  <thead>\n",
       "    <tr style=\"text-align: right;\">\n",
       "      <th></th>\n",
       "      <th>id</th>\n",
       "      <th>keyword</th>\n",
       "      <th>location</th>\n",
       "      <th>text</th>\n",
       "    </tr>\n",
       "  </thead>\n",
       "  <tbody>\n",
       "    <tr>\n",
       "      <th>0</th>\n",
       "      <td>0</td>\n",
       "      <td>NaN</td>\n",
       "      <td>NaN</td>\n",
       "      <td>Just happened a terrible car crash</td>\n",
       "    </tr>\n",
       "    <tr>\n",
       "      <th>1</th>\n",
       "      <td>2</td>\n",
       "      <td>NaN</td>\n",
       "      <td>NaN</td>\n",
       "      <td>Heard about #earthquake is different cities, s...</td>\n",
       "    </tr>\n",
       "  </tbody>\n",
       "</table>\n",
       "</div>"
      ],
      "text/plain": [
       "   id keyword location                                               text\n",
       "0   0     NaN      NaN                 Just happened a terrible car crash\n",
       "1   2     NaN      NaN  Heard about #earthquake is different cities, s..."
      ]
     },
     "execution_count": 55,
     "metadata": {},
     "output_type": "execute_result"
    }
   ],
   "source": [
    "RAW_TEST = pd.read_csv(TEST_PATH)\n",
    "RAW_TEST.head(2)"
   ]
  },
  {
   "cell_type": "code",
   "execution_count": 57,
   "id": "87efece1",
   "metadata": {},
   "outputs": [
    {
     "data": {
      "text/html": [
       "<div>\n",
       "<style scoped>\n",
       "    .dataframe tbody tr th:only-of-type {\n",
       "        vertical-align: middle;\n",
       "    }\n",
       "\n",
       "    .dataframe tbody tr th {\n",
       "        vertical-align: top;\n",
       "    }\n",
       "\n",
       "    .dataframe thead th {\n",
       "        text-align: right;\n",
       "    }\n",
       "</style>\n",
       "<table border=\"1\" class=\"dataframe\">\n",
       "  <thead>\n",
       "    <tr style=\"text-align: right;\">\n",
       "      <th></th>\n",
       "      <th>id</th>\n",
       "      <th>keyword</th>\n",
       "      <th>location</th>\n",
       "      <th>text</th>\n",
       "      <th>target</th>\n",
       "    </tr>\n",
       "  </thead>\n",
       "  <tbody>\n",
       "    <tr>\n",
       "      <th>0</th>\n",
       "      <td>0</td>\n",
       "      <td>NaN</td>\n",
       "      <td>NaN</td>\n",
       "      <td>just happened a terrible car crash</td>\n",
       "      <td>1</td>\n",
       "    </tr>\n",
       "    <tr>\n",
       "      <th>1</th>\n",
       "      <td>2</td>\n",
       "      <td>NaN</td>\n",
       "      <td>NaN</td>\n",
       "      <td>heard about #earthquake is different cities , ...</td>\n",
       "      <td>1</td>\n",
       "    </tr>\n",
       "    <tr>\n",
       "      <th>2</th>\n",
       "      <td>3</td>\n",
       "      <td>NaN</td>\n",
       "      <td>NaN</td>\n",
       "      <td>there is a forest fire at spot pond , geese ar...</td>\n",
       "      <td>1</td>\n",
       "    </tr>\n",
       "    <tr>\n",
       "      <th>3</th>\n",
       "      <td>9</td>\n",
       "      <td>NaN</td>\n",
       "      <td>NaN</td>\n",
       "      <td>apocalypse lighting . #spokane #wildfires</td>\n",
       "      <td>1</td>\n",
       "    </tr>\n",
       "    <tr>\n",
       "      <th>4</th>\n",
       "      <td>11</td>\n",
       "      <td>NaN</td>\n",
       "      <td>NaN</td>\n",
       "      <td>typhoon soudelor kills 28 in china and taiwan</td>\n",
       "      <td>1</td>\n",
       "    </tr>\n",
       "    <tr>\n",
       "      <th>5</th>\n",
       "      <td>12</td>\n",
       "      <td>NaN</td>\n",
       "      <td>NaN</td>\n",
       "      <td>we are shaking . it is an earthquake</td>\n",
       "      <td>1</td>\n",
       "    </tr>\n",
       "    <tr>\n",
       "      <th>6</th>\n",
       "      <td>21</td>\n",
       "      <td>NaN</td>\n",
       "      <td>NaN</td>\n",
       "      <td>they ' d probably still show more life than ar...</td>\n",
       "      <td>0</td>\n",
       "    </tr>\n",
       "    <tr>\n",
       "      <th>7</th>\n",
       "      <td>22</td>\n",
       "      <td>NaN</td>\n",
       "      <td>NaN</td>\n",
       "      <td>hey ! how are you ?</td>\n",
       "      <td>0</td>\n",
       "    </tr>\n",
       "  </tbody>\n",
       "</table>\n",
       "</div>"
      ],
      "text/plain": [
       "   id keyword location                                               text   \n",
       "0   0     NaN      NaN                 just happened a terrible car crash  \\\n",
       "1   2     NaN      NaN  heard about #earthquake is different cities , ...   \n",
       "2   3     NaN      NaN  there is a forest fire at spot pond , geese ar...   \n",
       "3   9     NaN      NaN          apocalypse lighting . #spokane #wildfires   \n",
       "4  11     NaN      NaN      typhoon soudelor kills 28 in china and taiwan   \n",
       "5  12     NaN      NaN               we are shaking . it is an earthquake   \n",
       "6  21     NaN      NaN  they ' d probably still show more life than ar...   \n",
       "7  22     NaN      NaN                                hey ! how are you ?   \n",
       "\n",
       "   target  \n",
       "0       1  \n",
       "1       1  \n",
       "2       1  \n",
       "3       1  \n",
       "4       1  \n",
       "5       1  \n",
       "6       0  \n",
       "7       0  "
      ]
     },
     "execution_count": 57,
     "metadata": {},
     "output_type": "execute_result"
    }
   ],
   "source": [
    "testCleanPipe = stdPipeHelp.loadTextPreprocPipeA(removeDuplicateTweets=False)\n",
    "testCleanPipe.fit(RAW_TRAIN)\n",
    "\n",
    "#\n",
    "PROC_TEST = testCleanPipe.transform(RAW_TEST)\n",
    "PROC_TEST[\"target\"] = MODEL.predict(PROC_TEST)\n",
    "PROC_TEST.head(8)"
   ]
  },
  {
   "cell_type": "markdown",
   "id": "db666dbe",
   "metadata": {},
   "source": [
    "**Write our predictions to file in the correct format**"
   ]
  },
  {
   "cell_type": "markdown",
   "id": "f7964012",
   "metadata": {},
   "source": [
    "Kaggle Score = 0.79436"
   ]
  },
  {
   "cell_type": "code",
   "execution_count": 58,
   "id": "d81ceada",
   "metadata": {},
   "outputs": [],
   "source": [
    "outFrame = PROC_TEST[[\"id\",\"target\"]]\n",
    "outFrame.to_csv(SUBMISSIONS_PATH, index=False)"
   ]
  },
  {
   "cell_type": "code",
   "execution_count": 59,
   "id": "79233e44",
   "metadata": {},
   "outputs": [
    {
     "data": {
      "text/html": [
       "<div>\n",
       "<style scoped>\n",
       "    .dataframe tbody tr th:only-of-type {\n",
       "        vertical-align: middle;\n",
       "    }\n",
       "\n",
       "    .dataframe tbody tr th {\n",
       "        vertical-align: top;\n",
       "    }\n",
       "\n",
       "    .dataframe thead th {\n",
       "        text-align: right;\n",
       "    }\n",
       "</style>\n",
       "<table border=\"1\" class=\"dataframe\">\n",
       "  <thead>\n",
       "    <tr style=\"text-align: right;\">\n",
       "      <th></th>\n",
       "      <th>id</th>\n",
       "      <th>target</th>\n",
       "    </tr>\n",
       "  </thead>\n",
       "  <tbody>\n",
       "    <tr>\n",
       "      <th>0</th>\n",
       "      <td>0</td>\n",
       "      <td>1</td>\n",
       "    </tr>\n",
       "    <tr>\n",
       "      <th>1</th>\n",
       "      <td>2</td>\n",
       "      <td>1</td>\n",
       "    </tr>\n",
       "    <tr>\n",
       "      <th>2</th>\n",
       "      <td>3</td>\n",
       "      <td>1</td>\n",
       "    </tr>\n",
       "    <tr>\n",
       "      <th>3</th>\n",
       "      <td>9</td>\n",
       "      <td>1</td>\n",
       "    </tr>\n",
       "    <tr>\n",
       "      <th>4</th>\n",
       "      <td>11</td>\n",
       "      <td>1</td>\n",
       "    </tr>\n",
       "    <tr>\n",
       "      <th>...</th>\n",
       "      <td>...</td>\n",
       "      <td>...</td>\n",
       "    </tr>\n",
       "    <tr>\n",
       "      <th>3258</th>\n",
       "      <td>10861</td>\n",
       "      <td>1</td>\n",
       "    </tr>\n",
       "    <tr>\n",
       "      <th>3259</th>\n",
       "      <td>10865</td>\n",
       "      <td>1</td>\n",
       "    </tr>\n",
       "    <tr>\n",
       "      <th>3260</th>\n",
       "      <td>10868</td>\n",
       "      <td>1</td>\n",
       "    </tr>\n",
       "    <tr>\n",
       "      <th>3261</th>\n",
       "      <td>10874</td>\n",
       "      <td>1</td>\n",
       "    </tr>\n",
       "    <tr>\n",
       "      <th>3262</th>\n",
       "      <td>10875</td>\n",
       "      <td>0</td>\n",
       "    </tr>\n",
       "  </tbody>\n",
       "</table>\n",
       "<p>3263 rows × 2 columns</p>\n",
       "</div>"
      ],
      "text/plain": [
       "         id  target\n",
       "0         0       1\n",
       "1         2       1\n",
       "2         3       1\n",
       "3         9       1\n",
       "4        11       1\n",
       "...     ...     ...\n",
       "3258  10861       1\n",
       "3259  10865       1\n",
       "3260  10868       1\n",
       "3261  10874       1\n",
       "3262  10875       0\n",
       "\n",
       "[3263 rows x 2 columns]"
      ]
     },
     "execution_count": 59,
     "metadata": {},
     "output_type": "execute_result"
    }
   ],
   "source": [
    "outFrame"
   ]
  },
  {
   "cell_type": "code",
   "execution_count": null,
   "id": "2d30aa07",
   "metadata": {},
   "outputs": [],
   "source": []
  }
 ],
 "metadata": {
  "kernelspec": {
   "display_name": "Python 3 (ipykernel)",
   "language": "python",
   "name": "python3"
  },
  "language_info": {
   "codemirror_mode": {
    "name": "ipython",
    "version": 3
   },
   "file_extension": ".py",
   "mimetype": "text/x-python",
   "name": "python",
   "nbconvert_exporter": "python",
   "pygments_lexer": "ipython3",
   "version": "3.10.6"
  }
 },
 "nbformat": 4,
 "nbformat_minor": 5
}
