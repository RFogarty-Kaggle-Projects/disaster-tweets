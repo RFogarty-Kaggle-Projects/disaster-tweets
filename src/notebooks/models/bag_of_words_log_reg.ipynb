{
 "cells": [
  {
   "cell_type": "markdown",
   "id": "245dd359",
   "metadata": {},
   "source": [
    "Notebook for using a bag-of-words representation with a Logistic Regression model"
   ]
  },
  {
   "cell_type": "markdown",
   "id": "7510c719",
   "metadata": {},
   "source": [
    "**Imports**"
   ]
  },
  {
   "cell_type": "code",
   "execution_count": 1,
   "id": "e34528f7",
   "metadata": {},
   "outputs": [
    {
     "name": "stderr",
     "output_type": "stream",
     "text": [
      "2023-04-22 16:51:14.556996: I tensorflow/core/util/port.cc:110] oneDNN custom operations are on. You may see slightly different numerical results due to floating-point round-off errors from different computation orders. To turn them off, set the environment variable `TF_ENABLE_ONEDNN_OPTS=0`.\n",
      "2023-04-22 16:51:14.558348: I tensorflow/tsl/cuda/cudart_stub.cc:28] Could not find cuda drivers on your machine, GPU will not be used.\n",
      "2023-04-22 16:51:14.581831: I tensorflow/tsl/cuda/cudart_stub.cc:28] Could not find cuda drivers on your machine, GPU will not be used.\n",
      "2023-04-22 16:51:14.582353: I tensorflow/core/platform/cpu_feature_guard.cc:182] This TensorFlow binary is optimized to use available CPU instructions in performance-critical operations.\n",
      "To enable the following instructions: AVX2 AVX_VNNI FMA, in other operations, rebuild TensorFlow with the appropriate compiler flags.\n",
      "2023-04-22 16:51:14.980823: W tensorflow/compiler/tf2tensorrt/utils/py_utils.cc:38] TF-TRT Warning: Could not find TensorRT\n"
     ]
    }
   ],
   "source": [
    "\n",
    "import os\n",
    "import json\n",
    "import pathlib\n",
    "\n",
    "import numpy as np\n",
    "import pandas as pd\n",
    "import sklearn as sk\n",
    "\n",
    "import pyplotterlib.standard.plotters as ppl\n",
    "\n",
    "import shared_code_path\n",
    "import model_wrappers as modelWrapHelp\n",
    "import standard_pipes as stdPipeHelp\n",
    "import train_pipes as trainPipeHelp"
   ]
  },
  {
   "cell_type": "markdown",
   "id": "f36696cb",
   "metadata": {},
   "source": [
    "**Configuration Variables**"
   ]
  },
  {
   "cell_type": "code",
   "execution_count": 2,
   "id": "8315d356",
   "metadata": {},
   "outputs": [],
   "source": [
    "#\n",
    "TRAIN_PATH = os.path.abspath( os.path.join(\"..\",\"..\",\"..\",\"raw_data\",\"train.csv\") )\n",
    "TEST_PATH = os.path.abspath( os.path.join(\"..\",\"..\",\"..\",\"raw_data\",\"test.csv\") )\n",
    "\n",
    "#\n",
    "SAVE_FOLDER = os.path.abspath( \"bow_lr_save_folder\" )\n",
    "SUBMISSIONS_PATH = os.path.join(SAVE_FOLDER, \"submissions.csv\")\n",
    "\n",
    "#Can take a couple of minutes processing time to rerun; so preferably avoided\n",
    "RERUN_HP_SEARCH = False\n",
    "PATH_NGRAMS_1 = os.path.join(SAVE_FOLDER, \"scores_ngrams_1.json\")\n",
    "PATH_NGRAMS_2 = os.path.join(SAVE_FOLDER, \"scores_ngrams_2.json\")\n",
    "PATH_MAX_DF = os.path.join(SAVE_FOLDER, \"scores_max_df.json\")\n",
    "\n",
    "\n",
    "#Hyperparameters to do a grid search over\n",
    "MIN_DF_VALS = [1e-3, 2e-3, 3e-3, 4e-3]\n",
    "C_VALS = [1e-2, 1e-1, 1e0, 1e1, 1e2, 1e3]\n",
    "MAX_DF_VALS = [6e-3, 7e-3, 8e-3, 9e-3, 1e-2, 1e-1, 1.0]\n"
   ]
  },
  {
   "cell_type": "code",
   "execution_count": 3,
   "id": "e80a29d5",
   "metadata": {},
   "outputs": [],
   "source": [
    "np.random.seed(523423)"
   ]
  },
  {
   "cell_type": "markdown",
   "id": "2a7a90a3",
   "metadata": {},
   "source": [
    "**Create save folder**"
   ]
  },
  {
   "cell_type": "code",
   "execution_count": 4,
   "id": "3197ac26",
   "metadata": {},
   "outputs": [],
   "source": [
    "pathlib.Path(SAVE_FOLDER).mkdir(exist_ok=True)"
   ]
  },
  {
   "cell_type": "markdown",
   "id": "4b610a1f",
   "metadata": {},
   "source": [
    "**Import raw data**"
   ]
  },
  {
   "cell_type": "code",
   "execution_count": 5,
   "id": "a3437b53",
   "metadata": {},
   "outputs": [
    {
     "data": {
      "text/html": [
       "<div>\n",
       "<style scoped>\n",
       "    .dataframe tbody tr th:only-of-type {\n",
       "        vertical-align: middle;\n",
       "    }\n",
       "\n",
       "    .dataframe tbody tr th {\n",
       "        vertical-align: top;\n",
       "    }\n",
       "\n",
       "    .dataframe thead th {\n",
       "        text-align: right;\n",
       "    }\n",
       "</style>\n",
       "<table border=\"1\" class=\"dataframe\">\n",
       "  <thead>\n",
       "    <tr style=\"text-align: right;\">\n",
       "      <th></th>\n",
       "      <th>id</th>\n",
       "      <th>keyword</th>\n",
       "      <th>location</th>\n",
       "      <th>text</th>\n",
       "      <th>target</th>\n",
       "    </tr>\n",
       "  </thead>\n",
       "  <tbody>\n",
       "    <tr>\n",
       "      <th>0</th>\n",
       "      <td>1</td>\n",
       "      <td>NaN</td>\n",
       "      <td>NaN</td>\n",
       "      <td>Our Deeds are the Reason of this #earthquake M...</td>\n",
       "      <td>1</td>\n",
       "    </tr>\n",
       "    <tr>\n",
       "      <th>1</th>\n",
       "      <td>4</td>\n",
       "      <td>NaN</td>\n",
       "      <td>NaN</td>\n",
       "      <td>Forest fire near La Ronge Sask. Canada</td>\n",
       "      <td>1</td>\n",
       "    </tr>\n",
       "  </tbody>\n",
       "</table>\n",
       "</div>"
      ],
      "text/plain": [
       "   id keyword location                                               text   \n",
       "0   1     NaN      NaN  Our Deeds are the Reason of this #earthquake M...  \\\n",
       "1   4     NaN      NaN             Forest fire near La Ronge Sask. Canada   \n",
       "\n",
       "   target  \n",
       "0       1  \n",
       "1       1  "
      ]
     },
     "execution_count": 5,
     "metadata": {},
     "output_type": "execute_result"
    }
   ],
   "source": [
    "RAW_TRAIN = pd.read_csv(TRAIN_PATH)\n",
    "RAW_TRAIN.head(2)"
   ]
  },
  {
   "cell_type": "markdown",
   "id": "6f5b43a3",
   "metadata": {},
   "source": [
    "**Apply a standard text cleaning pipeline**"
   ]
  },
  {
   "cell_type": "code",
   "execution_count": 6,
   "id": "bbe2fa2f",
   "metadata": {},
   "outputs": [],
   "source": [
    "cleanPipe = stdPipeHelp.loadTextPreprocPipeA()\n",
    "PROC_DATA = cleanPipe.fit_transform(RAW_TRAIN)"
   ]
  },
  {
   "cell_type": "markdown",
   "id": "97cc9631",
   "metadata": {},
   "source": [
    "**Shuffle the data**"
   ]
  },
  {
   "cell_type": "code",
   "execution_count": 7,
   "id": "ea471f0d",
   "metadata": {},
   "outputs": [
    {
     "data": {
      "text/html": [
       "<div>\n",
       "<style scoped>\n",
       "    .dataframe tbody tr th:only-of-type {\n",
       "        vertical-align: middle;\n",
       "    }\n",
       "\n",
       "    .dataframe tbody tr th {\n",
       "        vertical-align: top;\n",
       "    }\n",
       "\n",
       "    .dataframe thead th {\n",
       "        text-align: right;\n",
       "    }\n",
       "</style>\n",
       "<table border=\"1\" class=\"dataframe\">\n",
       "  <thead>\n",
       "    <tr style=\"text-align: right;\">\n",
       "      <th></th>\n",
       "      <th>id</th>\n",
       "      <th>keyword</th>\n",
       "      <th>location</th>\n",
       "      <th>text</th>\n",
       "      <th>target</th>\n",
       "    </tr>\n",
       "  </thead>\n",
       "  <tbody>\n",
       "    <tr>\n",
       "      <th>663</th>\n",
       "      <td>958</td>\n",
       "      <td>blaze</td>\n",
       "      <td>Mo.City</td>\n",
       "      <td>@beautiful_juic1 just letting you know</td>\n",
       "      <td>0</td>\n",
       "    </tr>\n",
       "    <tr>\n",
       "      <th>2086</th>\n",
       "      <td>2998</td>\n",
       "      <td>dead</td>\n",
       "      <td>NaN</td>\n",
       "      <td>@atchisonsean he is dead</td>\n",
       "      <td>0</td>\n",
       "    </tr>\n",
       "  </tbody>\n",
       "</table>\n",
       "</div>"
      ],
      "text/plain": [
       "        id keyword location                                    text  target\n",
       "663    958   blaze  Mo.City  @beautiful_juic1 just letting you know       0\n",
       "2086  2998    dead      NaN                @atchisonsean he is dead       0"
      ]
     },
     "execution_count": 7,
     "metadata": {},
     "output_type": "execute_result"
    }
   ],
   "source": [
    "PROC_DATA = PROC_DATA.sample(frac=1.0)\n",
    "PROC_DATA.head(2)"
   ]
  },
  {
   "cell_type": "markdown",
   "id": "44aec4a3",
   "metadata": {},
   "source": [
    "**Transform into a frame for each min_df/ngram range**"
   ]
  },
  {
   "cell_type": "markdown",
   "id": "356583f4",
   "metadata": {},
   "source": [
    "This SHOULD ideally be done at training time + this approach will lead to some data leakage. But its MUCH faster + likely wont affect the relative results too much"
   ]
  },
  {
   "cell_type": "code",
   "execution_count": 8,
   "id": "d5f8b1cd",
   "metadata": {},
   "outputs": [],
   "source": [
    "FRAME_ARRAY_NGRAMS_1, FRAME_ARRAY_NGRAMS_2 = list(), list()\n",
    "\n",
    "for minDf in MIN_DF_VALS:\n",
    "    _transformerA = trainPipeHelp.AddBagOfWords(vectKwargs={\"min_df\":minDf, \"ngram_range\":(1,1)})\n",
    "    _transformerB = trainPipeHelp.AddBagOfWords(vectKwargs={\"min_df\":minDf, \"ngram_range\":(1,2)})\n",
    "    \n",
    "    _frameA = _transformerA.fit(PROC_DATA).transform(PROC_DATA.copy())\n",
    "    _frameB = _transformerB.fit(PROC_DATA).transform(PROC_DATA.copy())\n",
    "    \n",
    "    FRAME_ARRAY_NGRAMS_1.append( _frameA )\n",
    "    FRAME_ARRAY_NGRAMS_2.append( _frameB )\n",
    "    "
   ]
  },
  {
   "cell_type": "markdown",
   "id": "1e69366b",
   "metadata": {},
   "source": [
    "**Get cross-validation scores for each set of hyperparameters**"
   ]
  },
  {
   "cell_type": "code",
   "execution_count": 9,
   "id": "5aa0862a",
   "metadata": {},
   "outputs": [],
   "source": [
    "def fillScoreArray(inpArray, nGrams, printProgress=True):\n",
    "    #\n",
    "    if nGrams == 1:\n",
    "        nGramOpt = (1,1)\n",
    "        useFrames = FRAME_ARRAY_NGRAMS_1\n",
    "    elif nGrams == 2:\n",
    "        nGramOpt = (1,2)\n",
    "        useFrames = FRAME_ARRAY_NGRAMS_2\n",
    "    else:\n",
    "        raise ValueError(nGrams)\n",
    "    \n",
    "    #\n",
    "    _nJobsLeft = len(MIN_DF_VALS)*len(C_VALS)\n",
    "    for rIdx,minDf in enumerate(MIN_DF_VALS):\n",
    "        for cIdx, cVal in enumerate(C_VALS):\n",
    "            useFrame = useFrames[rIdx]\n",
    "            inpArray[rIdx][cIdx] = getScore(useFrame, cVal)\n",
    "            _nJobsLeft -= 1\n",
    "            if printProgress:\n",
    "                print(\"{} jobs left\".format(_nJobsLeft))\n",
    "            \n",
    "def getScore(inpFrame, cVal):\n",
    "    modelKwargs = {\"max_iter\":1000}\n",
    "    model = modelWrapHelp.LogRegressionClassifier( list(), featPrefix=[\"bow_\"], C=cVal, modelKwargs=modelKwargs  )\n",
    "    return np.mean( sk.model_selection.cross_val_score(model, inpFrame, n_jobs=5) )"
   ]
  },
  {
   "cell_type": "markdown",
   "id": "f5296ba5",
   "metadata": {},
   "source": [
    "Code for serializing/deserializing scores"
   ]
  },
  {
   "cell_type": "markdown",
   "id": "54fd97ba",
   "metadata": {},
   "source": [
    "**TODO: Factor this part out into a utils.py**"
   ]
  },
  {
   "cell_type": "code",
   "execution_count": 10,
   "id": "eaaf2a56",
   "metadata": {},
   "outputs": [],
   "source": [
    "def writeScoreArrayToJson(outArray, outFile):\n",
    "    with open(outFile,\"wt\") as f:\n",
    "        json.dump(outArray.tolist(), f)\n",
    "\n",
    "def readScoreArrayFromJson(inpFile):\n",
    "    with open(inpFile,\"rt\") as f:\n",
    "        output = json.load(f)\n",
    "    return np.array(output)\n",
    "\n"
   ]
  },
  {
   "cell_type": "markdown",
   "id": "5e05d126",
   "metadata": {},
   "source": [
    "This is for ngrams = 1 (i.e. individual words only)"
   ]
  },
  {
   "cell_type": "code",
   "execution_count": 11,
   "id": "4026d67a",
   "metadata": {
    "scrolled": true
   },
   "outputs": [
    {
     "name": "stdout",
     "output_type": "stream",
     "text": [
      " "
     ]
    }
   ],
   "source": [
    "%%prun\n",
    "#          104626 function calls (100449 primitive calls) in 57.115 seconds\n",
    "\n",
    "if RERUN_HP_SEARCH:\n",
    "    SCORE_ARRAY_NGRAM_1 = np.zeros( (len(MIN_DF_VALS),len(C_VALS))   )\n",
    "    fillScoreArray(SCORE_ARRAY_NGRAM_1, nGrams=1)\n",
    "    writeScoreArrayToJson(SCORE_ARRAY_NGRAM_1, PATH_NGRAMS_1)\n",
    "else:\n",
    "    SCORE_ARRAY_NGRAM_1 = readScoreArrayFromJson(PATH_NGRAMS_1)"
   ]
  },
  {
   "cell_type": "markdown",
   "id": "0f5f6707",
   "metadata": {},
   "source": [
    "This is for ngrams = 2"
   ]
  },
  {
   "cell_type": "code",
   "execution_count": 12,
   "id": "6810704d",
   "metadata": {
    "scrolled": true
   },
   "outputs": [
    {
     "name": "stdout",
     "output_type": "stream",
     "text": [
      " "
     ]
    }
   ],
   "source": [
    "%%prun\n",
    "#          96672 function calls (92464 primitive calls) in 81.773 seconds\n",
    "\n",
    "if RERUN_HP_SEARCH:\n",
    "    SCORE_ARRAY_NGRAM_2 = np.zeros( (len(MIN_DF_VALS),len(C_VALS))   )\n",
    "    fillScoreArray(SCORE_ARRAY_NGRAM_2, nGrams=2)\n",
    "    writeScoreArrayToJson(SCORE_ARRAY_NGRAM_2, PATH_NGRAMS_2)\n",
    "else:\n",
    "    SCORE_ARRAY_NGRAM_2 = readScoreArrayFromJson(PATH_NGRAMS_2)"
   ]
  },
  {
   "cell_type": "markdown",
   "id": "87f62ab0",
   "metadata": {},
   "source": [
    "**Visualise the hyperparameter search results**"
   ]
  },
  {
   "cell_type": "code",
   "execution_count": 13,
   "id": "4554af12",
   "metadata": {},
   "outputs": [
    {
     "data": {
      "image/png": "[encoded data removed]",
      "text/plain": [
       "<Figure size 800x300 with 4 Axes>"
      ]
     },
     "metadata": {},
     "output_type": "display_data"
    }
   ],
   "source": [
    "#Create the template heatmap plotter\n",
    "_minColorVal = min( [np.min(x) for x in [SCORE_ARRAY_NGRAM_1, SCORE_ARRAY_NGRAM_2]] )\n",
    "_maxColorVal = max( [np.max(x) for x in [SCORE_ARRAY_NGRAM_1, SCORE_ARRAY_NGRAM_2]] )\n",
    "_currKwargs = {\"annotateVals\":True,\n",
    "               \"annotateValsStrFmt\":\"{:.2f}\",\n",
    "               \"figSizeOnCreation\":(4,3),\n",
    "               \"colorBarShow\":True,\n",
    "               \"colorMapMaxVal\":_maxColorVal,\n",
    "               \"colorMapMinVal\":_minColorVal,\n",
    "               \"groupLabelsCols\":[\"{:.0e}\".format(x) for x in C_VALS],\n",
    "               \"groupLabelsColsRotation\":45,\n",
    "               \"groupLabelsRows\":[\"{:.0e}\".format(x) for x in MIN_DF_VALS],\n",
    "               \"xLabelStr\": \"C-Value (Inverse Regularization Strength)\",\n",
    "               \"yLabelStr\": \"Min-df value\"\n",
    "              }\n",
    "heatPlotter = ppl.DiscreteHeatMapPlotter(**_currKwargs)\n",
    "\n",
    "#Create separate plotter for both nGrams=1 and nGrams=2\n",
    "_nGramsOnePlotter = heatPlotter.createFactory(plotData=SCORE_ARRAY_NGRAM_1, titleStr=\"NGrams = 1\")\n",
    "_nGramsTwoPlotter = heatPlotter.createFactory(plotData=SCORE_ARRAY_NGRAM_2, titleStr=\"NGrams = 2\")\n",
    "\n",
    "#Create a grid plotter\n",
    "_currKwargs = {\"constrainedLayout\":True,\"figHeightPerRow\":3, \"figWidthPerCol\":4, \"nColsGrid\":2}\n",
    "gridPlotter = ppl.RectMultiPlotter(**_currKwargs)\n",
    "_unused = gridPlotter.createPlot(plotters=[_nGramsOnePlotter, _nGramsTwoPlotter])"
   ]
  },
  {
   "cell_type": "markdown",
   "id": "746af46a",
   "metadata": {},
   "source": [
    "**Conclusions**"
   ]
  },
  {
   "cell_type": "markdown",
   "id": "7e85f058",
   "metadata": {},
   "source": [
    "1) NGrams = 2 makes very little difference compared to NGrams=1\n",
    "\n",
    "2) Min_df = 4e-3 gives a sufficiently large vocabulary (around 500 words for NGram=1)\n",
    "\n",
    "3) A high min-df combined with low to medium regularization (High to medium C) leads to ~ the best model "
   ]
  },
  {
   "cell_type": "markdown",
   "id": "85c18e29",
   "metadata": {},
   "source": [
    "**Tune max_df values using min_df=4e-3 and nGrams=1**"
   ]
  },
  {
   "cell_type": "code",
   "execution_count": 14,
   "id": "18403c78",
   "metadata": {},
   "outputs": [],
   "source": [
    "MAX_DF_FRAMES = list()\n",
    "_sharedMinDf = 4e-3\n",
    "\n",
    "for maxDf in MAX_DF_VALS:\n",
    "    _transformer = trainPipeHelp.AddBagOfWords(vectKwargs={\"min_df\":_sharedMinDf,\n",
    "                                                           \"ngram_range\":(1,1),\n",
    "                                                           \"max_df\":maxDf})\n",
    "    _frame = _transformer.fit(PROC_DATA).transform(PROC_DATA.copy())\n",
    "    MAX_DF_FRAMES.append( _frame )\n",
    "    \n",
    "\n"
   ]
  },
  {
   "cell_type": "code",
   "execution_count": 15,
   "id": "97b3e730",
   "metadata": {},
   "outputs": [],
   "source": [
    "def fillScoreArray_maxDf(inpArray, printProgress=True):\n",
    "    #\n",
    "    useFrames = MAX_DF_FRAMES\n",
    "    _nJobsLeft = len(MAX_DF_VALS)*len(C_VALS)\n",
    "    for rIdx,maxDf in enumerate(MAX_DF_VALS):\n",
    "        for cIdx, cVal in enumerate(C_VALS):\n",
    "            useFrame = useFrames[rIdx]\n",
    "            inpArray[rIdx][cIdx] = getScore(useFrame, cVal)\n",
    "            _nJobsLeft -= 1\n",
    "            if printProgress:\n",
    "                print(\"{} jobs left\".format(_nJobsLeft))\n"
   ]
  },
  {
   "cell_type": "code",
   "execution_count": 16,
   "id": "90630433",
   "metadata": {},
   "outputs": [
    {
     "name": "stdout",
     "output_type": "stream",
     "text": [
      " "
     ]
    }
   ],
   "source": [
    "%%prun\n",
    "#          145022 function calls (138710 primitive calls) in 13.672 seconds\n",
    "\n",
    "if RERUN_HP_SEARCH:\n",
    "    SCORE_ARRAY_MAX_DF = np.zeros( (len(MAX_DF_VALS),len(C_VALS))   )\n",
    "    fillScoreArray_maxDf(SCORE_ARRAY_MAX_DF)\n",
    "    writeScoreArrayToJson(SCORE_ARRAY_MAX_DF, PATH_MAX_DF)\n",
    "else:\n",
    "    SCORE_ARRAY_MAX_DF = readScoreArrayFromJson(PATH_MAX_DF)"
   ]
  },
  {
   "cell_type": "code",
   "execution_count": 17,
   "id": "8a0d269f",
   "metadata": {},
   "outputs": [
    {
     "data": {
      "image/png": "[encoded data removed]",
      "text/plain": [
       "<Figure size 400x300 with 2 Axes>"
      ]
     },
     "metadata": {},
     "output_type": "display_data"
    }
   ],
   "source": [
    "_currKwargs = {\"annotateValsTextColor\":['white',\"black\"],\n",
    "              \"groupLabelsRows\":[\"{:.0e}\".format(x) for x in MAX_DF_VALS],\n",
    "               \"plotData\":SCORE_ARRAY_MAX_DF,\n",
    "               \"titleStr\":\"F1 Score (Varying Hyperparams)\",\n",
    "               \"yLabelStr\":\"Max-df value\"}\n",
    "\n",
    "_unused = heatPlotter.createFactory(**_currKwargs).createPlot()\n"
   ]
  },
  {
   "cell_type": "markdown",
   "id": "7ca18f32",
   "metadata": {},
   "source": [
    "**Create a final model with the best hyperparameters**"
   ]
  },
  {
   "cell_type": "code",
   "execution_count": 18,
   "id": "6a168295",
   "metadata": {},
   "outputs": [],
   "source": [
    "cValue, maxDf, minDf = 1e1, 1e0, 1e-4\n",
    "trainPipe = trainPipeHelp.AddBagOfWords(vectKwargs={\"max_df\":maxDf, \"min_df\":minDf})\n",
    "\n",
    "FINAL_MODEL = modelWrapHelp.LogRegressionClassifier(feats=list(), featPrefix=[\"bow_\"], trainPipe=trainPipe,\n",
    "                                                    C=cValue, modelKwargs={\"max_iter\":1000})"
   ]
  },
  {
   "cell_type": "markdown",
   "id": "c5f6e567",
   "metadata": {},
   "source": [
    "**Look at the cross-validation score for this model when run with no data leakage**"
   ]
  },
  {
   "cell_type": "code",
   "execution_count": 19,
   "id": "d0ccc26d",
   "metadata": {},
   "outputs": [
    {
     "name": "stdout",
     "output_type": "stream",
     "text": [
      "[0.72955975 0.70443815 0.73617407 0.70280036 0.70699433]\n",
      "0.71599333172014\n"
     ]
    }
   ],
   "source": [
    "cvScores = sk.model_selection.cross_val_score(FINAL_MODEL, PROC_DATA)\n",
    "print(cvScores)\n",
    "print(np.mean(cvScores))"
   ]
  },
  {
   "cell_type": "markdown",
   "id": "7f104171",
   "metadata": {},
   "source": [
    "**Retrain on the full dataset**"
   ]
  },
  {
   "cell_type": "code",
   "execution_count": 20,
   "id": "22aa821a",
   "metadata": {},
   "outputs": [
    {
     "data": {
      "text/html": [
       "<style>#sk-container-id-1 {color: black;background-color: white;}#sk-container-id-1 pre{padding: 0;}#sk-container-id-1 div.sk-toggleable {background-color: white;}#sk-container-id-1 label.sk-toggleable__label {cursor: pointer;display: block;width: 100%;margin-bottom: 0;padding: 0.3em;box-sizing: border-box;text-align: center;}#sk-container-id-1 label.sk-toggleable__label-arrow:before {content: \"▸\";float: left;margin-right: 0.25em;color: #696969;}#sk-container-id-1 label.sk-toggleable__label-arrow:hover:before {color: black;}#sk-container-id-1 div.sk-estimator:hover label.sk-toggleable__label-arrow:before {color: black;}#sk-container-id-1 div.sk-toggleable__content {max-height: 0;max-width: 0;overflow: hidden;text-align: left;background-color: #f0f8ff;}#sk-container-id-1 div.sk-toggleable__content pre {margin: 0.2em;color: black;border-radius: 0.25em;background-color: #f0f8ff;}#sk-container-id-1 input.sk-toggleable__control:checked~div.sk-toggleable__content {max-height: 200px;max-width: 100%;overflow: auto;}#sk-container-id-1 input.sk-toggleable__control:checked~label.sk-toggleable__label-arrow:before {content: \"▾\";}#sk-container-id-1 div.sk-estimator input.sk-toggleable__control:checked~label.sk-toggleable__label {background-color: #d4ebff;}#sk-container-id-1 div.sk-label input.sk-toggleable__control:checked~label.sk-toggleable__label {background-color: #d4ebff;}#sk-container-id-1 input.sk-hidden--visually {border: 0;clip: rect(1px 1px 1px 1px);clip: rect(1px, 1px, 1px, 1px);height: 1px;margin: -1px;overflow: hidden;padding: 0;position: absolute;width: 1px;}#sk-container-id-1 div.sk-estimator {font-family: monospace;background-color: #f0f8ff;border: 1px dotted black;border-radius: 0.25em;box-sizing: border-box;margin-bottom: 0.5em;}#sk-container-id-1 div.sk-estimator:hover {background-color: #d4ebff;}#sk-container-id-1 div.sk-parallel-item::after {content: \"\";width: 100%;border-bottom: 1px solid gray;flex-grow: 1;}#sk-container-id-1 div.sk-label:hover label.sk-toggleable__label {background-color: #d4ebff;}#sk-container-id-1 div.sk-serial::before {content: \"\";position: absolute;border-left: 1px solid gray;box-sizing: border-box;top: 0;bottom: 0;left: 50%;z-index: 0;}#sk-container-id-1 div.sk-serial {display: flex;flex-direction: column;align-items: center;background-color: white;padding-right: 0.2em;padding-left: 0.2em;position: relative;}#sk-container-id-1 div.sk-item {position: relative;z-index: 1;}#sk-container-id-1 div.sk-parallel {display: flex;align-items: stretch;justify-content: center;background-color: white;position: relative;}#sk-container-id-1 div.sk-item::before, #sk-container-id-1 div.sk-parallel-item::before {content: \"\";position: absolute;border-left: 1px solid gray;box-sizing: border-box;top: 0;bottom: 0;left: 50%;z-index: -1;}#sk-container-id-1 div.sk-parallel-item {display: flex;flex-direction: column;z-index: 1;position: relative;background-color: white;}#sk-container-id-1 div.sk-parallel-item:first-child::after {align-self: flex-end;width: 50%;}#sk-container-id-1 div.sk-parallel-item:last-child::after {align-self: flex-start;width: 50%;}#sk-container-id-1 div.sk-parallel-item:only-child::after {width: 0;}#sk-container-id-1 div.sk-dashed-wrapped {border: 1px dashed gray;margin: 0 0.4em 0.5em 0.4em;box-sizing: border-box;padding-bottom: 0.4em;background-color: white;}#sk-container-id-1 div.sk-label label {font-family: monospace;font-weight: bold;display: inline-block;line-height: 1.2em;}#sk-container-id-1 div.sk-label-container {text-align: center;}#sk-container-id-1 div.sk-container {/* jupyter's `normalize.less` sets `[hidden] { display: none; }` but bootstrap.min.css set `[hidden] { display: none !important; }` so we also need the `!important` here to be able to override the default hidden behavior on the sphinx rendered scikit-learn.org. See: https://github.com/scikit-learn/scikit-learn/issues/21755 */display: inline-block !important;position: relative;}#sk-container-id-1 div.sk-text-repr-fallback {display: none;}</style><div id=\"sk-container-id-1\" class=\"sk-top-container\"><div class=\"sk-text-repr-fallback\"><pre>LogRegressionClassifier(C=10.0, featPrefix=[&#x27;bow_&#x27;], feats=[],\n",
       "                        modelKwargs={&#x27;max_iter&#x27;: 1000}, penalty=&#x27;l2&#x27;,\n",
       "                        trainPipe=&lt;train_pipes.AddBagOfWords object at 0x7f505fb8af80&gt;)</pre><b>In a Jupyter environment, please rerun this cell to show the HTML representation or trust the notebook. <br />On GitHub, the HTML representation is unable to render, please try loading this page with nbviewer.org.</b></div><div class=\"sk-container\" hidden><div class=\"sk-item\"><div class=\"sk-estimator sk-toggleable\"><input class=\"sk-toggleable__control sk-hidden--visually\" id=\"sk-estimator-id-1\" type=\"checkbox\" checked><label for=\"sk-estimator-id-1\" class=\"sk-toggleable__label sk-toggleable__label-arrow\">LogRegressionClassifier</label><div class=\"sk-toggleable__content\"><pre>LogRegressionClassifier(C=10.0, featPrefix=[&#x27;bow_&#x27;], feats=[],\n",
       "                        modelKwargs={&#x27;max_iter&#x27;: 1000}, penalty=&#x27;l2&#x27;,\n",
       "                        trainPipe=&lt;train_pipes.AddBagOfWords object at 0x7f505fb8af80&gt;)</pre></div></div></div></div></div>"
      ],
      "text/plain": [
       "LogRegressionClassifier(C=10.0, featPrefix=['bow_'], feats=[],\n",
       "                        modelKwargs={'max_iter': 1000}, penalty='l2',\n",
       "                        trainPipe=<train_pipes.AddBagOfWords object at 0x7f505fb8af80>)"
      ]
     },
     "execution_count": 20,
     "metadata": {},
     "output_type": "execute_result"
    }
   ],
   "source": [
    "FINAL_MODEL.fit(PROC_DATA)"
   ]
  },
  {
   "cell_type": "markdown",
   "id": "0286d444",
   "metadata": {},
   "source": [
    "**Double checck our output model has good accuracy on the train set**"
   ]
  },
  {
   "cell_type": "code",
   "execution_count": 22,
   "id": "02002a54",
   "metadata": {},
   "outputs": [],
   "source": [
    "trainPred = FINAL_MODEL.predict(PROC_DATA)\n",
    "_deltaVals = [ abs(pred-act) for pred,act in zip(trainPred,PROC_DATA[\"target\"].to_numpy()) ]\n",
    "trainAcc = (len(_deltaVals)-sum(_deltaVals)) / len(_deltaVals)"
   ]
  },
  {
   "cell_type": "code",
   "execution_count": 23,
   "id": "86f04ef9",
   "metadata": {},
   "outputs": [
    {
     "name": "stdout",
     "output_type": "stream",
     "text": [
      "Training accuracy = 0.9969892473118279\n"
     ]
    }
   ],
   "source": [
    "print(\"Training accuracy = {}\".format(trainAcc))"
   ]
  },
  {
   "cell_type": "markdown",
   "id": "d224bddf",
   "metadata": {},
   "source": [
    "**Apply the model to the test data set**"
   ]
  },
  {
   "cell_type": "code",
   "execution_count": 24,
   "id": "40f20547",
   "metadata": {},
   "outputs": [
    {
     "data": {
      "text/html": [
       "<div>\n",
       "<style scoped>\n",
       "    .dataframe tbody tr th:only-of-type {\n",
       "        vertical-align: middle;\n",
       "    }\n",
       "\n",
       "    .dataframe tbody tr th {\n",
       "        vertical-align: top;\n",
       "    }\n",
       "\n",
       "    .dataframe thead th {\n",
       "        text-align: right;\n",
       "    }\n",
       "</style>\n",
       "<table border=\"1\" class=\"dataframe\">\n",
       "  <thead>\n",
       "    <tr style=\"text-align: right;\">\n",
       "      <th></th>\n",
       "      <th>id</th>\n",
       "      <th>keyword</th>\n",
       "      <th>location</th>\n",
       "      <th>text</th>\n",
       "    </tr>\n",
       "  </thead>\n",
       "  <tbody>\n",
       "    <tr>\n",
       "      <th>0</th>\n",
       "      <td>0</td>\n",
       "      <td>NaN</td>\n",
       "      <td>NaN</td>\n",
       "      <td>Just happened a terrible car crash</td>\n",
       "    </tr>\n",
       "    <tr>\n",
       "      <th>1</th>\n",
       "      <td>2</td>\n",
       "      <td>NaN</td>\n",
       "      <td>NaN</td>\n",
       "      <td>Heard about #earthquake is different cities, s...</td>\n",
       "    </tr>\n",
       "  </tbody>\n",
       "</table>\n",
       "</div>"
      ],
      "text/plain": [
       "   id keyword location                                               text\n",
       "0   0     NaN      NaN                 Just happened a terrible car crash\n",
       "1   2     NaN      NaN  Heard about #earthquake is different cities, s..."
      ]
     },
     "execution_count": 24,
     "metadata": {},
     "output_type": "execute_result"
    }
   ],
   "source": [
    "RAW_TEST = pd.read_csv(TEST_PATH)\n",
    "RAW_TEST.head(2)"
   ]
  },
  {
   "cell_type": "code",
   "execution_count": 25,
   "id": "7f09bca3",
   "metadata": {},
   "outputs": [
    {
     "data": {
      "text/html": [
       "<div>\n",
       "<style scoped>\n",
       "    .dataframe tbody tr th:only-of-type {\n",
       "        vertical-align: middle;\n",
       "    }\n",
       "\n",
       "    .dataframe tbody tr th {\n",
       "        vertical-align: top;\n",
       "    }\n",
       "\n",
       "    .dataframe thead th {\n",
       "        text-align: right;\n",
       "    }\n",
       "</style>\n",
       "<table border=\"1\" class=\"dataframe\">\n",
       "  <thead>\n",
       "    <tr style=\"text-align: right;\">\n",
       "      <th></th>\n",
       "      <th>id</th>\n",
       "      <th>keyword</th>\n",
       "      <th>location</th>\n",
       "      <th>text</th>\n",
       "      <th>target</th>\n",
       "    </tr>\n",
       "  </thead>\n",
       "  <tbody>\n",
       "    <tr>\n",
       "      <th>0</th>\n",
       "      <td>0</td>\n",
       "      <td>NaN</td>\n",
       "      <td>NaN</td>\n",
       "      <td>just happened a terrible car crash</td>\n",
       "      <td>0</td>\n",
       "    </tr>\n",
       "    <tr>\n",
       "      <th>1</th>\n",
       "      <td>2</td>\n",
       "      <td>NaN</td>\n",
       "      <td>NaN</td>\n",
       "      <td>heard about #earthquake is different cities , ...</td>\n",
       "      <td>1</td>\n",
       "    </tr>\n",
       "    <tr>\n",
       "      <th>2</th>\n",
       "      <td>3</td>\n",
       "      <td>NaN</td>\n",
       "      <td>NaN</td>\n",
       "      <td>there is a forest fire at spot pond , geese ar...</td>\n",
       "      <td>1</td>\n",
       "    </tr>\n",
       "    <tr>\n",
       "      <th>3</th>\n",
       "      <td>9</td>\n",
       "      <td>NaN</td>\n",
       "      <td>NaN</td>\n",
       "      <td>apocalypse lighting . #spokane #wildfires</td>\n",
       "      <td>1</td>\n",
       "    </tr>\n",
       "    <tr>\n",
       "      <th>4</th>\n",
       "      <td>11</td>\n",
       "      <td>NaN</td>\n",
       "      <td>NaN</td>\n",
       "      <td>typhoon soudelor kills 28 in china and taiwan</td>\n",
       "      <td>1</td>\n",
       "    </tr>\n",
       "    <tr>\n",
       "      <th>5</th>\n",
       "      <td>12</td>\n",
       "      <td>NaN</td>\n",
       "      <td>NaN</td>\n",
       "      <td>we are shaking . it is an earthquake</td>\n",
       "      <td>1</td>\n",
       "    </tr>\n",
       "    <tr>\n",
       "      <th>6</th>\n",
       "      <td>21</td>\n",
       "      <td>NaN</td>\n",
       "      <td>NaN</td>\n",
       "      <td>they ' d probably still show more life than ar...</td>\n",
       "      <td>0</td>\n",
       "    </tr>\n",
       "    <tr>\n",
       "      <th>7</th>\n",
       "      <td>22</td>\n",
       "      <td>NaN</td>\n",
       "      <td>NaN</td>\n",
       "      <td>hey ! how are you ?</td>\n",
       "      <td>0</td>\n",
       "    </tr>\n",
       "  </tbody>\n",
       "</table>\n",
       "</div>"
      ],
      "text/plain": [
       "   id keyword location                                               text   \n",
       "0   0     NaN      NaN                 just happened a terrible car crash  \\\n",
       "1   2     NaN      NaN  heard about #earthquake is different cities , ...   \n",
       "2   3     NaN      NaN  there is a forest fire at spot pond , geese ar...   \n",
       "3   9     NaN      NaN          apocalypse lighting . #spokane #wildfires   \n",
       "4  11     NaN      NaN      typhoon soudelor kills 28 in china and taiwan   \n",
       "5  12     NaN      NaN               we are shaking . it is an earthquake   \n",
       "6  21     NaN      NaN  they ' d probably still show more life than ar...   \n",
       "7  22     NaN      NaN                                hey ! how are you ?   \n",
       "\n",
       "   target  \n",
       "0       0  \n",
       "1       1  \n",
       "2       1  \n",
       "3       1  \n",
       "4       1  \n",
       "5       1  \n",
       "6       0  \n",
       "7       0  "
      ]
     },
     "execution_count": 25,
     "metadata": {},
     "output_type": "execute_result"
    }
   ],
   "source": [
    "testCleanPipe = stdPipeHelp.loadTextPreprocPipeA(removeDuplicateTweets=False)\n",
    "testCleanPipe.fit(RAW_TRAIN)\n",
    "\n",
    "#\n",
    "PROC_TEST = testCleanPipe.transform(RAW_TEST)\n",
    "PROC_TEST[\"target\"] = FINAL_MODEL.predict(PROC_TEST)\n",
    "PROC_TEST.head(8)"
   ]
  },
  {
   "cell_type": "markdown",
   "id": "94374e46",
   "metadata": {},
   "source": [
    "**Write our predictions to file in the correct format**"
   ]
  },
  {
   "cell_type": "markdown",
   "id": "9b1ce7a4",
   "metadata": {},
   "source": [
    "Kaggle Score = 0.78148"
   ]
  },
  {
   "cell_type": "code",
   "execution_count": 26,
   "id": "1b1fd65e",
   "metadata": {},
   "outputs": [],
   "source": [
    "outFrame = PROC_TEST[[\"id\",\"target\"]]\n",
    "outFrame.to_csv(SUBMISSIONS_PATH, index=False)"
   ]
  },
  {
   "cell_type": "code",
   "execution_count": 27,
   "id": "e48e8dd1",
   "metadata": {},
   "outputs": [
    {
     "data": {
      "text/html": [
       "<div>\n",
       "<style scoped>\n",
       "    .dataframe tbody tr th:only-of-type {\n",
       "        vertical-align: middle;\n",
       "    }\n",
       "\n",
       "    .dataframe tbody tr th {\n",
       "        vertical-align: top;\n",
       "    }\n",
       "\n",
       "    .dataframe thead th {\n",
       "        text-align: right;\n",
       "    }\n",
       "</style>\n",
       "<table border=\"1\" class=\"dataframe\">\n",
       "  <thead>\n",
       "    <tr style=\"text-align: right;\">\n",
       "      <th></th>\n",
       "      <th>id</th>\n",
       "      <th>target</th>\n",
       "    </tr>\n",
       "  </thead>\n",
       "  <tbody>\n",
       "    <tr>\n",
       "      <th>0</th>\n",
       "      <td>0</td>\n",
       "      <td>0</td>\n",
       "    </tr>\n",
       "    <tr>\n",
       "      <th>1</th>\n",
       "      <td>2</td>\n",
       "      <td>1</td>\n",
       "    </tr>\n",
       "    <tr>\n",
       "      <th>2</th>\n",
       "      <td>3</td>\n",
       "      <td>1</td>\n",
       "    </tr>\n",
       "    <tr>\n",
       "      <th>3</th>\n",
       "      <td>9</td>\n",
       "      <td>1</td>\n",
       "    </tr>\n",
       "    <tr>\n",
       "      <th>4</th>\n",
       "      <td>11</td>\n",
       "      <td>1</td>\n",
       "    </tr>\n",
       "    <tr>\n",
       "      <th>...</th>\n",
       "      <td>...</td>\n",
       "      <td>...</td>\n",
       "    </tr>\n",
       "    <tr>\n",
       "      <th>3258</th>\n",
       "      <td>10861</td>\n",
       "      <td>1</td>\n",
       "    </tr>\n",
       "    <tr>\n",
       "      <th>3259</th>\n",
       "      <td>10865</td>\n",
       "      <td>1</td>\n",
       "    </tr>\n",
       "    <tr>\n",
       "      <th>3260</th>\n",
       "      <td>10868</td>\n",
       "      <td>1</td>\n",
       "    </tr>\n",
       "    <tr>\n",
       "      <th>3261</th>\n",
       "      <td>10874</td>\n",
       "      <td>1</td>\n",
       "    </tr>\n",
       "    <tr>\n",
       "      <th>3262</th>\n",
       "      <td>10875</td>\n",
       "      <td>1</td>\n",
       "    </tr>\n",
       "  </tbody>\n",
       "</table>\n",
       "<p>3263 rows × 2 columns</p>\n",
       "</div>"
      ],
      "text/plain": [
       "         id  target\n",
       "0         0       0\n",
       "1         2       1\n",
       "2         3       1\n",
       "3         9       1\n",
       "4        11       1\n",
       "...     ...     ...\n",
       "3258  10861       1\n",
       "3259  10865       1\n",
       "3260  10868       1\n",
       "3261  10874       1\n",
       "3262  10875       1\n",
       "\n",
       "[3263 rows x 2 columns]"
      ]
     },
     "execution_count": 27,
     "metadata": {},
     "output_type": "execute_result"
    }
   ],
   "source": [
    "outFrame"
   ]
  }
 ],
 "metadata": {
  "kernelspec": {
   "display_name": "Python 3 (ipykernel)",
   "language": "python",
   "name": "python3"
  },
  "language_info": {
   "codemirror_mode": {
    "name": "ipython",
    "version": 3
   },
   "file_extension": ".py",
   "mimetype": "text/x-python",
   "name": "python",
   "nbconvert_exporter": "python",
   "pygments_lexer": "ipython3",
   "version": "3.10.6"
  }
 },
 "nbformat": 4,
 "nbformat_minor": 5
}
