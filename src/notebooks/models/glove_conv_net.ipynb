{
 "cells": [
  {
   "cell_type": "markdown",
   "id": "49a94ea4",
   "metadata": {},
   "source": [
    "Notebook where GloVe vectors are used with a convolutional neural-net model"
   ]
  },
  {
   "cell_type": "markdown",
   "id": "11ebbc86",
   "metadata": {},
   "source": [
    "**Imports**"
   ]
  },
  {
   "cell_type": "code",
   "execution_count": 1,
   "id": "9bd54f57",
   "metadata": {},
   "outputs": [
    {
     "name": "stderr",
     "output_type": "stream",
     "text": [
      "2023-04-25 11:42:14.109787: I tensorflow/core/util/port.cc:110] oneDNN custom operations are on. You may see slightly different numerical results due to floating-point round-off errors from different computation orders. To turn them off, set the environment variable `TF_ENABLE_ONEDNN_OPTS=0`.\n",
      "2023-04-25 11:42:14.110983: I tensorflow/tsl/cuda/cudart_stub.cc:28] Could not find cuda drivers on your machine, GPU will not be used.\n",
      "2023-04-25 11:42:14.134215: I tensorflow/tsl/cuda/cudart_stub.cc:28] Could not find cuda drivers on your machine, GPU will not be used.\n",
      "2023-04-25 11:42:14.134759: I tensorflow/core/platform/cpu_feature_guard.cc:182] This TensorFlow binary is optimized to use available CPU instructions in performance-critical operations.\n",
      "To enable the following instructions: AVX2 AVX_VNNI FMA, in other operations, rebuild TensorFlow with the appropriate compiler flags.\n",
      "2023-04-25 11:42:14.503536: W tensorflow/compiler/tf2tensorrt/utils/py_utils.cc:38] TF-TRT Warning: Could not find TensorRT\n"
     ]
    }
   ],
   "source": [
    "\n",
    "import json\n",
    "import os\n",
    "import pathlib\n",
    "import pickle\n",
    "\n",
    "import hyperopt\n",
    "import pandas as pd\n",
    "import keras\n",
    "import numpy as np\n",
    "import tensorflow as tf\n",
    "\n",
    "import pyplotterlib.standard.plotters as ppl\n",
    "\n",
    "import shared_code_path\n",
    "import proc_pipes as procPipeHelp\n",
    "import misc_utils as miscUtilHelp\n",
    "import net_wrappers as netWrapHelp\n",
    "import standard_pipes as stdPipeHelp\n"
   ]
  },
  {
   "cell_type": "markdown",
   "id": "a6a2f839",
   "metadata": {},
   "source": [
    "**Configuration Variables**"
   ]
  },
  {
   "cell_type": "code",
   "execution_count": 2,
   "id": "9ef2399d",
   "metadata": {},
   "outputs": [],
   "source": [
    "\n",
    "#\n",
    "_rawDataFolder = os.path.abspath( os.path.join(\"..\",\"..\",\"..\",\"raw_data\") )\n",
    "TRAIN_PATH = os.path.abspath( os.path.join(_rawDataFolder, \"train.csv\") )\n",
    "TEST_PATH = os.path.abspath( os.path.join(_rawDataFolder, \"test.csv\") )\n",
    "GLOVE_PATH = os.path.abspath( os.path.join(_rawDataFolder, \"glove.twitter.27B.100d.txt\")  )\n",
    "\n",
    "#\n",
    "SAVE_FOLDER = os.path.abspath( \"glove_conv_net_save_folder\" )\n",
    "SUBMISSIONS_PATH = os.path.join(SAVE_FOLDER, \"submissions.csv\")\n",
    "\n",
    "#280 was the CHARACTER limit at the time so 200 should easily be ok for recognised words\n",
    "MAX_TEXT_LENGTH = 200\n",
    "VOCAB_SIZE = 20000 #Theres about 17000 individual \"words\" from CountVectorizer; so this should be sufficient\n",
    "\n",
    "#\n",
    "RERUN_HP_SEARCH = False\n",
    "GRID_SEARCH_NFILTERS = [64, 32, 16]\n",
    "GRID_SEARCH_FILTER_LENGTHS = [4,5,6,7]\n",
    "GRID_SEARCH_DROPOUT_FRACTS = [0.0, 0.2, 0.4, 0.6, 0.8]\n",
    "\n",
    "#\n",
    "RANDOM_SEED = 523423"
   ]
  },
  {
   "cell_type": "code",
   "execution_count": 3,
   "id": "8ea720f7",
   "metadata": {},
   "outputs": [],
   "source": [
    "np.random.seed(RANDOM_SEED)\n",
    "tf.random.set_seed(RANDOM_SEED)\n",
    "keras.utils.set_random_seed(RANDOM_SEED)"
   ]
  },
  {
   "cell_type": "markdown",
   "id": "220786cf",
   "metadata": {},
   "source": [
    "**Create save folder**"
   ]
  },
  {
   "cell_type": "code",
   "execution_count": 4,
   "id": "7cf1fc1c",
   "metadata": {},
   "outputs": [],
   "source": [
    "pathlib.Path(SAVE_FOLDER).mkdir(exist_ok=True)"
   ]
  },
  {
   "cell_type": "markdown",
   "id": "c6062d50",
   "metadata": {},
   "source": [
    "**Import GloVe vectors**"
   ]
  },
  {
   "cell_type": "code",
   "execution_count": 5,
   "id": "235b1ace",
   "metadata": {},
   "outputs": [],
   "source": [
    "GLOVE_EMBED_DICT = miscUtilHelp.getGloveVectorsFromPath(GLOVE_PATH)"
   ]
  },
  {
   "cell_type": "markdown",
   "id": "43322bd0",
   "metadata": {},
   "source": [
    "**Import raw data**"
   ]
  },
  {
   "cell_type": "code",
   "execution_count": 6,
   "id": "82dd70ba",
   "metadata": {},
   "outputs": [
    {
     "data": {
      "text/html": [
       "<div>\n",
       "<style scoped>\n",
       "    .dataframe tbody tr th:only-of-type {\n",
       "        vertical-align: middle;\n",
       "    }\n",
       "\n",
       "    .dataframe tbody tr th {\n",
       "        vertical-align: top;\n",
       "    }\n",
       "\n",
       "    .dataframe thead th {\n",
       "        text-align: right;\n",
       "    }\n",
       "</style>\n",
       "<table border=\"1\" class=\"dataframe\">\n",
       "  <thead>\n",
       "    <tr style=\"text-align: right;\">\n",
       "      <th></th>\n",
       "      <th>id</th>\n",
       "      <th>keyword</th>\n",
       "      <th>location</th>\n",
       "      <th>text</th>\n",
       "      <th>target</th>\n",
       "    </tr>\n",
       "  </thead>\n",
       "  <tbody>\n",
       "    <tr>\n",
       "      <th>0</th>\n",
       "      <td>1</td>\n",
       "      <td>NaN</td>\n",
       "      <td>NaN</td>\n",
       "      <td>Our Deeds are the Reason of this #earthquake M...</td>\n",
       "      <td>1</td>\n",
       "    </tr>\n",
       "    <tr>\n",
       "      <th>1</th>\n",
       "      <td>4</td>\n",
       "      <td>NaN</td>\n",
       "      <td>NaN</td>\n",
       "      <td>Forest fire near La Ronge Sask. Canada</td>\n",
       "      <td>1</td>\n",
       "    </tr>\n",
       "  </tbody>\n",
       "</table>\n",
       "</div>"
      ],
      "text/plain": [
       "   id keyword location                                               text   \n",
       "0   1     NaN      NaN  Our Deeds are the Reason of this #earthquake M...  \\\n",
       "1   4     NaN      NaN             Forest fire near La Ronge Sask. Canada   \n",
       "\n",
       "   target  \n",
       "0       1  \n",
       "1       1  "
      ]
     },
     "execution_count": 6,
     "metadata": {},
     "output_type": "execute_result"
    }
   ],
   "source": [
    "RAW_TRAIN = pd.read_csv(TRAIN_PATH)\n",
    "RAW_TRAIN.head(2)"
   ]
  },
  {
   "cell_type": "markdown",
   "id": "f6e740c6",
   "metadata": {},
   "source": [
    "**Apply a standard text cleaning pipeline**"
   ]
  },
  {
   "cell_type": "code",
   "execution_count": 7,
   "id": "01efac81",
   "metadata": {},
   "outputs": [],
   "source": [
    "cleanPipe = stdPipeHelp.loadTextPreprocPipeA()\n",
    "PROC_DATA = cleanPipe.fit_transform(RAW_TRAIN)"
   ]
  },
  {
   "cell_type": "markdown",
   "id": "7c357a91",
   "metadata": {},
   "source": [
    "**Shuffle the frame**"
   ]
  },
  {
   "cell_type": "code",
   "execution_count": 8,
   "id": "bf7a4ecf",
   "metadata": {},
   "outputs": [],
   "source": [
    "PROC_DATA = PROC_DATA.sample(frac=1.0)"
   ]
  },
  {
   "cell_type": "code",
   "execution_count": 9,
   "id": "95fcb32b",
   "metadata": {},
   "outputs": [
    {
     "data": {
      "text/html": [
       "<div>\n",
       "<style scoped>\n",
       "    .dataframe tbody tr th:only-of-type {\n",
       "        vertical-align: middle;\n",
       "    }\n",
       "\n",
       "    .dataframe tbody tr th {\n",
       "        vertical-align: top;\n",
       "    }\n",
       "\n",
       "    .dataframe thead th {\n",
       "        text-align: right;\n",
       "    }\n",
       "</style>\n",
       "<table border=\"1\" class=\"dataframe\">\n",
       "  <thead>\n",
       "    <tr style=\"text-align: right;\">\n",
       "      <th></th>\n",
       "      <th>id</th>\n",
       "      <th>keyword</th>\n",
       "      <th>location</th>\n",
       "      <th>text</th>\n",
       "      <th>target</th>\n",
       "    </tr>\n",
       "  </thead>\n",
       "  <tbody>\n",
       "    <tr>\n",
       "      <th>663</th>\n",
       "      <td>958</td>\n",
       "      <td>blaze</td>\n",
       "      <td>Mo.City</td>\n",
       "      <td>@beautiful_juic1 just letting you know</td>\n",
       "      <td>0</td>\n",
       "    </tr>\n",
       "    <tr>\n",
       "      <th>2086</th>\n",
       "      <td>2998</td>\n",
       "      <td>dead</td>\n",
       "      <td>NaN</td>\n",
       "      <td>@atchisonsean he is dead</td>\n",
       "      <td>0</td>\n",
       "    </tr>\n",
       "  </tbody>\n",
       "</table>\n",
       "</div>"
      ],
      "text/plain": [
       "        id keyword location                                    text  target\n",
       "663    958   blaze  Mo.City  @beautiful_juic1 just letting you know       0\n",
       "2086  2998    dead      NaN                @atchisonsean he is dead       0"
      ]
     },
     "execution_count": 9,
     "metadata": {},
     "output_type": "execute_result"
    }
   ],
   "source": [
    "PROC_DATA.head(2)"
   ]
  },
  {
   "cell_type": "markdown",
   "id": "70320c30",
   "metadata": {},
   "source": [
    "**Split into train/val data**"
   ]
  },
  {
   "cell_type": "code",
   "execution_count": 10,
   "id": "a097a158",
   "metadata": {},
   "outputs": [],
   "source": [
    "TRAIN_DATA = PROC_DATA.sample(frac=0.8)\n",
    "VAL_DATA = PROC_DATA.drop(TRAIN_DATA.index)"
   ]
  },
  {
   "cell_type": "markdown",
   "id": "118cb140",
   "metadata": {},
   "source": [
    "**Add vocab indices to each frame**"
   ]
  },
  {
   "cell_type": "code",
   "execution_count": 11,
   "id": "8bb645d5",
   "metadata": {},
   "outputs": [],
   "source": [
    "vectorizerPipe = procPipeHelp.AddVectorizedColumns(VOCAB_SIZE, MAX_TEXT_LENGTH)\n",
    "vectorizerPipe.fit(TRAIN_DATA)\n",
    "TRAIN_DATA = vectorizerPipe.transform(TRAIN_DATA)\n",
    "VAL_DATA = vectorizerPipe.transform(VAL_DATA)"
   ]
  },
  {
   "cell_type": "code",
   "execution_count": 12,
   "id": "7c56b531",
   "metadata": {},
   "outputs": [
    {
     "data": {
      "text/html": [
       "<div>\n",
       "<style scoped>\n",
       "    .dataframe tbody tr th:only-of-type {\n",
       "        vertical-align: middle;\n",
       "    }\n",
       "\n",
       "    .dataframe tbody tr th {\n",
       "        vertical-align: top;\n",
       "    }\n",
       "\n",
       "    .dataframe thead th {\n",
       "        text-align: right;\n",
       "    }\n",
       "</style>\n",
       "<table border=\"1\" class=\"dataframe\">\n",
       "  <thead>\n",
       "    <tr style=\"text-align: right;\">\n",
       "      <th></th>\n",
       "      <th>id</th>\n",
       "      <th>keyword</th>\n",
       "      <th>location</th>\n",
       "      <th>text</th>\n",
       "      <th>target</th>\n",
       "      <th>vect_text_0</th>\n",
       "      <th>vect_text_1</th>\n",
       "      <th>vect_text_2</th>\n",
       "      <th>vect_text_3</th>\n",
       "      <th>vect_text_4</th>\n",
       "      <th>...</th>\n",
       "      <th>vect_text_190</th>\n",
       "      <th>vect_text_191</th>\n",
       "      <th>vect_text_192</th>\n",
       "      <th>vect_text_193</th>\n",
       "      <th>vect_text_194</th>\n",
       "      <th>vect_text_195</th>\n",
       "      <th>vect_text_196</th>\n",
       "      <th>vect_text_197</th>\n",
       "      <th>vect_text_198</th>\n",
       "      <th>vect_text_199</th>\n",
       "    </tr>\n",
       "  </thead>\n",
       "  <tbody>\n",
       "    <tr>\n",
       "      <th>7471</th>\n",
       "      <td>10688</td>\n",
       "      <td>wreck</td>\n",
       "      <td>1/10 Taron squad</td>\n",
       "      <td>season three of new girl was such a emotional ...</td>\n",
       "      <td>0</td>\n",
       "      <td>875</td>\n",
       "      <td>108</td>\n",
       "      <td>7</td>\n",
       "      <td>56</td>\n",
       "      <td>446</td>\n",
       "      <td>...</td>\n",
       "      <td>0</td>\n",
       "      <td>0</td>\n",
       "      <td>0</td>\n",
       "      <td>0</td>\n",
       "      <td>0</td>\n",
       "      <td>0</td>\n",
       "      <td>0</td>\n",
       "      <td>0</td>\n",
       "      <td>0</td>\n",
       "      <td>0</td>\n",
       "    </tr>\n",
       "    <tr>\n",
       "      <th>6651</th>\n",
       "      <td>9529</td>\n",
       "      <td>terrorist</td>\n",
       "      <td>NaN</td>\n",
       "      <td>three israeli soldiers wounded in west bank te...</td>\n",
       "      <td>1</td>\n",
       "      <td>108</td>\n",
       "      <td>1039</td>\n",
       "      <td>1329</td>\n",
       "      <td>372</td>\n",
       "      <td>5</td>\n",
       "      <td>...</td>\n",
       "      <td>0</td>\n",
       "      <td>0</td>\n",
       "      <td>0</td>\n",
       "      <td>0</td>\n",
       "      <td>0</td>\n",
       "      <td>0</td>\n",
       "      <td>0</td>\n",
       "      <td>0</td>\n",
       "      <td>0</td>\n",
       "      <td>0</td>\n",
       "    </tr>\n",
       "  </tbody>\n",
       "</table>\n",
       "<p>2 rows × 205 columns</p>\n",
       "</div>"
      ],
      "text/plain": [
       "         id    keyword          location   \n",
       "7471  10688      wreck  1/10 Taron squad  \\\n",
       "6651   9529  terrorist               NaN   \n",
       "\n",
       "                                                   text  target  vect_text_0   \n",
       "7471  season three of new girl was such a emotional ...       0          875  \\\n",
       "6651  three israeli soldiers wounded in west bank te...       1          108   \n",
       "\n",
       "      vect_text_1  vect_text_2  vect_text_3  vect_text_4  ...  vect_text_190   \n",
       "7471          108            7           56          446  ...              0  \\\n",
       "6651         1039         1329          372            5  ...              0   \n",
       "\n",
       "      vect_text_191  vect_text_192  vect_text_193  vect_text_194   \n",
       "7471              0              0              0              0  \\\n",
       "6651              0              0              0              0   \n",
       "\n",
       "      vect_text_195  vect_text_196  vect_text_197  vect_text_198   \n",
       "7471              0              0              0              0  \\\n",
       "6651              0              0              0              0   \n",
       "\n",
       "      vect_text_199  \n",
       "7471              0  \n",
       "6651              0  \n",
       "\n",
       "[2 rows x 205 columns]"
      ]
     },
     "execution_count": 12,
     "metadata": {},
     "output_type": "execute_result"
    }
   ],
   "source": [
    "TRAIN_DATA.head(2)"
   ]
  },
  {
   "cell_type": "markdown",
   "id": "0aff950c",
   "metadata": {},
   "source": [
    "**Create the embedding layer**"
   ]
  },
  {
   "cell_type": "code",
   "execution_count": 13,
   "id": "141e3f88",
   "metadata": {},
   "outputs": [],
   "source": [
    "_currArgs = [vectorizerPipe.vectorizer, GLOVE_EMBED_DICT, MAX_TEXT_LENGTH ]\n",
    "EMBED_LAYER = netWrapHelp.createEmbedFixedLayer(*_currArgs)"
   ]
  },
  {
   "cell_type": "markdown",
   "id": "4091aad1",
   "metadata": {},
   "source": [
    "**Run grid searches over a couple of parameters (dropout-fraction/convolutional filters/filter length)**"
   ]
  },
  {
   "cell_type": "markdown",
   "id": "47815ede",
   "metadata": {},
   "source": [
    "These are parameters related largely to the embedding/convolution part of our net architecture (rather than the hidden layers we MAY add). The architecture of our net can be found in the source code for the \"SimpleConvNetFactoryA\" function called below."
   ]
  },
  {
   "cell_type": "code",
   "execution_count": 14,
   "id": "2d33b855",
   "metadata": {},
   "outputs": [
    {
     "name": "stdout",
     "output_type": "stream",
     "text": [
      "Using 100 dimensional GloVe vectors\n"
     ]
    }
   ],
   "source": [
    "VECT_LENGTH = len( next(iter(GLOVE_EMBED_DICT.values()))  )\n",
    "print(\"Using {} dimensional GloVe vectors\".format(VECT_LENGTH))"
   ]
  },
  {
   "cell_type": "code",
   "execution_count": 15,
   "id": "9339e944",
   "metadata": {},
   "outputs": [],
   "source": [
    "\n",
    "def fillInGridSearchScores(nFilters, printProgress=True, verbose=1):\n",
    "    sharedArgs = [EMBED_LAYER, VECT_LENGTH, MAX_TEXT_LENGTH]\n",
    "    _jobsLeft = len(GRID_SEARCH_DROPOUT_FRACTS)*len(GRID_SEARCH_FILTER_LENGTHS)\n",
    "    for rIdx,dropoutFract in enumerate(GRID_SEARCH_DROPOUT_FRACTS):\n",
    "        for cIdx,filterLength in enumerate(GRID_SEARCH_FILTER_LENGTHS):\n",
    "            _currKwargs = {\"dropoutFracts\":[dropoutFract,0.0], \"convNFilters\":nFilters,\n",
    "                           \"convFilterLength\":filterLength}\n",
    "            currFactory = netWrapHelp.SimpleConvNetFactoryA(*sharedArgs, **_currKwargs)\n",
    "            _useFeats = list() #We use prefixes to describe what features we actually use\n",
    "            \n",
    "            _currKwargs = {\"featPrefix\":[\"vect_text\"], \"verbose\":verbose, \"metrics\":[\"acc\"], \"logitsOutput\":False}\n",
    "            netWrapper = netWrapHelp.BinaryNetWrapper( _useFeats, currFactory, SAVE_FOLDER, **_currKwargs)\n",
    "            netWrapper.fit(TRAIN_DATA)\n",
    "            currScore = netWrapper.score(VAL_DATA)\n",
    "            GRID_SEARCH_SCORES[nFilters][rIdx][cIdx] = currScore\n",
    "            _jobsLeft -= 1\n",
    "            if printProgress:\n",
    "                print(\"{} jobs left for nFilters={}\".format(_jobsLeft,nFilters) )\n",
    "            \n",
    "    #Write to file\n",
    "    outPath = _getOutPathFromNFilters(nFilters)\n",
    "    with open(outPath,\"wt\") as f:\n",
    "        json.dump(GRID_SEARCH_SCORES[nFilters].tolist(),f)\n",
    "    \n",
    "\n",
    "def _getOutPathFromNFilters(nFilters):\n",
    "    return os.path.join(SAVE_FOLDER, \"grid_search_nfilters_{}.json\".format(nFilters) )"
   ]
  },
  {
   "cell_type": "code",
   "execution_count": 16,
   "id": "131a9f80",
   "metadata": {},
   "outputs": [
    {
     "name": "stdout",
     "output_type": "stream",
     "text": [
      " "
     ]
    }
   ],
   "source": [
    "%%prun\n",
    "#773377728 function calls (756755109 primitive calls) in 1248.162 seconds\n",
    "\n",
    "_gridShape = ( len(GRID_SEARCH_DROPOUT_FRACTS), len(GRID_SEARCH_FILTER_LENGTHS) )\n",
    "GRID_SEARCH_SCORES = { nFilters: np.zeros( _gridShape ) for nFilters in GRID_SEARCH_NFILTERS }\n",
    "\n",
    "if RERUN_HP_SEARCH:\n",
    "    for nFilters in GRID_SEARCH_NFILTERS:\n",
    "        fillInGridSearchScores(nFilters)\n",
    "else:\n",
    "    for nFilters in GRID_SEARCH_SCORES.keys():\n",
    "        currPath = _getOutPathFromNFilters(nFilters)\n",
    "        with open(currPath,\"rt\") as f:\n",
    "            GRID_SEARCH_SCORES[nFilters] = np.array(json.load(f))"
   ]
  },
  {
   "cell_type": "markdown",
   "id": "144e2588",
   "metadata": {},
   "source": [
    "**Visualize results of the grid search**"
   ]
  },
  {
   "cell_type": "code",
   "execution_count": 17,
   "id": "b98fbaf6",
   "metadata": {},
   "outputs": [
    {
     "data": {
      "image/png": "[encoded data removed]",
      "text/plain": [
       "<Figure size 700x500 with 6 Axes>"
      ]
     },
     "metadata": {},
     "output_type": "display_data"
    }
   ],
   "source": [
    "#Create a template heatmap plotter\n",
    "_maxColor = max([np.max(x) for x in GRID_SEARCH_SCORES.values()])\n",
    "_minColor = min([np.min(x) for x in GRID_SEARCH_SCORES.values()])\n",
    "_currKwargs = {\"annotateVals\":True,\n",
    "               \"colorBarShow\":True,\n",
    "               \"colorMapMaxVal\":_maxColor,\n",
    "               \"colorMapMinVal\":_minColor,\n",
    "               \"groupLabelsCols\":GRID_SEARCH_FILTER_LENGTHS,\n",
    "               \"groupLabelsRows\":GRID_SEARCH_DROPOUT_FRACTS,\n",
    "               \"xLabelStr\":\"Filter Length\",\n",
    "               \"yLabelStr\":\"Dropout Fraction\"\n",
    "              }\n",
    "heatmapTemplate = ppl.DiscreteHeatMapPlotter(**_currKwargs)\n",
    "\n",
    "\n",
    "#Get individual discrete heat maps\n",
    "plotters = list()\n",
    "for nFilters,scores in GRID_SEARCH_SCORES.items():\n",
    "    _titleStr = nFilters\n",
    "    _currKwargs = {\"plotData\":scores, \"titleStr\":\"Number of Filters  = {}\".format(nFilters)}\n",
    "    _currPlotter = heatmapTemplate.createFactory(**_currKwargs)\n",
    "    plotters.append(_currPlotter)\n",
    "\n",
    "#Remove y-axis label from all but one\n",
    "    \n",
    "#Plot heat maps in a grid\n",
    "_currKwargs = {\"constrainedLayout\":True,\n",
    "               \"figHeightPerRow\":2.5,\n",
    "               \"figWidthPerCol\":3.5,\n",
    "               \"nColsGrid\":2\n",
    "               }\n",
    "gridPlotter = ppl.RectMultiPlotter(**_currKwargs)\n",
    "\n",
    "_unused = gridPlotter.createPlot(plotters=plotters)"
   ]
  },
  {
   "cell_type": "markdown",
   "id": "e9e01b0e",
   "metadata": {},
   "source": [
    "**Conclusions:**"
   ]
  },
  {
   "cell_type": "markdown",
   "id": "f300fe48",
   "metadata": {},
   "source": [
    "1) Not a huge dependence on any of the tested hyperparameters\n",
    "\n",
    "2) Dropout fraction=0.8 is likely too large (which isnt massively surprising)"
   ]
  },
  {
   "cell_type": "markdown",
   "id": "76420524",
   "metadata": {},
   "source": [
    "**Carry out a random search of hyperparameter space**"
   ]
  },
  {
   "cell_type": "markdown",
   "id": "3c5c2e99",
   "metadata": {},
   "source": [
    "We have too many hyperparameters for grid search to be feasible. A random search is then more likely to find a reasonable point on the hypersurface since it allows exploration of more parameter values"
   ]
  },
  {
   "cell_type": "code",
   "execution_count": 18,
   "id": "ba3ec3bc",
   "metadata": {},
   "outputs": [
    {
     "name": "stdout",
     "output_type": "stream",
     "text": [
      "1152 possible hyperparameter combinations in the search space\n"
     ]
    }
   ],
   "source": [
    "#\n",
    "_poolTypesA = [\"average\", \"max\"]\n",
    "_poolTypesB = [\"average\", \"max\"]\n",
    "_dropoutVals = [ [0.2,0.2], [0.2,0.4], [0.2,0.6],\n",
    "                 [0.4,0.2], [0.4,0.4], [0.4,0.6] ]\n",
    "_hiddenLayers = [None, [128,64,32], [64,32,16], [8,4] ]\n",
    "_nFilters = [128, 96, 64, 32]\n",
    "_convLength = [ 4,5,6 ]\n",
    "\n",
    "\n",
    "\n",
    "searchSpaceDict = {\"convNFilters\": _nFilters,\n",
    "                   \"convFilterLength\": _convLength,\n",
    "                   \"dropoutFracts\":_dropoutVals,\n",
    "                   \"globPoolType\": _poolTypesB,\n",
    "                   \"poolTypeA\": _poolTypesA,\n",
    "                   \"hiddenLayerNodes\":_hiddenLayers\n",
    "                  }\n",
    "\n",
    "searchSpace = {\"convNFilters\": hyperopt.hp.choice(\"convNFilters\",_nFilters),\n",
    "               \"convFilterLength\": hyperopt.hp.choice(\"convFilterLength\",_convLength),\n",
    "               \"dropoutFracts\":hyperopt.hp.choice(\"dropoutFracts\", _dropoutVals),\n",
    "               \"globPoolType\": hyperopt.hp.choice(\"globPoolType\",_poolTypesB),\n",
    "               \"poolTypeA\": hyperopt.hp.choice(\"poolTypeA\", _poolTypesA),\n",
    "               \"hiddenLayerNodes\": hyperopt.hp.choice(\"hiddenLayerNodes\",_hiddenLayers)   }\n",
    "\n",
    "_nPossible = 1\n",
    "for val in searchSpaceDict.values():\n",
    "    _nPossible *= len(val)\n",
    "\n",
    "print(\"{} possible hyperparameter combinations in the search space\".format(_nPossible))"
   ]
  },
  {
   "cell_type": "code",
   "execution_count": 19,
   "id": "15ec6e36",
   "metadata": {},
   "outputs": [],
   "source": [
    "def calcScoreFromNetFactoryKwargs(searchSpace):\n",
    "    #\n",
    "    useKwargs = dict()\n",
    "    useKwargs.update(searchSpace)\n",
    "    \n",
    "    #\n",
    "    currFactory = netWrapHelp.SimpleConvNetFactoryA(EMBED_LAYER, VECT_LENGTH, MAX_TEXT_LENGTH, **useKwargs)\n",
    "    \n",
    "    netWrapper = netWrapHelp.BinaryNetWrapper( list(), currFactory, SAVE_FOLDER ,\n",
    "                                               featPrefix=[\"vect_text\"], verbose=0, metrics=[\"acc\"],\n",
    "                                               logitsOutput=False )\n",
    "    netWrapper.fit(TRAIN_DATA)\n",
    "    return -1*netWrapper.score(VAL_DATA)\n",
    "    \n",
    "    "
   ]
  },
  {
   "cell_type": "code",
   "execution_count": 20,
   "id": "35543702",
   "metadata": {},
   "outputs": [
    {
     "name": "stdout",
     "output_type": "stream",
     "text": [
      " "
     ]
    }
   ],
   "source": [
    "%%prun\n",
    "# 490091864 function calls (478875826 primitive calls) in 919.290 seconds\n",
    "\n",
    "trials = hyperopt.Trials()\n",
    "\n",
    "if RERUN_HP_SEARCH:\n",
    "    best_hyperparams = hyperopt.fmin(fn = calcScoreFromNetFactoryKwargs,\n",
    "                            space = searchSpace,\n",
    "                            algo = hyperopt.tpe.suggest,\n",
    "                            max_evals = 33,\n",
    "                            trials = trials)"
   ]
  },
  {
   "cell_type": "markdown",
   "id": "34829970",
   "metadata": {},
   "source": [
    "**Save or load the trials object**"
   ]
  },
  {
   "cell_type": "code",
   "execution_count": 21,
   "id": "c16d0f77",
   "metadata": {},
   "outputs": [],
   "source": [
    "trialsSavePath = os.path.join(SAVE_FOLDER, \"trials.json\")\n",
    "\n",
    "if RERUN_HP_SEARCH:\n",
    "    with open(trialsSavePath, 'wb') as f:\n",
    "        pickle.dump(trials, f)\n",
    "else:\n",
    "    with open(trialsSavePath, 'rb') as f:\n",
    "        trials = pickle.load(f)\n"
   ]
  },
  {
   "cell_type": "markdown",
   "id": "e6476146",
   "metadata": {},
   "source": [
    "**Print the best result from the random search**"
   ]
  },
  {
   "cell_type": "code",
   "execution_count": 22,
   "id": "97cfea84",
   "metadata": {},
   "outputs": [
    {
     "data": {
      "text/plain": [
       "{'loss': -0.7647610121836925, 'status': 'ok'}"
      ]
     },
     "execution_count": 22,
     "metadata": {},
     "output_type": "execute_result"
    }
   ],
   "source": [
    "trials.best_trial[\"result\"]"
   ]
  },
  {
   "cell_type": "code",
   "execution_count": 23,
   "id": "4d65d4aa",
   "metadata": {},
   "outputs": [
    {
     "name": "stdout",
     "output_type": "stream",
     "text": [
      "convFilterLength = 5\n",
      "convNFilters = 128\n",
      "dropoutFracts = [0.2, 0.6]\n",
      "globPoolType = max\n",
      "hiddenLayerNodes = [8, 4]\n",
      "poolTypeA = max\n"
     ]
    },
    {
     "data": {
      "text/plain": [
       "[None, None, None, None, None, None]"
      ]
     },
     "execution_count": 23,
     "metadata": {},
     "output_type": "execute_result"
    }
   ],
   "source": [
    "[ print(\"{} = {}\".format(key,searchSpaceDict[key][idx[0]])) for key,idx in trials.best_trial[\"misc\"][\"vals\"].items()]"
   ]
  },
  {
   "cell_type": "markdown",
   "id": "6b3f3eb8",
   "metadata": {},
   "source": [
    "**Create a new embed layer; fitted to the WHOLE dataset**"
   ]
  },
  {
   "cell_type": "code",
   "execution_count": 24,
   "id": "aae9019b",
   "metadata": {},
   "outputs": [],
   "source": [
    "vectorizerPipeFinal = procPipeHelp.AddVectorizedColumns(VOCAB_SIZE, MAX_TEXT_LENGTH)\n",
    "vectorizerPipeFinal.fit(PROC_DATA)\n",
    "_currArgs = [vectorizerPipeFinal.vectorizer, GLOVE_EMBED_DICT, MAX_TEXT_LENGTH ]\n",
    "EMBED_LAYER_FINAL = netWrapHelp.createEmbedFixedLayer(*_currArgs)"
   ]
  },
  {
   "cell_type": "markdown",
   "id": "68654e17",
   "metadata": {},
   "source": [
    "**Create a final model with the best hyperparameters**"
   ]
  },
  {
   "cell_type": "code",
   "execution_count": 25,
   "id": "557afc85",
   "metadata": {},
   "outputs": [],
   "source": [
    "#Deal with the net architecture\n",
    "_currArgs = [ EMBED_LAYER_FINAL, VECT_LENGTH, MAX_TEXT_LENGTH]\n",
    "_currKwargs = {\"dropoutFracts\":[0.2,0.6],\n",
    "              \"convNFilters\":128,\n",
    "              \"convFilterLength\":5,\n",
    "              \"poolTypeA\":\"max\",\n",
    "              \"globPoolType\":\"max\",\n",
    "              \"hiddenLayerNodes\":[8,4]}\n",
    "_modelFactory = netWrapHelp.SimpleConvNetFactoryA(*_currArgs, **_currKwargs)\n",
    "\n",
    "#Deal with the interface to the net (and options on how to train it)\n",
    "_feats = list() #We use featPrefix to get the features we need\n",
    "_currArgs = [ _feats, _modelFactory, SAVE_FOLDER  ]\n",
    "_currKwargs = {\"featPrefix\":[\"vect_text\"], \"verbose\":1, \"metrics\":[\"acc\"], \"logitsOutput\":False}\n",
    "MODEL = netWrapHelp.BinaryNetWrapper(*_currArgs, **_currKwargs)"
   ]
  },
  {
   "cell_type": "markdown",
   "id": "8257bbdf",
   "metadata": {},
   "source": [
    "**Train the final model on the full dataset**"
   ]
  },
  {
   "cell_type": "markdown",
   "id": "59f50c63",
   "metadata": {},
   "source": [
    "Really its trained on 80% of the data; using the other 20% to pick the best epoch"
   ]
  },
  {
   "cell_type": "code",
   "execution_count": 26,
   "id": "a8873225",
   "metadata": {},
   "outputs": [
    {
     "data": {
      "text/html": [
       "<div>\n",
       "<style scoped>\n",
       "    .dataframe tbody tr th:only-of-type {\n",
       "        vertical-align: middle;\n",
       "    }\n",
       "\n",
       "    .dataframe tbody tr th {\n",
       "        vertical-align: top;\n",
       "    }\n",
       "\n",
       "    .dataframe thead th {\n",
       "        text-align: right;\n",
       "    }\n",
       "</style>\n",
       "<table border=\"1\" class=\"dataframe\">\n",
       "  <thead>\n",
       "    <tr style=\"text-align: right;\">\n",
       "      <th></th>\n",
       "      <th>id</th>\n",
       "      <th>keyword</th>\n",
       "      <th>location</th>\n",
       "      <th>text</th>\n",
       "      <th>target</th>\n",
       "      <th>vect_text_0</th>\n",
       "      <th>vect_text_1</th>\n",
       "      <th>vect_text_2</th>\n",
       "      <th>vect_text_3</th>\n",
       "      <th>vect_text_4</th>\n",
       "      <th>...</th>\n",
       "      <th>vect_text_190</th>\n",
       "      <th>vect_text_191</th>\n",
       "      <th>vect_text_192</th>\n",
       "      <th>vect_text_193</th>\n",
       "      <th>vect_text_194</th>\n",
       "      <th>vect_text_195</th>\n",
       "      <th>vect_text_196</th>\n",
       "      <th>vect_text_197</th>\n",
       "      <th>vect_text_198</th>\n",
       "      <th>vect_text_199</th>\n",
       "    </tr>\n",
       "  </thead>\n",
       "  <tbody>\n",
       "    <tr>\n",
       "      <th>663</th>\n",
       "      <td>958</td>\n",
       "      <td>blaze</td>\n",
       "      <td>Mo.City</td>\n",
       "      <td>@beautiful_juic1 just letting you know</td>\n",
       "      <td>0</td>\n",
       "      <td>16425</td>\n",
       "      <td>31</td>\n",
       "      <td>2902</td>\n",
       "      <td>10</td>\n",
       "      <td>87</td>\n",
       "      <td>...</td>\n",
       "      <td>0</td>\n",
       "      <td>0</td>\n",
       "      <td>0</td>\n",
       "      <td>0</td>\n",
       "      <td>0</td>\n",
       "      <td>0</td>\n",
       "      <td>0</td>\n",
       "      <td>0</td>\n",
       "      <td>0</td>\n",
       "      <td>0</td>\n",
       "    </tr>\n",
       "    <tr>\n",
       "      <th>2086</th>\n",
       "      <td>2998</td>\n",
       "      <td>dead</td>\n",
       "      <td>NaN</td>\n",
       "      <td>@atchisonsean he is dead</td>\n",
       "      <td>0</td>\n",
       "      <td>16679</td>\n",
       "      <td>49</td>\n",
       "      <td>9</td>\n",
       "      <td>114</td>\n",
       "      <td>0</td>\n",
       "      <td>...</td>\n",
       "      <td>0</td>\n",
       "      <td>0</td>\n",
       "      <td>0</td>\n",
       "      <td>0</td>\n",
       "      <td>0</td>\n",
       "      <td>0</td>\n",
       "      <td>0</td>\n",
       "      <td>0</td>\n",
       "      <td>0</td>\n",
       "      <td>0</td>\n",
       "    </tr>\n",
       "    <tr>\n",
       "      <th>2607</th>\n",
       "      <td>3742</td>\n",
       "      <td>destroyed</td>\n",
       "      <td>USA</td>\n",
       "      <td>black eye nine : a space battle occurred at st...</td>\n",
       "      <td>0</td>\n",
       "      <td>208</td>\n",
       "      <td>912</td>\n",
       "      <td>570</td>\n",
       "      <td>3</td>\n",
       "      <td>678</td>\n",
       "      <td>...</td>\n",
       "      <td>0</td>\n",
       "      <td>0</td>\n",
       "      <td>0</td>\n",
       "      <td>0</td>\n",
       "      <td>0</td>\n",
       "      <td>0</td>\n",
       "      <td>0</td>\n",
       "      <td>0</td>\n",
       "      <td>0</td>\n",
       "      <td>0</td>\n",
       "    </tr>\n",
       "    <tr>\n",
       "      <th>200</th>\n",
       "      <td>281</td>\n",
       "      <td>ambulance</td>\n",
       "      <td>VISIT MY YOUTUBE CHANNEL.</td>\n",
       "      <td>happening now - hatzolah ems ambulance respond...</td>\n",
       "      <td>0</td>\n",
       "      <td>1172</td>\n",
       "      <td>54</td>\n",
       "      <td>13132</td>\n",
       "      <td>2104</td>\n",
       "      <td>524</td>\n",
       "      <td>...</td>\n",
       "      <td>0</td>\n",
       "      <td>0</td>\n",
       "      <td>0</td>\n",
       "      <td>0</td>\n",
       "      <td>0</td>\n",
       "      <td>0</td>\n",
       "      <td>0</td>\n",
       "      <td>0</td>\n",
       "      <td>0</td>\n",
       "      <td>0</td>\n",
       "    </tr>\n",
       "    <tr>\n",
       "      <th>5661</th>\n",
       "      <td>8074</td>\n",
       "      <td>rescue</td>\n",
       "      <td>NaN</td>\n",
       "      <td>sammy and todd always to the rescue may not be...</td>\n",
       "      <td>0</td>\n",
       "      <td>9063</td>\n",
       "      <td>8</td>\n",
       "      <td>2662</td>\n",
       "      <td>244</td>\n",
       "      <td>4</td>\n",
       "      <td>...</td>\n",
       "      <td>0</td>\n",
       "      <td>0</td>\n",
       "      <td>0</td>\n",
       "      <td>0</td>\n",
       "      <td>0</td>\n",
       "      <td>0</td>\n",
       "      <td>0</td>\n",
       "      <td>0</td>\n",
       "      <td>0</td>\n",
       "      <td>0</td>\n",
       "    </tr>\n",
       "    <tr>\n",
       "      <th>...</th>\n",
       "      <td>...</td>\n",
       "      <td>...</td>\n",
       "      <td>...</td>\n",
       "      <td>...</td>\n",
       "      <td>...</td>\n",
       "      <td>...</td>\n",
       "      <td>...</td>\n",
       "      <td>...</td>\n",
       "      <td>...</td>\n",
       "      <td>...</td>\n",
       "      <td>...</td>\n",
       "      <td>...</td>\n",
       "      <td>...</td>\n",
       "      <td>...</td>\n",
       "      <td>...</td>\n",
       "      <td>...</td>\n",
       "      <td>...</td>\n",
       "      <td>...</td>\n",
       "      <td>...</td>\n",
       "      <td>...</td>\n",
       "      <td>...</td>\n",
       "    </tr>\n",
       "    <tr>\n",
       "      <th>1796</th>\n",
       "      <td>2576</td>\n",
       "      <td>crash</td>\n",
       "      <td>NaN</td>\n",
       "      <td>cpanel crash course   #course</td>\n",
       "      <td>0</td>\n",
       "      <td>15219</td>\n",
       "      <td>97</td>\n",
       "      <td>723</td>\n",
       "      <td>723</td>\n",
       "      <td>0</td>\n",
       "      <td>...</td>\n",
       "      <td>0</td>\n",
       "      <td>0</td>\n",
       "      <td>0</td>\n",
       "      <td>0</td>\n",
       "      <td>0</td>\n",
       "      <td>0</td>\n",
       "      <td>0</td>\n",
       "      <td>0</td>\n",
       "      <td>0</td>\n",
       "      <td>0</td>\n",
       "    </tr>\n",
       "    <tr>\n",
       "      <th>4785</th>\n",
       "      <td>6808</td>\n",
       "      <td>loud%20bang</td>\n",
       "      <td>Kenya</td>\n",
       "      <td>tarmineta3 : breaking news ! unconfirmed ! i j...</td>\n",
       "      <td>0</td>\n",
       "      <td>7960</td>\n",
       "      <td>351</td>\n",
       "      <td>64</td>\n",
       "      <td>879</td>\n",
       "      <td>6</td>\n",
       "      <td>...</td>\n",
       "      <td>0</td>\n",
       "      <td>0</td>\n",
       "      <td>0</td>\n",
       "      <td>0</td>\n",
       "      <td>0</td>\n",
       "      <td>0</td>\n",
       "      <td>0</td>\n",
       "      <td>0</td>\n",
       "      <td>0</td>\n",
       "      <td>0</td>\n",
       "    </tr>\n",
       "    <tr>\n",
       "      <th>6644</th>\n",
       "      <td>9513</td>\n",
       "      <td>terrorist</td>\n",
       "      <td>BILASPUR,CHHATTISGARH,495001</td>\n",
       "      <td>the pak terrorist who has been caught alive mu...</td>\n",
       "      <td>1</td>\n",
       "      <td>2</td>\n",
       "      <td>2014</td>\n",
       "      <td>377</td>\n",
       "      <td>68</td>\n",
       "      <td>50</td>\n",
       "      <td>...</td>\n",
       "      <td>0</td>\n",
       "      <td>0</td>\n",
       "      <td>0</td>\n",
       "      <td>0</td>\n",
       "      <td>0</td>\n",
       "      <td>0</td>\n",
       "      <td>0</td>\n",
       "      <td>0</td>\n",
       "      <td>0</td>\n",
       "      <td>0</td>\n",
       "    </tr>\n",
       "    <tr>\n",
       "      <th>12</th>\n",
       "      <td>18</td>\n",
       "      <td>NaN</td>\n",
       "      <td>NaN</td>\n",
       "      <td>#raining #flooding #florida #tampabay #tampa 1...</td>\n",
       "      <td>1</td>\n",
       "      <td>2781</td>\n",
       "      <td>207</td>\n",
       "      <td>1867</td>\n",
       "      <td>7975</td>\n",
       "      <td>2677</td>\n",
       "      <td>...</td>\n",
       "      <td>0</td>\n",
       "      <td>0</td>\n",
       "      <td>0</td>\n",
       "      <td>0</td>\n",
       "      <td>0</td>\n",
       "      <td>0</td>\n",
       "      <td>0</td>\n",
       "      <td>0</td>\n",
       "      <td>0</td>\n",
       "      <td>0</td>\n",
       "    </tr>\n",
       "    <tr>\n",
       "      <th>2695</th>\n",
       "      <td>3866</td>\n",
       "      <td>detonation</td>\n",
       "      <td>NaN</td>\n",
       "      <td>ignition knock (detonation) sensor-senso beck/...</td>\n",
       "      <td>1</td>\n",
       "      <td>789</td>\n",
       "      <td>788</td>\n",
       "      <td>549</td>\n",
       "      <td>1233</td>\n",
       "      <td>6147</td>\n",
       "      <td>...</td>\n",
       "      <td>0</td>\n",
       "      <td>0</td>\n",
       "      <td>0</td>\n",
       "      <td>0</td>\n",
       "      <td>0</td>\n",
       "      <td>0</td>\n",
       "      <td>0</td>\n",
       "      <td>0</td>\n",
       "      <td>0</td>\n",
       "      <td>0</td>\n",
       "    </tr>\n",
       "  </tbody>\n",
       "</table>\n",
       "<p>6975 rows × 205 columns</p>\n",
       "</div>"
      ],
      "text/plain": [
       "        id      keyword                      location   \n",
       "663    958        blaze                       Mo.City  \\\n",
       "2086  2998         dead                           NaN   \n",
       "2607  3742    destroyed                           USA   \n",
       "200    281    ambulance     VISIT MY YOUTUBE CHANNEL.   \n",
       "5661  8074       rescue                           NaN   \n",
       "...    ...          ...                           ...   \n",
       "1796  2576        crash                           NaN   \n",
       "4785  6808  loud%20bang                         Kenya   \n",
       "6644  9513    terrorist  BILASPUR,CHHATTISGARH,495001   \n",
       "12      18          NaN                           NaN   \n",
       "2695  3866   detonation                           NaN   \n",
       "\n",
       "                                                   text  target  vect_text_0   \n",
       "663              @beautiful_juic1 just letting you know       0        16425  \\\n",
       "2086                           @atchisonsean he is dead       0        16679   \n",
       "2607  black eye nine : a space battle occurred at st...       0          208   \n",
       "200   happening now - hatzolah ems ambulance respond...       0         1172   \n",
       "5661  sammy and todd always to the rescue may not be...       0         9063   \n",
       "...                                                 ...     ...          ...   \n",
       "1796                    cpanel crash course   #course         0        15219   \n",
       "4785  tarmineta3 : breaking news ! unconfirmed ! i j...       0         7960   \n",
       "6644  the pak terrorist who has been caught alive mu...       1            2   \n",
       "12    #raining #flooding #florida #tampabay #tampa 1...       1         2781   \n",
       "2695  ignition knock (detonation) sensor-senso beck/...       1          789   \n",
       "\n",
       "      vect_text_1  vect_text_2  vect_text_3  vect_text_4  ...  vect_text_190   \n",
       "663            31         2902           10           87  ...              0  \\\n",
       "2086           49            9          114            0  ...              0   \n",
       "2607          912          570            3          678  ...              0   \n",
       "200            54        13132         2104          524  ...              0   \n",
       "5661            8         2662          244            4  ...              0   \n",
       "...           ...          ...          ...          ...  ...            ...   \n",
       "1796           97          723          723            0  ...              0   \n",
       "4785          351           64          879            6  ...              0   \n",
       "6644         2014          377           68           50  ...              0   \n",
       "12            207         1867         7975         2677  ...              0   \n",
       "2695          788          549         1233         6147  ...              0   \n",
       "\n",
       "      vect_text_191  vect_text_192  vect_text_193  vect_text_194   \n",
       "663               0              0              0              0  \\\n",
       "2086              0              0              0              0   \n",
       "2607              0              0              0              0   \n",
       "200               0              0              0              0   \n",
       "5661              0              0              0              0   \n",
       "...             ...            ...            ...            ...   \n",
       "1796              0              0              0              0   \n",
       "4785              0              0              0              0   \n",
       "6644              0              0              0              0   \n",
       "12                0              0              0              0   \n",
       "2695              0              0              0              0   \n",
       "\n",
       "      vect_text_195  vect_text_196  vect_text_197  vect_text_198   \n",
       "663               0              0              0              0  \\\n",
       "2086              0              0              0              0   \n",
       "2607              0              0              0              0   \n",
       "200               0              0              0              0   \n",
       "5661              0              0              0              0   \n",
       "...             ...            ...            ...            ...   \n",
       "1796              0              0              0              0   \n",
       "4785              0              0              0              0   \n",
       "6644              0              0              0              0   \n",
       "12                0              0              0              0   \n",
       "2695              0              0              0              0   \n",
       "\n",
       "      vect_text_199  \n",
       "663               0  \n",
       "2086              0  \n",
       "2607              0  \n",
       "200               0  \n",
       "5661              0  \n",
       "...             ...  \n",
       "1796              0  \n",
       "4785              0  \n",
       "6644              0  \n",
       "12                0  \n",
       "2695              0  \n",
       "\n",
       "[6975 rows x 205 columns]"
      ]
     },
     "execution_count": 26,
     "metadata": {},
     "output_type": "execute_result"
    }
   ],
   "source": [
    "#Get a vectorized frame\n",
    "VECT_FRAME = vectorizerPipeFinal.transform(PROC_DATA)\n",
    "VECT_FRAME"
   ]
  },
  {
   "cell_type": "code",
   "execution_count": 27,
   "id": "abf9a5d3",
   "metadata": {},
   "outputs": [
    {
     "name": "stdout",
     "output_type": "stream",
     "text": [
      "Epoch 1/10\n",
      "172/175 [============================>.] - ETA: 0s - loss: 0.6017 - acc: 0.7102"
     ]
    },
    {
     "name": "stderr",
     "output_type": "stream",
     "text": [
      "2023-04-25 11:42:29.828088: I tensorflow/core/common_runtime/executor.cc:1197] [/device:CPU:0] (DEBUG INFO) Executor start aborting (this does not indicate an error and you can ignore this message): INVALID_ARGUMENT: You must feed a value for placeholder tensor 'inputs' with dtype float and shape [?,200,100]\n",
      "\t [[{{node inputs}}]]\n",
      "2023-04-25 11:42:29.834930: I tensorflow/core/common_runtime/executor.cc:1197] [/device:CPU:0] (DEBUG INFO) Executor start aborting (this does not indicate an error and you can ignore this message): INVALID_ARGUMENT: You must feed a value for placeholder tensor 'inputs' with dtype float and shape [?,128]\n",
      "\t [[{{node inputs}}]]\n",
      "2023-04-25 11:42:30.762675: I tensorflow/core/common_runtime/executor.cc:1197] [/device:CPU:0] (DEBUG INFO) Executor start aborting (this does not indicate an error and you can ignore this message): INVALID_ARGUMENT: You must feed a value for placeholder tensor 'inputs' with dtype float and shape [?,200,100]\n",
      "\t [[{{node inputs}}]]\n",
      "2023-04-25 11:42:30.786149: I tensorflow/core/common_runtime/executor.cc:1197] [/device:CPU:0] (DEBUG INFO) Executor start aborting (this does not indicate an error and you can ignore this message): INVALID_ARGUMENT: You must feed a value for placeholder tensor 'inputs' with dtype float and shape [?,128]\n",
      "\t [[{{node inputs}}]]\n",
      "WARNING:absl:Found untraced functions such as _jit_compiled_convolution_op, _update_step_xla while saving (showing 2 of 2). These functions will not be directly callable after loading.\n"
     ]
    },
    {
     "name": "stdout",
     "output_type": "stream",
     "text": [
      "INFO:tensorflow:Assets written to: /home/richard/Work/random/learning_ml/kaggle_comps/disaster_tweets_github/src/notebooks/models/glove_conv_net_save_folder/model_a/assets\n"
     ]
    },
    {
     "name": "stderr",
     "output_type": "stream",
     "text": [
      "INFO:tensorflow:Assets written to: /home/richard/Work/random/learning_ml/kaggle_comps/disaster_tweets_github/src/notebooks/models/glove_conv_net_save_folder/model_a/assets\n"
     ]
    },
    {
     "name": "stdout",
     "output_type": "stream",
     "text": [
      "175/175 [==============================] - 4s 21ms/step - loss: 0.6029 - acc: 0.7095 - val_loss: 0.4801 - val_acc: 0.7821\n",
      "Epoch 2/10\n",
      "173/175 [============================>.] - ETA: 0s - loss: 0.4825 - acc: 0.7822"
     ]
    },
    {
     "name": "stderr",
     "output_type": "stream",
     "text": [
      "2023-04-25 11:42:33.347225: I tensorflow/core/common_runtime/executor.cc:1197] [/device:CPU:0] (DEBUG INFO) Executor start aborting (this does not indicate an error and you can ignore this message): INVALID_ARGUMENT: You must feed a value for placeholder tensor 'inputs' with dtype float and shape [?,200,100]\n",
      "\t [[{{node inputs}}]]\n",
      "2023-04-25 11:42:33.354424: I tensorflow/core/common_runtime/executor.cc:1197] [/device:CPU:0] (DEBUG INFO) Executor start aborting (this does not indicate an error and you can ignore this message): INVALID_ARGUMENT: You must feed a value for placeholder tensor 'inputs' with dtype float and shape [?,128]\n",
      "\t [[{{node inputs}}]]\n",
      "2023-04-25 11:42:34.298954: I tensorflow/core/common_runtime/executor.cc:1197] [/device:CPU:0] (DEBUG INFO) Executor start aborting (this does not indicate an error and you can ignore this message): INVALID_ARGUMENT: You must feed a value for placeholder tensor 'inputs' with dtype float and shape [?,200,100]\n",
      "\t [[{{node inputs}}]]\n",
      "2023-04-25 11:42:34.321928: I tensorflow/core/common_runtime/executor.cc:1197] [/device:CPU:0] (DEBUG INFO) Executor start aborting (this does not indicate an error and you can ignore this message): INVALID_ARGUMENT: You must feed a value for placeholder tensor 'inputs' with dtype float and shape [?,128]\n",
      "\t [[{{node inputs}}]]\n",
      "WARNING:absl:Found untraced functions such as _jit_compiled_convolution_op, _update_step_xla while saving (showing 2 of 2). These functions will not be directly callable after loading.\n"
     ]
    },
    {
     "name": "stdout",
     "output_type": "stream",
     "text": [
      "INFO:tensorflow:Assets written to: /home/richard/Work/random/learning_ml/kaggle_comps/disaster_tweets_github/src/notebooks/models/glove_conv_net_save_folder/model_a/assets\n"
     ]
    },
    {
     "name": "stderr",
     "output_type": "stream",
     "text": [
      "INFO:tensorflow:Assets written to: /home/richard/Work/random/learning_ml/kaggle_comps/disaster_tweets_github/src/notebooks/models/glove_conv_net_save_folder/model_a/assets\n"
     ]
    },
    {
     "name": "stdout",
     "output_type": "stream",
     "text": [
      "175/175 [==============================] - 4s 20ms/step - loss: 0.4816 - acc: 0.7826 - val_loss: 0.4732 - val_acc: 0.7943\n",
      "Epoch 3/10\n",
      "173/175 [============================>.] - ETA: 0s - loss: 0.4504 - acc: 0.7941"
     ]
    },
    {
     "name": "stderr",
     "output_type": "stream",
     "text": [
      "2023-04-25 11:42:36.861894: I tensorflow/core/common_runtime/executor.cc:1197] [/device:CPU:0] (DEBUG INFO) Executor start aborting (this does not indicate an error and you can ignore this message): INVALID_ARGUMENT: You must feed a value for placeholder tensor 'inputs' with dtype float and shape [?,200,100]\n",
      "\t [[{{node inputs}}]]\n",
      "2023-04-25 11:42:36.868701: I tensorflow/core/common_runtime/executor.cc:1197] [/device:CPU:0] (DEBUG INFO) Executor start aborting (this does not indicate an error and you can ignore this message): INVALID_ARGUMENT: You must feed a value for placeholder tensor 'inputs' with dtype float and shape [?,128]\n",
      "\t [[{{node inputs}}]]\n",
      "2023-04-25 11:42:37.703989: I tensorflow/core/common_runtime/executor.cc:1197] [/device:CPU:0] (DEBUG INFO) Executor start aborting (this does not indicate an error and you can ignore this message): INVALID_ARGUMENT: You must feed a value for placeholder tensor 'inputs' with dtype float and shape [?,200,100]\n",
      "\t [[{{node inputs}}]]\n",
      "2023-04-25 11:42:37.726246: I tensorflow/core/common_runtime/executor.cc:1197] [/device:CPU:0] (DEBUG INFO) Executor start aborting (this does not indicate an error and you can ignore this message): INVALID_ARGUMENT: You must feed a value for placeholder tensor 'inputs' with dtype float and shape [?,128]\n",
      "\t [[{{node inputs}}]]\n",
      "WARNING:absl:Found untraced functions such as _jit_compiled_convolution_op, _update_step_xla while saving (showing 2 of 2). These functions will not be directly callable after loading.\n"
     ]
    },
    {
     "name": "stdout",
     "output_type": "stream",
     "text": [
      "INFO:tensorflow:Assets written to: /home/richard/Work/random/learning_ml/kaggle_comps/disaster_tweets_github/src/notebooks/models/glove_conv_net_save_folder/model_a/assets\n"
     ]
    },
    {
     "name": "stderr",
     "output_type": "stream",
     "text": [
      "INFO:tensorflow:Assets written to: /home/richard/Work/random/learning_ml/kaggle_comps/disaster_tweets_github/src/notebooks/models/glove_conv_net_save_folder/model_a/assets\n"
     ]
    },
    {
     "name": "stdout",
     "output_type": "stream",
     "text": [
      "175/175 [==============================] - 3s 20ms/step - loss: 0.4503 - acc: 0.7939 - val_loss: 0.4688 - val_acc: 0.7978\n",
      "Epoch 4/10\n",
      "172/175 [============================>.] - ETA: 0s - loss: 0.4185 - acc: 0.8129"
     ]
    },
    {
     "name": "stderr",
     "output_type": "stream",
     "text": [
      "2023-04-25 11:42:40.386632: I tensorflow/core/common_runtime/executor.cc:1197] [/device:CPU:0] (DEBUG INFO) Executor start aborting (this does not indicate an error and you can ignore this message): INVALID_ARGUMENT: You must feed a value for placeholder tensor 'inputs' with dtype float and shape [?,200,100]\n",
      "\t [[{{node inputs}}]]\n",
      "2023-04-25 11:42:40.393402: I tensorflow/core/common_runtime/executor.cc:1197] [/device:CPU:0] (DEBUG INFO) Executor start aborting (this does not indicate an error and you can ignore this message): INVALID_ARGUMENT: You must feed a value for placeholder tensor 'inputs' with dtype float and shape [?,128]\n",
      "\t [[{{node inputs}}]]\n",
      "2023-04-25 11:42:41.233949: I tensorflow/core/common_runtime/executor.cc:1197] [/device:CPU:0] (DEBUG INFO) Executor start aborting (this does not indicate an error and you can ignore this message): INVALID_ARGUMENT: You must feed a value for placeholder tensor 'inputs' with dtype float and shape [?,200,100]\n",
      "\t [[{{node inputs}}]]\n",
      "2023-04-25 11:42:41.257036: I tensorflow/core/common_runtime/executor.cc:1197] [/device:CPU:0] (DEBUG INFO) Executor start aborting (this does not indicate an error and you can ignore this message): INVALID_ARGUMENT: You must feed a value for placeholder tensor 'inputs' with dtype float and shape [?,128]\n",
      "\t [[{{node inputs}}]]\n",
      "WARNING:absl:Found untraced functions such as _jit_compiled_convolution_op, _update_step_xla while saving (showing 2 of 2). These functions will not be directly callable after loading.\n"
     ]
    },
    {
     "name": "stdout",
     "output_type": "stream",
     "text": [
      "INFO:tensorflow:Assets written to: /home/richard/Work/random/learning_ml/kaggle_comps/disaster_tweets_github/src/notebooks/models/glove_conv_net_save_folder/model_a/assets\n"
     ]
    },
    {
     "name": "stderr",
     "output_type": "stream",
     "text": [
      "INFO:tensorflow:Assets written to: /home/richard/Work/random/learning_ml/kaggle_comps/disaster_tweets_github/src/notebooks/models/glove_conv_net_save_folder/model_a/assets\n"
     ]
    },
    {
     "name": "stdout",
     "output_type": "stream",
     "text": [
      "175/175 [==============================] - 4s 20ms/step - loss: 0.4184 - acc: 0.8134 - val_loss: 0.4644 - val_acc: 0.8007\n",
      "Epoch 5/10\n",
      "168/175 [===========================>..] - ETA: 0s - loss: 0.4124 - acc: 0.8129"
     ]
    },
    {
     "name": "stderr",
     "output_type": "stream",
     "text": [
      "2023-04-25 11:42:43.886899: I tensorflow/core/common_runtime/executor.cc:1197] [/device:CPU:0] (DEBUG INFO) Executor start aborting (this does not indicate an error and you can ignore this message): INVALID_ARGUMENT: You must feed a value for placeholder tensor 'inputs' with dtype float and shape [?,200,100]\n",
      "\t [[{{node inputs}}]]\n",
      "2023-04-25 11:42:43.893434: I tensorflow/core/common_runtime/executor.cc:1197] [/device:CPU:0] (DEBUG INFO) Executor start aborting (this does not indicate an error and you can ignore this message): INVALID_ARGUMENT: You must feed a value for placeholder tensor 'inputs' with dtype float and shape [?,128]\n",
      "\t [[{{node inputs}}]]\n",
      "2023-04-25 11:42:44.719084: I tensorflow/core/common_runtime/executor.cc:1197] [/device:CPU:0] (DEBUG INFO) Executor start aborting (this does not indicate an error and you can ignore this message): INVALID_ARGUMENT: You must feed a value for placeholder tensor 'inputs' with dtype float and shape [?,200,100]\n",
      "\t [[{{node inputs}}]]\n",
      "2023-04-25 11:42:44.741583: I tensorflow/core/common_runtime/executor.cc:1197] [/device:CPU:0] (DEBUG INFO) Executor start aborting (this does not indicate an error and you can ignore this message): INVALID_ARGUMENT: You must feed a value for placeholder tensor 'inputs' with dtype float and shape [?,128]\n",
      "\t [[{{node inputs}}]]\n",
      "WARNING:absl:Found untraced functions such as _jit_compiled_convolution_op, _update_step_xla while saving (showing 2 of 2). These functions will not be directly callable after loading.\n"
     ]
    },
    {
     "name": "stdout",
     "output_type": "stream",
     "text": [
      "INFO:tensorflow:Assets written to: /home/richard/Work/random/learning_ml/kaggle_comps/disaster_tweets_github/src/notebooks/models/glove_conv_net_save_folder/model_a/assets\n"
     ]
    },
    {
     "name": "stderr",
     "output_type": "stream",
     "text": [
      "INFO:tensorflow:Assets written to: /home/richard/Work/random/learning_ml/kaggle_comps/disaster_tweets_github/src/notebooks/models/glove_conv_net_save_folder/model_a/assets\n"
     ]
    },
    {
     "name": "stdout",
     "output_type": "stream",
     "text": [
      "175/175 [==============================] - 3s 20ms/step - loss: 0.4115 - acc: 0.8142 - val_loss: 0.4628 - val_acc: 0.8007\n",
      "Epoch 6/10\n",
      "175/175 [==============================] - 1s 9ms/step - loss: 0.3966 - acc: 0.8299 - val_loss: 0.4711 - val_acc: 0.7957\n",
      "Epoch 7/10\n",
      "169/175 [===========================>..] - ETA: 0s - loss: 0.3875 - acc: 0.8349"
     ]
    },
    {
     "name": "stderr",
     "output_type": "stream",
     "text": [
      "2023-04-25 11:42:48.826038: I tensorflow/core/common_runtime/executor.cc:1197] [/device:CPU:0] (DEBUG INFO) Executor start aborting (this does not indicate an error and you can ignore this message): INVALID_ARGUMENT: You must feed a value for placeholder tensor 'inputs' with dtype float and shape [?,200,100]\n",
      "\t [[{{node inputs}}]]\n",
      "2023-04-25 11:42:48.832927: I tensorflow/core/common_runtime/executor.cc:1197] [/device:CPU:0] (DEBUG INFO) Executor start aborting (this does not indicate an error and you can ignore this message): INVALID_ARGUMENT: You must feed a value for placeholder tensor 'inputs' with dtype float and shape [?,128]\n",
      "\t [[{{node inputs}}]]\n",
      "2023-04-25 11:42:49.658644: I tensorflow/core/common_runtime/executor.cc:1197] [/device:CPU:0] (DEBUG INFO) Executor start aborting (this does not indicate an error and you can ignore this message): INVALID_ARGUMENT: You must feed a value for placeholder tensor 'inputs' with dtype float and shape [?,200,100]\n",
      "\t [[{{node inputs}}]]\n",
      "2023-04-25 11:42:49.681138: I tensorflow/core/common_runtime/executor.cc:1197] [/device:CPU:0] (DEBUG INFO) Executor start aborting (this does not indicate an error and you can ignore this message): INVALID_ARGUMENT: You must feed a value for placeholder tensor 'inputs' with dtype float and shape [?,128]\n",
      "\t [[{{node inputs}}]]\n",
      "WARNING:absl:Found untraced functions such as _jit_compiled_convolution_op, _update_step_xla while saving (showing 2 of 2). These functions will not be directly callable after loading.\n"
     ]
    },
    {
     "name": "stdout",
     "output_type": "stream",
     "text": [
      "INFO:tensorflow:Assets written to: /home/richard/Work/random/learning_ml/kaggle_comps/disaster_tweets_github/src/notebooks/models/glove_conv_net_save_folder/model_a/assets\n"
     ]
    },
    {
     "name": "stderr",
     "output_type": "stream",
     "text": [
      "INFO:tensorflow:Assets written to: /home/richard/Work/random/learning_ml/kaggle_comps/disaster_tweets_github/src/notebooks/models/glove_conv_net_save_folder/model_a/assets\n"
     ]
    },
    {
     "name": "stdout",
     "output_type": "stream",
     "text": [
      "175/175 [==============================] - 3s 19ms/step - loss: 0.3877 - acc: 0.8351 - val_loss: 0.4581 - val_acc: 0.8065\n",
      "Epoch 8/10\n",
      "171/175 [============================>.] - ETA: 0s - loss: 0.3738 - acc: 0.8352"
     ]
    },
    {
     "name": "stderr",
     "output_type": "stream",
     "text": [
      "2023-04-25 11:42:52.221994: I tensorflow/core/common_runtime/executor.cc:1197] [/device:CPU:0] (DEBUG INFO) Executor start aborting (this does not indicate an error and you can ignore this message): INVALID_ARGUMENT: You must feed a value for placeholder tensor 'inputs' with dtype float and shape [?,200,100]\n",
      "\t [[{{node inputs}}]]\n",
      "2023-04-25 11:42:52.229322: I tensorflow/core/common_runtime/executor.cc:1197] [/device:CPU:0] (DEBUG INFO) Executor start aborting (this does not indicate an error and you can ignore this message): INVALID_ARGUMENT: You must feed a value for placeholder tensor 'inputs' with dtype float and shape [?,128]\n",
      "\t [[{{node inputs}}]]\n",
      "2023-04-25 11:42:53.156933: I tensorflow/core/common_runtime/executor.cc:1197] [/device:CPU:0] (DEBUG INFO) Executor start aborting (this does not indicate an error and you can ignore this message): INVALID_ARGUMENT: You must feed a value for placeholder tensor 'inputs' with dtype float and shape [?,200,100]\n",
      "\t [[{{node inputs}}]]\n",
      "2023-04-25 11:42:53.180853: I tensorflow/core/common_runtime/executor.cc:1197] [/device:CPU:0] (DEBUG INFO) Executor start aborting (this does not indicate an error and you can ignore this message): INVALID_ARGUMENT: You must feed a value for placeholder tensor 'inputs' with dtype float and shape [?,128]\n",
      "\t [[{{node inputs}}]]\n",
      "WARNING:absl:Found untraced functions such as _jit_compiled_convolution_op, _update_step_xla while saving (showing 2 of 2). These functions will not be directly callable after loading.\n"
     ]
    },
    {
     "name": "stdout",
     "output_type": "stream",
     "text": [
      "INFO:tensorflow:Assets written to: /home/richard/Work/random/learning_ml/kaggle_comps/disaster_tweets_github/src/notebooks/models/glove_conv_net_save_folder/model_a/assets\n"
     ]
    },
    {
     "name": "stderr",
     "output_type": "stream",
     "text": [
      "INFO:tensorflow:Assets written to: /home/richard/Work/random/learning_ml/kaggle_comps/disaster_tweets_github/src/notebooks/models/glove_conv_net_save_folder/model_a/assets\n"
     ]
    },
    {
     "name": "stdout",
     "output_type": "stream",
     "text": [
      "175/175 [==============================] - 4s 20ms/step - loss: 0.3752 - acc: 0.8349 - val_loss: 0.4576 - val_acc: 0.8029\n",
      "Epoch 9/10\n",
      "175/175 [==============================] - 2s 9ms/step - loss: 0.3645 - acc: 0.8380 - val_loss: 0.4636 - val_acc: 0.8029\n",
      "Epoch 10/10\n",
      "175/175 [==============================] - 2s 9ms/step - loss: 0.3518 - acc: 0.8493 - val_loss: 0.4628 - val_acc: 0.8057\n"
     ]
    },
    {
     "data": {
      "text/html": [
       "<style>#sk-container-id-1 {color: black;background-color: white;}#sk-container-id-1 pre{padding: 0;}#sk-container-id-1 div.sk-toggleable {background-color: white;}#sk-container-id-1 label.sk-toggleable__label {cursor: pointer;display: block;width: 100%;margin-bottom: 0;padding: 0.3em;box-sizing: border-box;text-align: center;}#sk-container-id-1 label.sk-toggleable__label-arrow:before {content: \"▸\";float: left;margin-right: 0.25em;color: #696969;}#sk-container-id-1 label.sk-toggleable__label-arrow:hover:before {color: black;}#sk-container-id-1 div.sk-estimator:hover label.sk-toggleable__label-arrow:before {color: black;}#sk-container-id-1 div.sk-toggleable__content {max-height: 0;max-width: 0;overflow: hidden;text-align: left;background-color: #f0f8ff;}#sk-container-id-1 div.sk-toggleable__content pre {margin: 0.2em;color: black;border-radius: 0.25em;background-color: #f0f8ff;}#sk-container-id-1 input.sk-toggleable__control:checked~div.sk-toggleable__content {max-height: 200px;max-width: 100%;overflow: auto;}#sk-container-id-1 input.sk-toggleable__control:checked~label.sk-toggleable__label-arrow:before {content: \"▾\";}#sk-container-id-1 div.sk-estimator input.sk-toggleable__control:checked~label.sk-toggleable__label {background-color: #d4ebff;}#sk-container-id-1 div.sk-label input.sk-toggleable__control:checked~label.sk-toggleable__label {background-color: #d4ebff;}#sk-container-id-1 input.sk-hidden--visually {border: 0;clip: rect(1px 1px 1px 1px);clip: rect(1px, 1px, 1px, 1px);height: 1px;margin: -1px;overflow: hidden;padding: 0;position: absolute;width: 1px;}#sk-container-id-1 div.sk-estimator {font-family: monospace;background-color: #f0f8ff;border: 1px dotted black;border-radius: 0.25em;box-sizing: border-box;margin-bottom: 0.5em;}#sk-container-id-1 div.sk-estimator:hover {background-color: #d4ebff;}#sk-container-id-1 div.sk-parallel-item::after {content: \"\";width: 100%;border-bottom: 1px solid gray;flex-grow: 1;}#sk-container-id-1 div.sk-label:hover label.sk-toggleable__label {background-color: #d4ebff;}#sk-container-id-1 div.sk-serial::before {content: \"\";position: absolute;border-left: 1px solid gray;box-sizing: border-box;top: 0;bottom: 0;left: 50%;z-index: 0;}#sk-container-id-1 div.sk-serial {display: flex;flex-direction: column;align-items: center;background-color: white;padding-right: 0.2em;padding-left: 0.2em;position: relative;}#sk-container-id-1 div.sk-item {position: relative;z-index: 1;}#sk-container-id-1 div.sk-parallel {display: flex;align-items: stretch;justify-content: center;background-color: white;position: relative;}#sk-container-id-1 div.sk-item::before, #sk-container-id-1 div.sk-parallel-item::before {content: \"\";position: absolute;border-left: 1px solid gray;box-sizing: border-box;top: 0;bottom: 0;left: 50%;z-index: -1;}#sk-container-id-1 div.sk-parallel-item {display: flex;flex-direction: column;z-index: 1;position: relative;background-color: white;}#sk-container-id-1 div.sk-parallel-item:first-child::after {align-self: flex-end;width: 50%;}#sk-container-id-1 div.sk-parallel-item:last-child::after {align-self: flex-start;width: 50%;}#sk-container-id-1 div.sk-parallel-item:only-child::after {width: 0;}#sk-container-id-1 div.sk-dashed-wrapped {border: 1px dashed gray;margin: 0 0.4em 0.5em 0.4em;box-sizing: border-box;padding-bottom: 0.4em;background-color: white;}#sk-container-id-1 div.sk-label label {font-family: monospace;font-weight: bold;display: inline-block;line-height: 1.2em;}#sk-container-id-1 div.sk-label-container {text-align: center;}#sk-container-id-1 div.sk-container {/* jupyter's `normalize.less` sets `[hidden] { display: none; }` but bootstrap.min.css set `[hidden] { display: none !important; }` so we also need the `!important` here to be able to override the default hidden behavior on the sphinx rendered scikit-learn.org. See: https://github.com/scikit-learn/scikit-learn/issues/21755 */display: inline-block !important;position: relative;}#sk-container-id-1 div.sk-text-repr-fallback {display: none;}</style><div id=\"sk-container-id-1\" class=\"sk-top-container\"><div class=\"sk-text-repr-fallback\"><pre>BinaryNetWrapper(featPrefix=[&#x27;vect_text&#x27;], feats=[], logitsOutput=False,\n",
       "                 metrics=[&#x27;acc&#x27;],\n",
       "                 netCreator=&lt;net_wrappers.SimpleConvNetFactoryA object at 0x7f1108628ac0&gt;,\n",
       "                 saveFolder=&#x27;/home/richard/Work/random/learning_ml/kaggle_comps/disaster_tweets_github/src/notebooks/models/glove_conv_net_save_folder&#x27;,\n",
       "                 verbose=1)</pre><b>In a Jupyter environment, please rerun this cell to show the HTML representation or trust the notebook. <br />On GitHub, the HTML representation is unable to render, please try loading this page with nbviewer.org.</b></div><div class=\"sk-container\" hidden><div class=\"sk-item\"><div class=\"sk-estimator sk-toggleable\"><input class=\"sk-toggleable__control sk-hidden--visually\" id=\"sk-estimator-id-1\" type=\"checkbox\" checked><label for=\"sk-estimator-id-1\" class=\"sk-toggleable__label sk-toggleable__label-arrow\">BinaryNetWrapper</label><div class=\"sk-toggleable__content\"><pre>BinaryNetWrapper(featPrefix=[&#x27;vect_text&#x27;], feats=[], logitsOutput=False,\n",
       "                 metrics=[&#x27;acc&#x27;],\n",
       "                 netCreator=&lt;net_wrappers.SimpleConvNetFactoryA object at 0x7f1108628ac0&gt;,\n",
       "                 saveFolder=&#x27;/home/richard/Work/random/learning_ml/kaggle_comps/disaster_tweets_github/src/notebooks/models/glove_conv_net_save_folder&#x27;,\n",
       "                 verbose=1)</pre></div></div></div></div></div>"
      ],
      "text/plain": [
       "BinaryNetWrapper(featPrefix=['vect_text'], feats=[], logitsOutput=False,\n",
       "                 metrics=['acc'],\n",
       "                 netCreator=<net_wrappers.SimpleConvNetFactoryA object at 0x7f1108628ac0>,\n",
       "                 saveFolder='/home/richard/Work/random/learning_ml/kaggle_comps/disaster_tweets_github/src/notebooks/models/glove_conv_net_save_folder',\n",
       "                 verbose=1)"
      ]
     },
     "execution_count": 27,
     "metadata": {},
     "output_type": "execute_result"
    }
   ],
   "source": [
    "#\n",
    "MODEL.fit(VECT_FRAME)"
   ]
  },
  {
   "cell_type": "markdown",
   "id": "aa6a1ac5",
   "metadata": {},
   "source": [
    "**Quickly check our training accuracy is reasonable**"
   ]
  },
  {
   "cell_type": "code",
   "execution_count": 28,
   "id": "8e2e064e",
   "metadata": {},
   "outputs": [
    {
     "name": "stdout",
     "output_type": "stream",
     "text": [
      "218/218 [==============================] - 1s 3ms/step\n",
      "Training accuracy = 0.8781362007168458\n"
     ]
    }
   ],
   "source": [
    "trainPred = MODEL.predict(VECT_FRAME)\n",
    "_deltaVals = [ abs(pred-act) for pred,act in zip(trainPred,VECT_FRAME[\"target\"].to_numpy()) ]\n",
    "trainAcc = (len(_deltaVals)-sum(_deltaVals)) / len(_deltaVals)\n",
    "print(\"Training accuracy = {}\".format(trainAcc))"
   ]
  },
  {
   "cell_type": "markdown",
   "id": "907cd70e",
   "metadata": {},
   "source": [
    "**Apply the model to the test data set**"
   ]
  },
  {
   "cell_type": "code",
   "execution_count": 29,
   "id": "945fde2c",
   "metadata": {},
   "outputs": [
    {
     "data": {
      "text/html": [
       "<div>\n",
       "<style scoped>\n",
       "    .dataframe tbody tr th:only-of-type {\n",
       "        vertical-align: middle;\n",
       "    }\n",
       "\n",
       "    .dataframe tbody tr th {\n",
       "        vertical-align: top;\n",
       "    }\n",
       "\n",
       "    .dataframe thead th {\n",
       "        text-align: right;\n",
       "    }\n",
       "</style>\n",
       "<table border=\"1\" class=\"dataframe\">\n",
       "  <thead>\n",
       "    <tr style=\"text-align: right;\">\n",
       "      <th></th>\n",
       "      <th>id</th>\n",
       "      <th>keyword</th>\n",
       "      <th>location</th>\n",
       "      <th>text</th>\n",
       "    </tr>\n",
       "  </thead>\n",
       "  <tbody>\n",
       "    <tr>\n",
       "      <th>0</th>\n",
       "      <td>0</td>\n",
       "      <td>NaN</td>\n",
       "      <td>NaN</td>\n",
       "      <td>Just happened a terrible car crash</td>\n",
       "    </tr>\n",
       "    <tr>\n",
       "      <th>1</th>\n",
       "      <td>2</td>\n",
       "      <td>NaN</td>\n",
       "      <td>NaN</td>\n",
       "      <td>Heard about #earthquake is different cities, s...</td>\n",
       "    </tr>\n",
       "  </tbody>\n",
       "</table>\n",
       "</div>"
      ],
      "text/plain": [
       "   id keyword location                                               text\n",
       "0   0     NaN      NaN                 Just happened a terrible car crash\n",
       "1   2     NaN      NaN  Heard about #earthquake is different cities, s..."
      ]
     },
     "execution_count": 29,
     "metadata": {},
     "output_type": "execute_result"
    }
   ],
   "source": [
    "RAW_TEST = pd.read_csv(TEST_PATH)\n",
    "RAW_TEST.head(2)"
   ]
  },
  {
   "cell_type": "code",
   "execution_count": 30,
   "id": "8ec24569",
   "metadata": {},
   "outputs": [
    {
     "name": "stdout",
     "output_type": "stream",
     "text": [
      "102/102 [==============================] - 0s 3ms/step\n"
     ]
    },
    {
     "data": {
      "text/html": [
       "<div>\n",
       "<style scoped>\n",
       "    .dataframe tbody tr th:only-of-type {\n",
       "        vertical-align: middle;\n",
       "    }\n",
       "\n",
       "    .dataframe tbody tr th {\n",
       "        vertical-align: top;\n",
       "    }\n",
       "\n",
       "    .dataframe thead th {\n",
       "        text-align: right;\n",
       "    }\n",
       "</style>\n",
       "<table border=\"1\" class=\"dataframe\">\n",
       "  <thead>\n",
       "    <tr style=\"text-align: right;\">\n",
       "      <th></th>\n",
       "      <th>id</th>\n",
       "      <th>text</th>\n",
       "      <th>target</th>\n",
       "    </tr>\n",
       "  </thead>\n",
       "  <tbody>\n",
       "    <tr>\n",
       "      <th>0</th>\n",
       "      <td>0</td>\n",
       "      <td>just happened a terrible car crash</td>\n",
       "      <td>1</td>\n",
       "    </tr>\n",
       "    <tr>\n",
       "      <th>1</th>\n",
       "      <td>2</td>\n",
       "      <td>heard about #earthquake is different cities , ...</td>\n",
       "      <td>1</td>\n",
       "    </tr>\n",
       "    <tr>\n",
       "      <th>2</th>\n",
       "      <td>3</td>\n",
       "      <td>there is a forest fire at spot pond , geese ar...</td>\n",
       "      <td>1</td>\n",
       "    </tr>\n",
       "    <tr>\n",
       "      <th>3</th>\n",
       "      <td>9</td>\n",
       "      <td>apocalypse lighting . #spokane #wildfires</td>\n",
       "      <td>1</td>\n",
       "    </tr>\n",
       "    <tr>\n",
       "      <th>4</th>\n",
       "      <td>11</td>\n",
       "      <td>typhoon soudelor kills 28 in china and taiwan</td>\n",
       "      <td>1</td>\n",
       "    </tr>\n",
       "    <tr>\n",
       "      <th>5</th>\n",
       "      <td>12</td>\n",
       "      <td>we are shaking . it is an earthquake</td>\n",
       "      <td>1</td>\n",
       "    </tr>\n",
       "    <tr>\n",
       "      <th>6</th>\n",
       "      <td>21</td>\n",
       "      <td>they ' d probably still show more life than ar...</td>\n",
       "      <td>0</td>\n",
       "    </tr>\n",
       "    <tr>\n",
       "      <th>7</th>\n",
       "      <td>22</td>\n",
       "      <td>hey ! how are you ?</td>\n",
       "      <td>0</td>\n",
       "    </tr>\n",
       "  </tbody>\n",
       "</table>\n",
       "</div>"
      ],
      "text/plain": [
       "   id                                               text  target\n",
       "0   0                 just happened a terrible car crash       1\n",
       "1   2  heard about #earthquake is different cities , ...       1\n",
       "2   3  there is a forest fire at spot pond , geese ar...       1\n",
       "3   9          apocalypse lighting . #spokane #wildfires       1\n",
       "4  11      typhoon soudelor kills 28 in china and taiwan       1\n",
       "5  12               we are shaking . it is an earthquake       1\n",
       "6  21  they ' d probably still show more life than ar...       0\n",
       "7  22                                hey ! how are you ?       0"
      ]
     },
     "execution_count": 30,
     "metadata": {},
     "output_type": "execute_result"
    }
   ],
   "source": [
    "testCleanPipe = stdPipeHelp.loadTextPreprocPipeA(removeDuplicateTweets=False)\n",
    "testCleanPipe.fit(RAW_TRAIN)\n",
    "\n",
    "#\n",
    "PROC_TEST = testCleanPipe.transform(RAW_TEST)\n",
    "PROC_TEST = vectorizerPipeFinal.transform(PROC_TEST)\n",
    "PROC_TEST[\"target\"] = MODEL.predict(PROC_TEST)\n",
    "PROC_TEST[[\"id\",\"text\",\"target\"]].head(8)"
   ]
  },
  {
   "cell_type": "markdown",
   "id": "f623c7b4",
   "metadata": {},
   "source": [
    "**Write our predictions to file in the correct format**"
   ]
  },
  {
   "cell_type": "markdown",
   "id": "be1f09f0",
   "metadata": {},
   "source": [
    "Kaggle Score - 0.80631 (RERUN_HP_SEARCH=True)\n",
    "\n",
    "Kaggle Score - 0.80815 (RERUN_HP_SEARCH=False)"
   ]
  },
  {
   "cell_type": "markdown",
   "id": "15e4301d",
   "metadata": {},
   "source": [
    "The differences in scores are because i didnt reset the relevant random number generators between tuning hyperparameters and training the final model"
   ]
  },
  {
   "cell_type": "code",
   "execution_count": 31,
   "id": "45119139",
   "metadata": {},
   "outputs": [],
   "source": [
    "outFrame = PROC_TEST[[\"id\",\"target\"]]\n",
    "outFrame.to_csv(SUBMISSIONS_PATH, index=False)"
   ]
  },
  {
   "cell_type": "code",
   "execution_count": 32,
   "id": "ef0b659c",
   "metadata": {},
   "outputs": [
    {
     "data": {
      "text/html": [
       "<div>\n",
       "<style scoped>\n",
       "    .dataframe tbody tr th:only-of-type {\n",
       "        vertical-align: middle;\n",
       "    }\n",
       "\n",
       "    .dataframe tbody tr th {\n",
       "        vertical-align: top;\n",
       "    }\n",
       "\n",
       "    .dataframe thead th {\n",
       "        text-align: right;\n",
       "    }\n",
       "</style>\n",
       "<table border=\"1\" class=\"dataframe\">\n",
       "  <thead>\n",
       "    <tr style=\"text-align: right;\">\n",
       "      <th></th>\n",
       "      <th>id</th>\n",
       "      <th>target</th>\n",
       "    </tr>\n",
       "  </thead>\n",
       "  <tbody>\n",
       "    <tr>\n",
       "      <th>0</th>\n",
       "      <td>0</td>\n",
       "      <td>1</td>\n",
       "    </tr>\n",
       "    <tr>\n",
       "      <th>1</th>\n",
       "      <td>2</td>\n",
       "      <td>1</td>\n",
       "    </tr>\n",
       "    <tr>\n",
       "      <th>2</th>\n",
       "      <td>3</td>\n",
       "      <td>1</td>\n",
       "    </tr>\n",
       "    <tr>\n",
       "      <th>3</th>\n",
       "      <td>9</td>\n",
       "      <td>1</td>\n",
       "    </tr>\n",
       "    <tr>\n",
       "      <th>4</th>\n",
       "      <td>11</td>\n",
       "      <td>1</td>\n",
       "    </tr>\n",
       "    <tr>\n",
       "      <th>...</th>\n",
       "      <td>...</td>\n",
       "      <td>...</td>\n",
       "    </tr>\n",
       "    <tr>\n",
       "      <th>3258</th>\n",
       "      <td>10861</td>\n",
       "      <td>1</td>\n",
       "    </tr>\n",
       "    <tr>\n",
       "      <th>3259</th>\n",
       "      <td>10865</td>\n",
       "      <td>1</td>\n",
       "    </tr>\n",
       "    <tr>\n",
       "      <th>3260</th>\n",
       "      <td>10868</td>\n",
       "      <td>1</td>\n",
       "    </tr>\n",
       "    <tr>\n",
       "      <th>3261</th>\n",
       "      <td>10874</td>\n",
       "      <td>1</td>\n",
       "    </tr>\n",
       "    <tr>\n",
       "      <th>3262</th>\n",
       "      <td>10875</td>\n",
       "      <td>1</td>\n",
       "    </tr>\n",
       "  </tbody>\n",
       "</table>\n",
       "<p>3263 rows × 2 columns</p>\n",
       "</div>"
      ],
      "text/plain": [
       "         id  target\n",
       "0         0       1\n",
       "1         2       1\n",
       "2         3       1\n",
       "3         9       1\n",
       "4        11       1\n",
       "...     ...     ...\n",
       "3258  10861       1\n",
       "3259  10865       1\n",
       "3260  10868       1\n",
       "3261  10874       1\n",
       "3262  10875       1\n",
       "\n",
       "[3263 rows x 2 columns]"
      ]
     },
     "execution_count": 32,
     "metadata": {},
     "output_type": "execute_result"
    }
   ],
   "source": [
    "outFrame"
   ]
  },
  {
   "cell_type": "code",
   "execution_count": null,
   "id": "84b5170e",
   "metadata": {},
   "outputs": [],
   "source": []
  },
  {
   "cell_type": "code",
   "execution_count": null,
   "id": "062aa8ee",
   "metadata": {},
   "outputs": [],
   "source": []
  }
 ],
 "metadata": {
  "kernelspec": {
   "display_name": "Python 3 (ipykernel)",
   "language": "python",
   "name": "python3"
  },
  "language_info": {
   "codemirror_mode": {
    "name": "ipython",
    "version": 3
   },
   "file_extension": ".py",
   "mimetype": "text/x-python",
   "name": "python",
   "nbconvert_exporter": "python",
   "pygments_lexer": "ipython3",
   "version": "3.10.6"
  }
 },
 "nbformat": 4,
 "nbformat_minor": 5
}
