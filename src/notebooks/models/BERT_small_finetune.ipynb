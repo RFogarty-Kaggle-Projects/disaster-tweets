{
 "cells": [
  {
   "cell_type": "markdown",
   "id": "aa12b884",
   "metadata": {},
   "source": [
    "Fine-tuning a small BERT model"
   ]
  },
  {
   "cell_type": "markdown",
   "id": "fba44303",
   "metadata": {},
   "source": [
    "**Imports**"
   ]
  },
  {
   "cell_type": "code",
   "execution_count": 1,
   "id": "986ee6a8",
   "metadata": {},
   "outputs": [
    {
     "name": "stderr",
     "output_type": "stream",
     "text": [
      "2023-04-25 12:09:15.358239: I tensorflow/core/util/port.cc:110] oneDNN custom operations are on. You may see slightly different numerical results due to floating-point round-off errors from different computation orders. To turn them off, set the environment variable `TF_ENABLE_ONEDNN_OPTS=0`.\n",
      "2023-04-25 12:09:15.359361: I tensorflow/tsl/cuda/cudart_stub.cc:28] Could not find cuda drivers on your machine, GPU will not be used.\n",
      "2023-04-25 12:09:15.382227: I tensorflow/tsl/cuda/cudart_stub.cc:28] Could not find cuda drivers on your machine, GPU will not be used.\n",
      "2023-04-25 12:09:15.383164: I tensorflow/core/platform/cpu_feature_guard.cc:182] This TensorFlow binary is optimized to use available CPU instructions in performance-critical operations.\n",
      "To enable the following instructions: AVX2 AVX_VNNI FMA, in other operations, rebuild TensorFlow with the appropriate compiler flags.\n",
      "2023-04-25 12:09:15.814406: W tensorflow/compiler/tf2tensorrt/utils/py_utils.cc:38] TF-TRT Warning: Could not find TensorRT\n"
     ]
    }
   ],
   "source": [
    "\n",
    "import os\n",
    "import pathlib\n",
    "import pickle\n",
    "\n",
    "import keras\n",
    "import numpy as np\n",
    "import pandas as pd\n",
    "import tensorflow as tf\n",
    "import tensorflow_text #Needed for the preprocessor; even though not directly called\n",
    "import tensorflow_hub as tfHub\n",
    "\n",
    "\n",
    "import shared_code_path\n",
    "import standard_pipes as stdPipeHelp\n"
   ]
  },
  {
   "cell_type": "markdown",
   "id": "3d431b93",
   "metadata": {},
   "source": [
    "**Configuration Variables**"
   ]
  },
  {
   "cell_type": "code",
   "execution_count": 2,
   "id": "a80fd047",
   "metadata": {},
   "outputs": [],
   "source": [
    "#\n",
    "_rawDataFolder = os.path.abspath( os.path.join(\"..\",\"..\",\"..\",\"raw_data\") )\n",
    "TRAIN_PATH = os.path.abspath( os.path.join(_rawDataFolder, \"train.csv\") )\n",
    "TEST_PATH = os.path.abspath( os.path.join(_rawDataFolder, \"test.csv\") )\n",
    "\n",
    "#\n",
    "SAVE_FOLDER = os.path.abspath( \"bert_small_finetune\" )\n",
    "SUBMISSIONS_PATH = os.path.join(SAVE_FOLDER, \"submissions.csv\")\n",
    "MODEL_SAVE_PATH = os.path.join(SAVE_FOLDER, \"checkpoint_model\")\n",
    "HISTORY_SAVE_PATH = os.path.join(SAVE_FOLDER,\"history\")\n",
    "\n",
    "#BERT urls\n",
    "#Note: We're using a \"small BERT\" model, which means slightly less accuracy than BERT base but....\n",
    "URL_PREPROC = \"https://tfhub.dev/tensorflow/bert_en_uncased_preprocess/3\"\n",
    "URL_BERT = \"https://tfhub.dev/tensorflow/small_bert/bert_en_uncased_L-4_H-512_A-8/2\"\n",
    "\n",
    "#\n",
    "REFIT = False #refit the BERT model if set to true\n",
    "BATCH_SIZE = 32\n",
    "NUMB_EPOCHS = 3\n",
    "INIT_LEARN_RATE = 3e-5\n",
    "\n",
    "\n",
    "#\n",
    "RANDOM_SEED = 523423"
   ]
  },
  {
   "cell_type": "code",
   "execution_count": 3,
   "id": "e86f1c9f",
   "metadata": {},
   "outputs": [],
   "source": [
    "np.random.seed(RANDOM_SEED)\n",
    "tf.random.set_seed(RANDOM_SEED)\n",
    "keras.utils.set_random_seed(RANDOM_SEED)"
   ]
  },
  {
   "cell_type": "markdown",
   "id": "acec8d46",
   "metadata": {},
   "source": [
    "**Import the data**"
   ]
  },
  {
   "cell_type": "code",
   "execution_count": 4,
   "id": "90e29862",
   "metadata": {},
   "outputs": [],
   "source": [
    "RAW_TRAIN = pd.read_csv(TRAIN_PATH)"
   ]
  },
  {
   "cell_type": "markdown",
   "id": "ad6e2913",
   "metadata": {},
   "source": [
    "**Create save folder**"
   ]
  },
  {
   "cell_type": "code",
   "execution_count": 5,
   "id": "df60f0d5",
   "metadata": {},
   "outputs": [],
   "source": [
    "pathlib.Path(SAVE_FOLDER).mkdir(exist_ok=True)"
   ]
  },
  {
   "cell_type": "markdown",
   "id": "cb325c8e",
   "metadata": {},
   "source": [
    "**Import raw data**"
   ]
  },
  {
   "cell_type": "code",
   "execution_count": 6,
   "id": "e2c7656d",
   "metadata": {},
   "outputs": [
    {
     "data": {
      "text/html": [
       "<div>\n",
       "<style scoped>\n",
       "    .dataframe tbody tr th:only-of-type {\n",
       "        vertical-align: middle;\n",
       "    }\n",
       "\n",
       "    .dataframe tbody tr th {\n",
       "        vertical-align: top;\n",
       "    }\n",
       "\n",
       "    .dataframe thead th {\n",
       "        text-align: right;\n",
       "    }\n",
       "</style>\n",
       "<table border=\"1\" class=\"dataframe\">\n",
       "  <thead>\n",
       "    <tr style=\"text-align: right;\">\n",
       "      <th></th>\n",
       "      <th>id</th>\n",
       "      <th>keyword</th>\n",
       "      <th>location</th>\n",
       "      <th>text</th>\n",
       "      <th>target</th>\n",
       "    </tr>\n",
       "  </thead>\n",
       "  <tbody>\n",
       "    <tr>\n",
       "      <th>0</th>\n",
       "      <td>1</td>\n",
       "      <td>NaN</td>\n",
       "      <td>NaN</td>\n",
       "      <td>Our Deeds are the Reason of this #earthquake M...</td>\n",
       "      <td>1</td>\n",
       "    </tr>\n",
       "    <tr>\n",
       "      <th>1</th>\n",
       "      <td>4</td>\n",
       "      <td>NaN</td>\n",
       "      <td>NaN</td>\n",
       "      <td>Forest fire near La Ronge Sask. Canada</td>\n",
       "      <td>1</td>\n",
       "    </tr>\n",
       "  </tbody>\n",
       "</table>\n",
       "</div>"
      ],
      "text/plain": [
       "   id keyword location                                               text   \n",
       "0   1     NaN      NaN  Our Deeds are the Reason of this #earthquake M...  \\\n",
       "1   4     NaN      NaN             Forest fire near La Ronge Sask. Canada   \n",
       "\n",
       "   target  \n",
       "0       1  \n",
       "1       1  "
      ]
     },
     "execution_count": 6,
     "metadata": {},
     "output_type": "execute_result"
    }
   ],
   "source": [
    "RAW_TRAIN = pd.read_csv(TRAIN_PATH)\n",
    "RAW_TRAIN.head(2)"
   ]
  },
  {
   "cell_type": "markdown",
   "id": "1cf4d8d5",
   "metadata": {},
   "source": [
    "**Apply a standard text cleaning pipeline**"
   ]
  },
  {
   "cell_type": "code",
   "execution_count": 7,
   "id": "b09c6954",
   "metadata": {},
   "outputs": [],
   "source": [
    "cleanPipe = stdPipeHelp.loadTextPreprocPipeA()\n",
    "PROC_DATA = cleanPipe.fit_transform(RAW_TRAIN)"
   ]
  },
  {
   "cell_type": "markdown",
   "id": "2b29a291",
   "metadata": {},
   "source": [
    "**Shuffle the frame**"
   ]
  },
  {
   "cell_type": "code",
   "execution_count": 8,
   "id": "20c45e3d",
   "metadata": {},
   "outputs": [],
   "source": [
    "PROC_DATA = PROC_DATA.sample(frac=1.0)"
   ]
  },
  {
   "cell_type": "code",
   "execution_count": 9,
   "id": "5e7ab8a0",
   "metadata": {},
   "outputs": [
    {
     "data": {
      "text/html": [
       "<div>\n",
       "<style scoped>\n",
       "    .dataframe tbody tr th:only-of-type {\n",
       "        vertical-align: middle;\n",
       "    }\n",
       "\n",
       "    .dataframe tbody tr th {\n",
       "        vertical-align: top;\n",
       "    }\n",
       "\n",
       "    .dataframe thead th {\n",
       "        text-align: right;\n",
       "    }\n",
       "</style>\n",
       "<table border=\"1\" class=\"dataframe\">\n",
       "  <thead>\n",
       "    <tr style=\"text-align: right;\">\n",
       "      <th></th>\n",
       "      <th>id</th>\n",
       "      <th>keyword</th>\n",
       "      <th>location</th>\n",
       "      <th>text</th>\n",
       "      <th>target</th>\n",
       "    </tr>\n",
       "  </thead>\n",
       "  <tbody>\n",
       "    <tr>\n",
       "      <th>663</th>\n",
       "      <td>958</td>\n",
       "      <td>blaze</td>\n",
       "      <td>Mo.City</td>\n",
       "      <td>@beautiful_juic1 just letting you know</td>\n",
       "      <td>0</td>\n",
       "    </tr>\n",
       "    <tr>\n",
       "      <th>2086</th>\n",
       "      <td>2998</td>\n",
       "      <td>dead</td>\n",
       "      <td>NaN</td>\n",
       "      <td>@atchisonsean he is dead</td>\n",
       "      <td>0</td>\n",
       "    </tr>\n",
       "  </tbody>\n",
       "</table>\n",
       "</div>"
      ],
      "text/plain": [
       "        id keyword location                                    text  target\n",
       "663    958   blaze  Mo.City  @beautiful_juic1 just letting you know       0\n",
       "2086  2998    dead      NaN                @atchisonsean he is dead       0"
      ]
     },
     "execution_count": 9,
     "metadata": {},
     "output_type": "execute_result"
    }
   ],
   "source": [
    "PROC_DATA.head(2)"
   ]
  },
  {
   "cell_type": "markdown",
   "id": "5a23b1f5",
   "metadata": {},
   "source": [
    "**Split into train/val data**"
   ]
  },
  {
   "cell_type": "code",
   "execution_count": 10,
   "id": "363dd785",
   "metadata": {},
   "outputs": [],
   "source": [
    "TRAIN_DATA = PROC_DATA.sample(frac=0.8)\n",
    "VAL_DATA = PROC_DATA.drop(TRAIN_DATA.index)"
   ]
  },
  {
   "cell_type": "markdown",
   "id": "ac34e1f4",
   "metadata": {},
   "source": [
    "**Load the BERT preprocessor**"
   ]
  },
  {
   "cell_type": "code",
   "execution_count": 11,
   "id": "8319be4d",
   "metadata": {},
   "outputs": [
    {
     "name": "stderr",
     "output_type": "stream",
     "text": [
      "2023-04-25 12:09:16.992201: I tensorflow/core/common_runtime/executor.cc:1197] [/device:CPU:0] (DEBUG INFO) Executor start aborting (this does not indicate an error and you can ignore this message): INVALID_ARGUMENT: You must feed a value for placeholder tensor 'seq_length' with dtype int32\n",
      "\t [[{{node seq_length}}]]\n",
      "2023-04-25 12:09:16.992430: I tensorflow/core/common_runtime/executor.cc:1197] [/device:CPU:0] (DEBUG INFO) Executor start aborting (this does not indicate an error and you can ignore this message): INVALID_ARGUMENT: You must feed a value for placeholder tensor 'seq_length' with dtype int32\n",
      "\t [[{{node seq_length}}]]\n",
      "2023-04-25 12:09:16.992487: I tensorflow/core/common_runtime/executor.cc:1197] [/device:CPU:0] (DEBUG INFO) Executor start aborting (this does not indicate an error and you can ignore this message): INVALID_ARGUMENT: You must feed a value for placeholder tensor 'seq_length' with dtype int32\n",
      "\t [[{{node seq_length}}]]\n",
      "2023-04-25 12:09:16.992678: I tensorflow/core/common_runtime/executor.cc:1197] [/device:CPU:0] (DEBUG INFO) Executor start aborting (this does not indicate an error and you can ignore this message): INVALID_ARGUMENT: You must feed a value for placeholder tensor 'seq_length' with dtype int32\n",
      "\t [[{{node seq_length}}]]\n",
      "2023-04-25 12:09:16.992753: I tensorflow/core/common_runtime/executor.cc:1197] [/device:CPU:0] (DEBUG INFO) Executor start aborting (this does not indicate an error and you can ignore this message): INVALID_ARGUMENT: You must feed a value for placeholder tensor 'seq_length' with dtype int32\n",
      "\t [[{{node seq_length}}]]\n",
      "2023-04-25 12:09:16.992787: I tensorflow/core/common_runtime/executor.cc:1197] [/device:CPU:0] (DEBUG INFO) Executor start aborting (this does not indicate an error and you can ignore this message): INVALID_ARGUMENT: You must feed a value for placeholder tensor 'seq_length' with dtype int32\n",
      "\t [[{{node seq_length}}]]\n",
      "2023-04-25 12:09:16.992816: I tensorflow/core/common_runtime/executor.cc:1197] [/device:CPU:0] (DEBUG INFO) Executor start aborting (this does not indicate an error and you can ignore this message): INVALID_ARGUMENT: You must feed a value for placeholder tensor 'seq_length' with dtype int32\n",
      "\t [[{{node seq_length}}]]\n",
      "2023-04-25 12:09:17.025435: I tensorflow/core/common_runtime/executor.cc:1197] [/device:CPU:0] (DEBUG INFO) Executor start aborting (this does not indicate an error and you can ignore this message): INVALID_ARGUMENT: You must feed a value for placeholder tensor 'seq_length' with dtype int32\n",
      "\t [[{{node seq_length}}]]\n",
      "2023-04-25 12:09:17.025741: I tensorflow/core/common_runtime/executor.cc:1197] [/device:CPU:0] (DEBUG INFO) Executor start aborting (this does not indicate an error and you can ignore this message): INVALID_ARGUMENT: You must feed a value for placeholder tensor 'seq_length' with dtype int32\n",
      "\t [[{{node seq_length}}]]\n",
      "2023-04-25 12:09:17.025798: I tensorflow/core/common_runtime/executor.cc:1197] [/device:CPU:0] (DEBUG INFO) Executor start aborting (this does not indicate an error and you can ignore this message): INVALID_ARGUMENT: You must feed a value for placeholder tensor 'seq_length' with dtype int32\n",
      "\t [[{{node seq_length}}]]\n",
      "2023-04-25 12:09:17.026077: I tensorflow/core/common_runtime/executor.cc:1197] [/device:CPU:0] (DEBUG INFO) Executor start aborting (this does not indicate an error and you can ignore this message): INVALID_ARGUMENT: You must feed a value for placeholder tensor 'seq_length' with dtype int32\n",
      "\t [[{{node seq_length}}]]\n",
      "2023-04-25 12:09:17.026149: I tensorflow/core/common_runtime/executor.cc:1197] [/device:CPU:0] (DEBUG INFO) Executor start aborting (this does not indicate an error and you can ignore this message): INVALID_ARGUMENT: You must feed a value for placeholder tensor 'seq_length' with dtype int32\n",
      "\t [[{{node seq_length}}]]\n",
      "2023-04-25 12:09:17.026181: I tensorflow/core/common_runtime/executor.cc:1197] [/device:CPU:0] (DEBUG INFO) Executor start aborting (this does not indicate an error and you can ignore this message): INVALID_ARGUMENT: You must feed a value for placeholder tensor 'seq_length' with dtype int32\n",
      "\t [[{{node seq_length}}]]\n",
      "2023-04-25 12:09:17.026210: I tensorflow/core/common_runtime/executor.cc:1197] [/device:CPU:0] (DEBUG INFO) Executor start aborting (this does not indicate an error and you can ignore this message): INVALID_ARGUMENT: You must feed a value for placeholder tensor 'seq_length' with dtype int32\n",
      "\t [[{{node seq_length}}]]\n",
      "2023-04-25 12:09:17.062978: I tensorflow/core/common_runtime/executor.cc:1197] [/device:CPU:0] (DEBUG INFO) Executor start aborting (this does not indicate an error and you can ignore this message): INVALID_ARGUMENT: You must feed a value for placeholder tensor 'seq_length' with dtype int32\n",
      "\t [[{{node seq_length}}]]\n",
      "2023-04-25 12:09:17.063196: I tensorflow/core/common_runtime/executor.cc:1197] [/device:CPU:0] (DEBUG INFO) Executor start aborting (this does not indicate an error and you can ignore this message): INVALID_ARGUMENT: You must feed a value for placeholder tensor 'seq_length' with dtype int32\n",
      "\t [[{{node seq_length}}]]\n",
      "2023-04-25 12:09:17.063251: I tensorflow/core/common_runtime/executor.cc:1197] [/device:CPU:0] (DEBUG INFO) Executor start aborting (this does not indicate an error and you can ignore this message): INVALID_ARGUMENT: You must feed a value for placeholder tensor 'seq_length' with dtype int32\n",
      "\t [[{{node seq_length}}]]\n",
      "2023-04-25 12:09:17.063444: I tensorflow/core/common_runtime/executor.cc:1197] [/device:CPU:0] (DEBUG INFO) Executor start aborting (this does not indicate an error and you can ignore this message): INVALID_ARGUMENT: You must feed a value for placeholder tensor 'seq_length' with dtype int32\n",
      "\t [[{{node seq_length}}]]\n",
      "2023-04-25 12:09:17.063527: I tensorflow/core/common_runtime/executor.cc:1197] [/device:CPU:0] (DEBUG INFO) Executor start aborting (this does not indicate an error and you can ignore this message): INVALID_ARGUMENT: You must feed a value for placeholder tensor 'seq_length' with dtype int32\n",
      "\t [[{{node seq_length}}]]\n",
      "2023-04-25 12:09:17.063563: I tensorflow/core/common_runtime/executor.cc:1197] [/device:CPU:0] (DEBUG INFO) Executor start aborting (this does not indicate an error and you can ignore this message): INVALID_ARGUMENT: You must feed a value for placeholder tensor 'seq_length' with dtype int32\n",
      "\t [[{{node seq_length}}]]\n",
      "2023-04-25 12:09:17.063594: I tensorflow/core/common_runtime/executor.cc:1197] [/device:CPU:0] (DEBUG INFO) Executor start aborting (this does not indicate an error and you can ignore this message): INVALID_ARGUMENT: You must feed a value for placeholder tensor 'seq_length' with dtype int32\n",
      "\t [[{{node seq_length}}]]\n",
      "2023-04-25 12:09:17.210592: I tensorflow/core/common_runtime/executor.cc:1197] [/device:CPU:0] (DEBUG INFO) Executor start aborting (this does not indicate an error and you can ignore this message): INVALID_ARGUMENT: You must feed a value for placeholder tensor 'seq_length' with dtype int32\n",
      "\t [[{{node seq_length}}]]\n",
      "2023-04-25 12:09:17.210898: I tensorflow/core/common_runtime/executor.cc:1197] [/device:CPU:0] (DEBUG INFO) Executor start aborting (this does not indicate an error and you can ignore this message): INVALID_ARGUMENT: You must feed a value for placeholder tensor 'seq_length' with dtype int32\n",
      "\t [[{{node seq_length}}]]\n",
      "2023-04-25 12:09:17.210953: I tensorflow/core/common_runtime/executor.cc:1197] [/device:CPU:0] (DEBUG INFO) Executor start aborting (this does not indicate an error and you can ignore this message): INVALID_ARGUMENT: You must feed a value for placeholder tensor 'seq_length' with dtype int32\n",
      "\t [[{{node seq_length}}]]\n",
      "2023-04-25 12:09:17.211227: I tensorflow/core/common_runtime/executor.cc:1197] [/device:CPU:0] (DEBUG INFO) Executor start aborting (this does not indicate an error and you can ignore this message): INVALID_ARGUMENT: You must feed a value for placeholder tensor 'seq_length' with dtype int32\n",
      "\t [[{{node seq_length}}]]\n",
      "2023-04-25 12:09:17.211307: I tensorflow/core/common_runtime/executor.cc:1197] [/device:CPU:0] (DEBUG INFO) Executor start aborting (this does not indicate an error and you can ignore this message): INVALID_ARGUMENT: You must feed a value for placeholder tensor 'seq_length' with dtype int32\n",
      "\t [[{{node seq_length}}]]\n",
      "2023-04-25 12:09:17.211341: I tensorflow/core/common_runtime/executor.cc:1197] [/device:CPU:0] (DEBUG INFO) Executor start aborting (this does not indicate an error and you can ignore this message): INVALID_ARGUMENT: You must feed a value for placeholder tensor 'seq_length' with dtype int32\n",
      "\t [[{{node seq_length}}]]\n",
      "2023-04-25 12:09:17.211372: I tensorflow/core/common_runtime/executor.cc:1197] [/device:CPU:0] (DEBUG INFO) Executor start aborting (this does not indicate an error and you can ignore this message): INVALID_ARGUMENT: You must feed a value for placeholder tensor 'seq_length' with dtype int32\n",
      "\t [[{{node seq_length}}]]\n"
     ]
    }
   ],
   "source": [
    "_bertPreProc = tfHub.KerasLayer(URL_PREPROC)"
   ]
  },
  {
   "cell_type": "markdown",
   "id": "c7d782aa",
   "metadata": {},
   "source": [
    "**Generate training/validation inputs and labels**"
   ]
  },
  {
   "cell_type": "markdown",
   "id": "e70cd78a",
   "metadata": {},
   "source": [
    "We will pass the processed text directly into the model, rather than making the preprocessing part of the actual model"
   ]
  },
  {
   "cell_type": "code",
   "execution_count": 12,
   "id": "4c26bac5",
   "metadata": {},
   "outputs": [],
   "source": [
    "TRAIN_INPUTS = _bertPreProc(TRAIN_DATA[\"text\"].to_list())\n",
    "VAL_INPUTS = _bertPreProc(VAL_DATA[\"text\"].to_list())"
   ]
  },
  {
   "cell_type": "code",
   "execution_count": 13,
   "id": "71b49fa0",
   "metadata": {},
   "outputs": [],
   "source": [
    "TRAIN_LABELS = np.array( [ [x] for x in TRAIN_DATA[\"target\"].to_list() ] )\n",
    "VAL_LABELS = np.array( [[x] for x in VAL_DATA[\"target\"].to_list() ] )"
   ]
  },
  {
   "cell_type": "code",
   "execution_count": 14,
   "id": "40919efe",
   "metadata": {},
   "outputs": [
    {
     "data": {
      "text/plain": [
       "{'input_type_ids': <tf.Tensor: shape=(5580, 128), dtype=int32, numpy=\n",
       " array([[0, 0, 0, ..., 0, 0, 0],\n",
       "        [0, 0, 0, ..., 0, 0, 0],\n",
       "        [0, 0, 0, ..., 0, 0, 0],\n",
       "        ...,\n",
       "        [0, 0, 0, ..., 0, 0, 0],\n",
       "        [0, 0, 0, ..., 0, 0, 0],\n",
       "        [0, 0, 0, ..., 0, 0, 0]], dtype=int32)>,\n",
       " 'input_mask': <tf.Tensor: shape=(5580, 128), dtype=int32, numpy=\n",
       " array([[1, 1, 1, ..., 0, 0, 0],\n",
       "        [1, 1, 1, ..., 0, 0, 0],\n",
       "        [1, 1, 1, ..., 0, 0, 0],\n",
       "        ...,\n",
       "        [1, 1, 1, ..., 0, 0, 0],\n",
       "        [1, 1, 1, ..., 0, 0, 0],\n",
       "        [1, 1, 1, ..., 0, 0, 0]], dtype=int32)>,\n",
       " 'input_word_ids': <tf.Tensor: shape=(5580, 128), dtype=int32, numpy=\n",
       " array([[ 101, 2161, 2093, ...,    0,    0,    0],\n",
       "        [ 101, 2093, 5611, ...,    0,    0,    0],\n",
       "        [ 101, 1001, 4911, ...,    0,    0,    0],\n",
       "        ...,\n",
       "        [ 101, 7929, 3521, ...,    0,    0,    0],\n",
       "        [ 101, 1030, 4830, ...,    0,    0,    0],\n",
       "        [ 101, 2324, 8945, ...,    0,    0,    0]], dtype=int32)>}"
      ]
     },
     "execution_count": 14,
     "metadata": {},
     "output_type": "execute_result"
    }
   ],
   "source": [
    "TRAIN_INPUTS"
   ]
  },
  {
   "cell_type": "markdown",
   "id": "f23550c6",
   "metadata": {},
   "source": [
    "**Load a pretrained BERT model**"
   ]
  },
  {
   "cell_type": "code",
   "execution_count": 15,
   "id": "581e10be",
   "metadata": {},
   "outputs": [],
   "source": [
    "_BERT_ENCODER = tfHub.KerasLayer(URL_BERT, trainable=True, name=\"BERT_encoder\")"
   ]
  },
  {
   "cell_type": "markdown",
   "id": "1cd98fd0",
   "metadata": {},
   "source": [
    "**Add a single final layer so we get a single output (probability tweet is disaster in this case)**"
   ]
  },
  {
   "cell_type": "markdown",
   "id": "7e49551b",
   "metadata": {},
   "source": [
    "Also a small dropout layer....because"
   ]
  },
  {
   "cell_type": "code",
   "execution_count": 16,
   "id": "a8e87639",
   "metadata": {},
   "outputs": [
    {
     "name": "stderr",
     "output_type": "stream",
     "text": [
      "2023-04-25 12:09:19.115410: I tensorflow/core/common_runtime/executor.cc:1197] [/device:CPU:0] (DEBUG INFO) Executor start aborting (this does not indicate an error and you can ignore this message): INVALID_ARGUMENT: You must feed a value for placeholder tensor 'inputs' with dtype int32 and shape [?,128]\n",
      "\t [[{{node inputs}}]]\n",
      "2023-04-25 12:09:19.115451: I tensorflow/core/common_runtime/executor.cc:1197] [/device:CPU:0] (DEBUG INFO) Executor start aborting (this does not indicate an error and you can ignore this message): INVALID_ARGUMENT: You must feed a value for placeholder tensor 'inputs_2' with dtype int32 and shape [?,128]\n",
      "\t [[{{node inputs_2}}]]\n",
      "2023-04-25 12:09:19.130966: I tensorflow/core/common_runtime/executor.cc:1197] [/device:CPU:0] (DEBUG INFO) Executor start aborting (this does not indicate an error and you can ignore this message): INVALID_ARGUMENT: You must feed a value for placeholder tensor 'Placeholder_1' with dtype int32 and shape [?,128]\n",
      "\t [[{{node Placeholder_1}}]]\n",
      "2023-04-25 12:09:19.131007: I tensorflow/core/common_runtime/executor.cc:1197] [/device:CPU:0] (DEBUG INFO) Executor start aborting (this does not indicate an error and you can ignore this message): INVALID_ARGUMENT: You must feed a value for placeholder tensor 'Placeholder_2' with dtype int32 and shape [?,128]\n",
      "\t [[{{node Placeholder_2}}]]\n"
     ]
    }
   ],
   "source": [
    "#1)The input and encoder layer\n",
    "_encoderInputs = {\"input_type_ids\": tf.keras.Input(shape=(128), dtype=tf.int32, name=\"input_type_ids\"),\n",
    "                  \"input_mask\": tf.keras.Input(shape=(128), dtype=tf.int32, name=\"input_mask\"),\n",
    "                  \"input_word_ids\": tf.keras.Input(shape=(128), dtype=tf.int32, name=\"input_word_ids\")\n",
    "                 }\n",
    "_encOutputs = _BERT_ENCODER(_encoderInputs)\n",
    "\n",
    "#2)The dropout and dense output layer\n",
    "_netInput = _encOutputs[\"pooled_output\"]\n",
    "_dropoutLayer = keras.layers.Dropout(0.1)(_netInput)\n",
    "_netOutput = tf.keras.layers.Dense(1, activation=None, name=\"classifier\")(_dropoutLayer)\n",
    "\n",
    "#3) The combination of the two\n",
    "MODEL = keras.Model(_encoderInputs, _netOutput)"
   ]
  },
  {
   "cell_type": "code",
   "execution_count": 17,
   "id": "2dc9fc93",
   "metadata": {},
   "outputs": [
    {
     "name": "stdout",
     "output_type": "stream",
     "text": [
      "Model: \"model\"\n",
      "__________________________________________________________________________________________________\n",
      " Layer (type)                   Output Shape         Param #     Connected to                     \n",
      "==================================================================================================\n",
      " input_mask (InputLayer)        [(None, 128)]        0           []                               \n",
      "                                                                                                  \n",
      " input_type_ids (InputLayer)    [(None, 128)]        0           []                               \n",
      "                                                                                                  \n",
      " input_word_ids (InputLayer)    [(None, 128)]        0           []                               \n",
      "                                                                                                  \n",
      " BERT_encoder (KerasLayer)      {'pooled_output': (  28763649    ['input_mask[0][0]',             \n",
      "                                None, 512),                       'input_type_ids[0][0]',         \n",
      "                                 'sequence_output':               'input_word_ids[0][0]']         \n",
      "                                 (None, 128, 512),                                                \n",
      "                                 'encoder_outputs':                                               \n",
      "                                 [(None, 128, 512),                                               \n",
      "                                 (None, 128, 512),                                                \n",
      "                                 (None, 128, 512),                                                \n",
      "                                 (None, 128, 512)],                                               \n",
      "                                 'default': (None,                                                \n",
      "                                512)}                                                             \n",
      "                                                                                                  \n",
      " dropout (Dropout)              (None, 512)          0           ['BERT_encoder[0][5]']           \n",
      "                                                                                                  \n",
      " classifier (Dense)             (None, 1)            513         ['dropout[0][0]']                \n",
      "                                                                                                  \n",
      "==================================================================================================\n",
      "Total params: 28,764,162\n",
      "Trainable params: 28,764,161\n",
      "Non-trainable params: 1\n",
      "__________________________________________________________________________________________________\n"
     ]
    }
   ],
   "source": [
    "MODEL.summary()"
   ]
  },
  {
   "cell_type": "markdown",
   "id": "9857011d",
   "metadata": {},
   "source": [
    "Quickly check the model gives the expected size output from the expected input format (the actual output value means essentially nothing at this point)"
   ]
  },
  {
   "cell_type": "code",
   "execution_count": 18,
   "id": "69337dc9",
   "metadata": {},
   "outputs": [
    {
     "data": {
      "text/plain": [
       "<tf.Tensor: shape=(1, 1), dtype=float32, numpy=array([[0.05235735]], dtype=float32)>"
      ]
     },
     "execution_count": 18,
     "metadata": {},
     "output_type": "execute_result"
    }
   ],
   "source": [
    "_testInput = _bertPreProc([\"HERE IS TEXT\"])\n",
    "MODEL(_testInput)"
   ]
  },
  {
   "cell_type": "code",
   "execution_count": 19,
   "id": "870e940c",
   "metadata": {},
   "outputs": [
    {
     "data": {
      "text/plain": [
       "{'input_type_ids': <tf.Tensor: shape=(1, 128), dtype=int32, numpy=\n",
       " array([[0, 0, 0, 0, 0, 0, 0, 0, 0, 0, 0, 0, 0, 0, 0, 0, 0, 0, 0, 0, 0, 0,\n",
       "         0, 0, 0, 0, 0, 0, 0, 0, 0, 0, 0, 0, 0, 0, 0, 0, 0, 0, 0, 0, 0, 0,\n",
       "         0, 0, 0, 0, 0, 0, 0, 0, 0, 0, 0, 0, 0, 0, 0, 0, 0, 0, 0, 0, 0, 0,\n",
       "         0, 0, 0, 0, 0, 0, 0, 0, 0, 0, 0, 0, 0, 0, 0, 0, 0, 0, 0, 0, 0, 0,\n",
       "         0, 0, 0, 0, 0, 0, 0, 0, 0, 0, 0, 0, 0, 0, 0, 0, 0, 0, 0, 0, 0, 0,\n",
       "         0, 0, 0, 0, 0, 0, 0, 0, 0, 0, 0, 0, 0, 0, 0, 0, 0, 0]],\n",
       "       dtype=int32)>,\n",
       " 'input_mask': <tf.Tensor: shape=(1, 128), dtype=int32, numpy=\n",
       " array([[1, 1, 1, 1, 1, 0, 0, 0, 0, 0, 0, 0, 0, 0, 0, 0, 0, 0, 0, 0, 0, 0,\n",
       "         0, 0, 0, 0, 0, 0, 0, 0, 0, 0, 0, 0, 0, 0, 0, 0, 0, 0, 0, 0, 0, 0,\n",
       "         0, 0, 0, 0, 0, 0, 0, 0, 0, 0, 0, 0, 0, 0, 0, 0, 0, 0, 0, 0, 0, 0,\n",
       "         0, 0, 0, 0, 0, 0, 0, 0, 0, 0, 0, 0, 0, 0, 0, 0, 0, 0, 0, 0, 0, 0,\n",
       "         0, 0, 0, 0, 0, 0, 0, 0, 0, 0, 0, 0, 0, 0, 0, 0, 0, 0, 0, 0, 0, 0,\n",
       "         0, 0, 0, 0, 0, 0, 0, 0, 0, 0, 0, 0, 0, 0, 0, 0, 0, 0]],\n",
       "       dtype=int32)>,\n",
       " 'input_word_ids': <tf.Tensor: shape=(1, 128), dtype=int32, numpy=\n",
       " array([[ 101, 2182, 2003, 3793,  102,    0,    0,    0,    0,    0,    0,\n",
       "            0,    0,    0,    0,    0,    0,    0,    0,    0,    0,    0,\n",
       "            0,    0,    0,    0,    0,    0,    0,    0,    0,    0,    0,\n",
       "            0,    0,    0,    0,    0,    0,    0,    0,    0,    0,    0,\n",
       "            0,    0,    0,    0,    0,    0,    0,    0,    0,    0,    0,\n",
       "            0,    0,    0,    0,    0,    0,    0,    0,    0,    0,    0,\n",
       "            0,    0,    0,    0,    0,    0,    0,    0,    0,    0,    0,\n",
       "            0,    0,    0,    0,    0,    0,    0,    0,    0,    0,    0,\n",
       "            0,    0,    0,    0,    0,    0,    0,    0,    0,    0,    0,\n",
       "            0,    0,    0,    0,    0,    0,    0,    0,    0,    0,    0,\n",
       "            0,    0,    0,    0,    0,    0,    0,    0,    0,    0,    0,\n",
       "            0,    0,    0,    0,    0,    0,    0]], dtype=int32)>}"
      ]
     },
     "execution_count": 19,
     "metadata": {},
     "output_type": "execute_result"
    }
   ],
   "source": [
    "_testInput"
   ]
  },
  {
   "cell_type": "markdown",
   "id": "0d0c4443",
   "metadata": {},
   "source": [
    "**Setup optimizer/loss/metrics**"
   ]
  },
  {
   "cell_type": "code",
   "execution_count": 20,
   "id": "c1d596bd",
   "metadata": {},
   "outputs": [],
   "source": [
    "#Create a learning rate scheduler; so we start with a high rate then reduce it slowly\n",
    "_nTrain = TRAIN_INPUTS[\"input_type_ids\"].shape[0]\n",
    "stepPerEpoch = BATCH_SIZE * _nTrain\n",
    "_currArgs = [INIT_LEARN_RATE, stepPerEpoch*NUMB_EPOCHS]\n",
    "_currKwargs = {\"end_learning_rate\":0.0}\n",
    "learnRateScheduler =tf.keras.optimizers.schedules.PolynomialDecay(*_currArgs, **_currKwargs)\n",
    "\n",
    "#Use this scheduler with the standard Adam optimizer\n",
    "optimizer = keras.optimizers.Adam(learning_rate=learnRateScheduler)\n"
   ]
  },
  {
   "cell_type": "code",
   "execution_count": 21,
   "id": "b9ea03d1",
   "metadata": {},
   "outputs": [],
   "source": [
    "loss = keras.losses.BinaryCrossentropy(from_logits=True)\n",
    "metrics = tf.metrics.BinaryAccuracy()\n",
    "MODEL.compile(optimizer=optimizer, loss=loss, metrics=[metrics])"
   ]
  },
  {
   "cell_type": "markdown",
   "id": "74c15371",
   "metadata": {},
   "source": [
    "**Train the model**"
   ]
  },
  {
   "cell_type": "code",
   "execution_count": 22,
   "id": "a49ebc3d",
   "metadata": {},
   "outputs": [],
   "source": [
    "_modelSaver = keras.callbacks.ModelCheckpoint(MODEL_SAVE_PATH, save_best_only=True)"
   ]
  },
  {
   "cell_type": "code",
   "execution_count": 23,
   "id": "87f6b4b2",
   "metadata": {},
   "outputs": [
    {
     "name": "stdout",
     "output_type": "stream",
     "text": [
      " "
     ]
    },
    {
     "name": "stderr",
     "output_type": "stream",
     "text": [
      "2023-04-25 12:09:22.392743: I tensorflow/core/common_runtime/executor.cc:1197] [/device:CPU:0] (DEBUG INFO) Executor start aborting (this does not indicate an error and you can ignore this message): INVALID_ARGUMENT: You must feed a value for placeholder tensor 'inputs' with dtype int32 and shape [?,128]\n",
      "\t [[{{node inputs}}]]\n",
      "2023-04-25 12:09:22.392783: I tensorflow/core/common_runtime/executor.cc:1197] [/device:CPU:0] (DEBUG INFO) Executor start aborting (this does not indicate an error and you can ignore this message): INVALID_ARGUMENT: You must feed a value for placeholder tensor 'inputs_2' with dtype int32 and shape [?,128]\n",
      "\t [[{{node inputs_2}}]]\n",
      "2023-04-25 12:09:22.417857: I tensorflow/core/common_runtime/executor.cc:1197] [/device:CPU:0] (DEBUG INFO) Executor start aborting (this does not indicate an error and you can ignore this message): INVALID_ARGUMENT: You must feed a value for placeholder tensor 'Placeholder_1' with dtype int32 and shape [?,128]\n",
      "\t [[{{node Placeholder_1}}]]\n",
      "2023-04-25 12:09:22.417893: I tensorflow/core/common_runtime/executor.cc:1197] [/device:CPU:0] (DEBUG INFO) Executor start aborting (this does not indicate an error and you can ignore this message): INVALID_ARGUMENT: You must feed a value for placeholder tensor 'Placeholder_2' with dtype int32 and shape [?,128]\n",
      "\t [[{{node Placeholder_2}}]]\n"
     ]
    }
   ],
   "source": [
    "%%prun\n",
    "#27948313 function calls (27401180 primitive calls) in 422.583 seconds\n",
    "\n",
    "if REFIT:\n",
    "    history = MODEL.fit(x=TRAIN_INPUTS, y=TRAIN_LABELS, batch_size=BATCH_SIZE,\n",
    "                        validation_data= (VAL_INPUTS, VAL_LABELS),\n",
    "                        epochs=numbEpochs,\n",
    "                        callbacks=_modelSaver)\n",
    "    \n",
    "    with open(HISTORY_SAVE_PATH, \"wb\") as f:\n",
    "        pickle.dump(history.history, f)\n",
    "    loadedHistory = history.history\n",
    "    \n",
    "else:\n",
    "    with open(HISTORY_SAVE_PATH, \"rb\") as f:\n",
    "        loadedHistory = pickle.load(f)\n",
    "        \n",
    "\n",
    "#Want to load the best model regardless\n",
    "MODEL = keras.models.load_model(MODEL_SAVE_PATH)"
   ]
  },
  {
   "cell_type": "code",
   "execution_count": 24,
   "id": "e527f67f",
   "metadata": {},
   "outputs": [
    {
     "name": "stderr",
     "output_type": "stream",
     "text": [
      "2023-04-25 12:09:24.162520: I tensorflow/core/common_runtime/executor.cc:1197] [/device:CPU:0] (DEBUG INFO) Executor start aborting (this does not indicate an error and you can ignore this message): INVALID_ARGUMENT: You must feed a value for placeholder tensor 'inputs' with dtype int32 and shape [?,128]\n",
      "\t [[{{node inputs}}]]\n",
      "2023-04-25 12:09:24.162563: I tensorflow/core/common_runtime/executor.cc:1197] [/device:CPU:0] (DEBUG INFO) Executor start aborting (this does not indicate an error and you can ignore this message): INVALID_ARGUMENT: You must feed a value for placeholder tensor 'inputs_2' with dtype int32 and shape [?,128]\n",
      "\t [[{{node inputs_2}}]]\n",
      "2023-04-25 12:09:24.179248: I tensorflow/core/common_runtime/executor.cc:1197] [/device:CPU:0] (DEBUG INFO) Executor start aborting (this does not indicate an error and you can ignore this message): INVALID_ARGUMENT: You must feed a value for placeholder tensor 'Placeholder_1' with dtype int32 and shape [?,128]\n",
      "\t [[{{node Placeholder_1}}]]\n",
      "2023-04-25 12:09:24.179288: I tensorflow/core/common_runtime/executor.cc:1197] [/device:CPU:0] (DEBUG INFO) Executor start aborting (this does not indicate an error and you can ignore this message): INVALID_ARGUMENT: You must feed a value for placeholder tensor 'Placeholder_2' with dtype int32 and shape [?,128]\n",
      "\t [[{{node Placeholder_2}}]]\n"
     ]
    }
   ],
   "source": [
    "loadedModel = keras.models.load_model(MODEL_SAVE_PATH)"
   ]
  },
  {
   "cell_type": "markdown",
   "id": "9c002ef8",
   "metadata": {},
   "source": [
    "**Look at history; best val-loss should be what our loaded model corresponds to**"
   ]
  },
  {
   "cell_type": "code",
   "execution_count": 25,
   "id": "7a0209e5",
   "metadata": {},
   "outputs": [
    {
     "data": {
      "text/plain": [
       "{'loss': [0.47327032685279846, 0.36616113781929016, 0.28948405385017395],\n",
       " 'binary_accuracy': [0.7799283266067505,\n",
       "  0.8444444537162781,\n",
       "  0.8815411925315857],\n",
       " 'val_loss': [0.43271738290786743, 0.43235594034194946, 0.48580431938171387],\n",
       " 'val_binary_accuracy': [0.814336895942688,\n",
       "  0.823655903339386,\n",
       "  0.8207885026931763]}"
      ]
     },
     "execution_count": 25,
     "metadata": {},
     "output_type": "execute_result"
    }
   ],
   "source": [
    "loadedHistory"
   ]
  },
  {
   "cell_type": "markdown",
   "id": "25f4f51f",
   "metadata": {},
   "source": [
    "**Double check I can correctly predict the validation set**"
   ]
  },
  {
   "cell_type": "code",
   "execution_count": 26,
   "id": "24ae104f",
   "metadata": {},
   "outputs": [],
   "source": [
    "def _getLabelsFromModel(modelInput):\n",
    "    _logits = MODEL.predict(modelInput)\n",
    "    labelProbabilities = tf.sigmoid( _logits ).numpy()\n",
    "    outLabels = np.where(labelProbabilities>=0.5, 1, 0)\n",
    "    return outLabels"
   ]
  },
  {
   "cell_type": "code",
   "execution_count": 27,
   "id": "d7e40bdb",
   "metadata": {},
   "outputs": [
    {
     "name": "stdout",
     "output_type": "stream",
     "text": [
      "44/44 [==============================] - 10s 215ms/step\n"
     ]
    }
   ],
   "source": [
    "predLabels = _getLabelsFromModel(VAL_INPUTS)\n",
    "actLabels = VAL_LABELS"
   ]
  },
  {
   "cell_type": "code",
   "execution_count": 28,
   "id": "fbd56004",
   "metadata": {},
   "outputs": [
    {
     "name": "stdout",
     "output_type": "stream",
     "text": [
      "I  calculate binAcc as 0.816 for the validation set\n"
     ]
    }
   ],
   "source": [
    "nWrong = np.sum( abs( VAL_LABELS - predLabels ) )\n",
    "nTotal = len(VAL_LABELS)\n",
    "binAcc = (nTotal-nWrong) / nTotal\n",
    "print(\"I  calculate binAcc as {:.3f} for the validation set\".format(binAcc))"
   ]
  },
  {
   "cell_type": "markdown",
   "id": "e12c813f",
   "metadata": {},
   "source": [
    "**Predict for the test set**"
   ]
  },
  {
   "cell_type": "code",
   "execution_count": 29,
   "id": "c35e93e4",
   "metadata": {},
   "outputs": [
    {
     "data": {
      "text/html": [
       "<div>\n",
       "<style scoped>\n",
       "    .dataframe tbody tr th:only-of-type {\n",
       "        vertical-align: middle;\n",
       "    }\n",
       "\n",
       "    .dataframe tbody tr th {\n",
       "        vertical-align: top;\n",
       "    }\n",
       "\n",
       "    .dataframe thead th {\n",
       "        text-align: right;\n",
       "    }\n",
       "</style>\n",
       "<table border=\"1\" class=\"dataframe\">\n",
       "  <thead>\n",
       "    <tr style=\"text-align: right;\">\n",
       "      <th></th>\n",
       "      <th>id</th>\n",
       "      <th>keyword</th>\n",
       "      <th>location</th>\n",
       "      <th>text</th>\n",
       "    </tr>\n",
       "  </thead>\n",
       "  <tbody>\n",
       "    <tr>\n",
       "      <th>0</th>\n",
       "      <td>0</td>\n",
       "      <td>NaN</td>\n",
       "      <td>NaN</td>\n",
       "      <td>Just happened a terrible car crash</td>\n",
       "    </tr>\n",
       "    <tr>\n",
       "      <th>1</th>\n",
       "      <td>2</td>\n",
       "      <td>NaN</td>\n",
       "      <td>NaN</td>\n",
       "      <td>Heard about #earthquake is different cities, s...</td>\n",
       "    </tr>\n",
       "    <tr>\n",
       "      <th>2</th>\n",
       "      <td>3</td>\n",
       "      <td>NaN</td>\n",
       "      <td>NaN</td>\n",
       "      <td>there is a forest fire at spot pond, geese are...</td>\n",
       "    </tr>\n",
       "    <tr>\n",
       "      <th>3</th>\n",
       "      <td>9</td>\n",
       "      <td>NaN</td>\n",
       "      <td>NaN</td>\n",
       "      <td>Apocalypse lighting. #Spokane #wildfires</td>\n",
       "    </tr>\n",
       "    <tr>\n",
       "      <th>4</th>\n",
       "      <td>11</td>\n",
       "      <td>NaN</td>\n",
       "      <td>NaN</td>\n",
       "      <td>Typhoon Soudelor kills 28 in China and Taiwan</td>\n",
       "    </tr>\n",
       "    <tr>\n",
       "      <th>...</th>\n",
       "      <td>...</td>\n",
       "      <td>...</td>\n",
       "      <td>...</td>\n",
       "      <td>...</td>\n",
       "    </tr>\n",
       "    <tr>\n",
       "      <th>3258</th>\n",
       "      <td>10861</td>\n",
       "      <td>NaN</td>\n",
       "      <td>NaN</td>\n",
       "      <td>EARTHQUAKE SAFETY LOS ANGELES ÛÒ SAFETY FASTE...</td>\n",
       "    </tr>\n",
       "    <tr>\n",
       "      <th>3259</th>\n",
       "      <td>10865</td>\n",
       "      <td>NaN</td>\n",
       "      <td>NaN</td>\n",
       "      <td>Storm in RI worse than last hurricane. My city...</td>\n",
       "    </tr>\n",
       "    <tr>\n",
       "      <th>3260</th>\n",
       "      <td>10868</td>\n",
       "      <td>NaN</td>\n",
       "      <td>NaN</td>\n",
       "      <td>Green Line derailment in Chicago http://t.co/U...</td>\n",
       "    </tr>\n",
       "    <tr>\n",
       "      <th>3261</th>\n",
       "      <td>10874</td>\n",
       "      <td>NaN</td>\n",
       "      <td>NaN</td>\n",
       "      <td>MEG issues Hazardous Weather Outlook (HWO) htt...</td>\n",
       "    </tr>\n",
       "    <tr>\n",
       "      <th>3262</th>\n",
       "      <td>10875</td>\n",
       "      <td>NaN</td>\n",
       "      <td>NaN</td>\n",
       "      <td>#CityofCalgary has activated its Municipal Eme...</td>\n",
       "    </tr>\n",
       "  </tbody>\n",
       "</table>\n",
       "<p>3263 rows × 4 columns</p>\n",
       "</div>"
      ],
      "text/plain": [
       "         id keyword location   \n",
       "0         0     NaN      NaN  \\\n",
       "1         2     NaN      NaN   \n",
       "2         3     NaN      NaN   \n",
       "3         9     NaN      NaN   \n",
       "4        11     NaN      NaN   \n",
       "...     ...     ...      ...   \n",
       "3258  10861     NaN      NaN   \n",
       "3259  10865     NaN      NaN   \n",
       "3260  10868     NaN      NaN   \n",
       "3261  10874     NaN      NaN   \n",
       "3262  10875     NaN      NaN   \n",
       "\n",
       "                                                   text  \n",
       "0                    Just happened a terrible car crash  \n",
       "1     Heard about #earthquake is different cities, s...  \n",
       "2     there is a forest fire at spot pond, geese are...  \n",
       "3              Apocalypse lighting. #Spokane #wildfires  \n",
       "4         Typhoon Soudelor kills 28 in China and Taiwan  \n",
       "...                                                 ...  \n",
       "3258  EARTHQUAKE SAFETY LOS ANGELES ÛÒ SAFETY FASTE...  \n",
       "3259  Storm in RI worse than last hurricane. My city...  \n",
       "3260  Green Line derailment in Chicago http://t.co/U...  \n",
       "3261  MEG issues Hazardous Weather Outlook (HWO) htt...  \n",
       "3262  #CityofCalgary has activated its Municipal Eme...  \n",
       "\n",
       "[3263 rows x 4 columns]"
      ]
     },
     "execution_count": 29,
     "metadata": {},
     "output_type": "execute_result"
    }
   ],
   "source": [
    "RAW_TEST = pd.read_csv(TEST_PATH)\n",
    "RAW_TEST"
   ]
  },
  {
   "cell_type": "code",
   "execution_count": 30,
   "id": "7402c27a",
   "metadata": {},
   "outputs": [
    {
     "data": {
      "text/html": [
       "<div>\n",
       "<style scoped>\n",
       "    .dataframe tbody tr th:only-of-type {\n",
       "        vertical-align: middle;\n",
       "    }\n",
       "\n",
       "    .dataframe tbody tr th {\n",
       "        vertical-align: top;\n",
       "    }\n",
       "\n",
       "    .dataframe thead th {\n",
       "        text-align: right;\n",
       "    }\n",
       "</style>\n",
       "<table border=\"1\" class=\"dataframe\">\n",
       "  <thead>\n",
       "    <tr style=\"text-align: right;\">\n",
       "      <th></th>\n",
       "      <th>id</th>\n",
       "      <th>keyword</th>\n",
       "      <th>location</th>\n",
       "      <th>text</th>\n",
       "    </tr>\n",
       "  </thead>\n",
       "  <tbody>\n",
       "    <tr>\n",
       "      <th>0</th>\n",
       "      <td>0</td>\n",
       "      <td>NaN</td>\n",
       "      <td>NaN</td>\n",
       "      <td>just happened a terrible car crash</td>\n",
       "    </tr>\n",
       "    <tr>\n",
       "      <th>1</th>\n",
       "      <td>2</td>\n",
       "      <td>NaN</td>\n",
       "      <td>NaN</td>\n",
       "      <td>heard about #earthquake is different cities , ...</td>\n",
       "    </tr>\n",
       "    <tr>\n",
       "      <th>2</th>\n",
       "      <td>3</td>\n",
       "      <td>NaN</td>\n",
       "      <td>NaN</td>\n",
       "      <td>there is a forest fire at spot pond , geese ar...</td>\n",
       "    </tr>\n",
       "    <tr>\n",
       "      <th>3</th>\n",
       "      <td>9</td>\n",
       "      <td>NaN</td>\n",
       "      <td>NaN</td>\n",
       "      <td>apocalypse lighting . #spokane #wildfires</td>\n",
       "    </tr>\n",
       "    <tr>\n",
       "      <th>4</th>\n",
       "      <td>11</td>\n",
       "      <td>NaN</td>\n",
       "      <td>NaN</td>\n",
       "      <td>typhoon soudelor kills 28 in china and taiwan</td>\n",
       "    </tr>\n",
       "    <tr>\n",
       "      <th>...</th>\n",
       "      <td>...</td>\n",
       "      <td>...</td>\n",
       "      <td>...</td>\n",
       "      <td>...</td>\n",
       "    </tr>\n",
       "    <tr>\n",
       "      <th>3258</th>\n",
       "      <td>10861</td>\n",
       "      <td>NaN</td>\n",
       "      <td>NaN</td>\n",
       "      <td>earthquake safety los angeles ûò safety faste...</td>\n",
       "    </tr>\n",
       "    <tr>\n",
       "      <th>3259</th>\n",
       "      <td>10865</td>\n",
       "      <td>NaN</td>\n",
       "      <td>NaN</td>\n",
       "      <td>storm in ri worse than last hurricane . my cit...</td>\n",
       "    </tr>\n",
       "    <tr>\n",
       "      <th>3260</th>\n",
       "      <td>10868</td>\n",
       "      <td>NaN</td>\n",
       "      <td>NaN</td>\n",
       "      <td>green line derailment in chicago</td>\n",
       "    </tr>\n",
       "    <tr>\n",
       "      <th>3261</th>\n",
       "      <td>10874</td>\n",
       "      <td>NaN</td>\n",
       "      <td>NaN</td>\n",
       "      <td>meg issues hazardous weather outlook (hwo)</td>\n",
       "    </tr>\n",
       "    <tr>\n",
       "      <th>3262</th>\n",
       "      <td>10875</td>\n",
       "      <td>NaN</td>\n",
       "      <td>NaN</td>\n",
       "      <td>#cityofcalgary has activated its municipal eme...</td>\n",
       "    </tr>\n",
       "  </tbody>\n",
       "</table>\n",
       "<p>3263 rows × 4 columns</p>\n",
       "</div>"
      ],
      "text/plain": [
       "         id keyword location   \n",
       "0         0     NaN      NaN  \\\n",
       "1         2     NaN      NaN   \n",
       "2         3     NaN      NaN   \n",
       "3         9     NaN      NaN   \n",
       "4        11     NaN      NaN   \n",
       "...     ...     ...      ...   \n",
       "3258  10861     NaN      NaN   \n",
       "3259  10865     NaN      NaN   \n",
       "3260  10868     NaN      NaN   \n",
       "3261  10874     NaN      NaN   \n",
       "3262  10875     NaN      NaN   \n",
       "\n",
       "                                                   text  \n",
       "0                    just happened a terrible car crash  \n",
       "1     heard about #earthquake is different cities , ...  \n",
       "2     there is a forest fire at spot pond , geese ar...  \n",
       "3             apocalypse lighting . #spokane #wildfires  \n",
       "4         typhoon soudelor kills 28 in china and taiwan  \n",
       "...                                                 ...  \n",
       "3258  earthquake safety los angeles ûò safety faste...  \n",
       "3259  storm in ri worse than last hurricane . my cit...  \n",
       "3260                 green line derailment in chicago    \n",
       "3261       meg issues hazardous weather outlook (hwo)    \n",
       "3262  #cityofcalgary has activated its municipal eme...  \n",
       "\n",
       "[3263 rows x 4 columns]"
      ]
     },
     "execution_count": 30,
     "metadata": {},
     "output_type": "execute_result"
    }
   ],
   "source": [
    "testCleanPipe = stdPipeHelp.loadTextPreprocPipeA(removeDuplicateTweets=False)\n",
    "testCleanPipe.fit(RAW_TRAIN)\n",
    "\n",
    "#\n",
    "PROC_TEST = testCleanPipe.transform(RAW_TEST)\n",
    "PROC_TEST"
   ]
  },
  {
   "cell_type": "code",
   "execution_count": 31,
   "id": "74ab46cc",
   "metadata": {},
   "outputs": [
    {
     "name": "stdout",
     "output_type": "stream",
     "text": [
      "102/102 [==============================] - 23s 225ms/step\n"
     ]
    }
   ],
   "source": [
    "rawTestInput = _bertPreProc(PROC_TEST[\"text\"].to_list())\n",
    "testLabels = _getLabelsFromModel(rawTestInput)"
   ]
  },
  {
   "cell_type": "markdown",
   "id": "032c4945",
   "metadata": {},
   "source": [
    "**Write the test set predictions to a file**"
   ]
  },
  {
   "cell_type": "markdown",
   "id": "6d024fe3",
   "metadata": {},
   "source": [
    "Kaggle Score - 0.81734"
   ]
  },
  {
   "cell_type": "code",
   "execution_count": 32,
   "id": "90593b3c",
   "metadata": {},
   "outputs": [
    {
     "data": {
      "text/html": [
       "<div>\n",
       "<style scoped>\n",
       "    .dataframe tbody tr th:only-of-type {\n",
       "        vertical-align: middle;\n",
       "    }\n",
       "\n",
       "    .dataframe tbody tr th {\n",
       "        vertical-align: top;\n",
       "    }\n",
       "\n",
       "    .dataframe thead th {\n",
       "        text-align: right;\n",
       "    }\n",
       "</style>\n",
       "<table border=\"1\" class=\"dataframe\">\n",
       "  <thead>\n",
       "    <tr style=\"text-align: right;\">\n",
       "      <th></th>\n",
       "      <th>id</th>\n",
       "      <th>target</th>\n",
       "    </tr>\n",
       "  </thead>\n",
       "  <tbody>\n",
       "    <tr>\n",
       "      <th>0</th>\n",
       "      <td>0</td>\n",
       "      <td>1</td>\n",
       "    </tr>\n",
       "    <tr>\n",
       "      <th>1</th>\n",
       "      <td>2</td>\n",
       "      <td>1</td>\n",
       "    </tr>\n",
       "    <tr>\n",
       "      <th>2</th>\n",
       "      <td>3</td>\n",
       "      <td>1</td>\n",
       "    </tr>\n",
       "    <tr>\n",
       "      <th>3</th>\n",
       "      <td>9</td>\n",
       "      <td>1</td>\n",
       "    </tr>\n",
       "    <tr>\n",
       "      <th>4</th>\n",
       "      <td>11</td>\n",
       "      <td>1</td>\n",
       "    </tr>\n",
       "    <tr>\n",
       "      <th>...</th>\n",
       "      <td>...</td>\n",
       "      <td>...</td>\n",
       "    </tr>\n",
       "    <tr>\n",
       "      <th>3258</th>\n",
       "      <td>10861</td>\n",
       "      <td>1</td>\n",
       "    </tr>\n",
       "    <tr>\n",
       "      <th>3259</th>\n",
       "      <td>10865</td>\n",
       "      <td>1</td>\n",
       "    </tr>\n",
       "    <tr>\n",
       "      <th>3260</th>\n",
       "      <td>10868</td>\n",
       "      <td>1</td>\n",
       "    </tr>\n",
       "    <tr>\n",
       "      <th>3261</th>\n",
       "      <td>10874</td>\n",
       "      <td>1</td>\n",
       "    </tr>\n",
       "    <tr>\n",
       "      <th>3262</th>\n",
       "      <td>10875</td>\n",
       "      <td>1</td>\n",
       "    </tr>\n",
       "  </tbody>\n",
       "</table>\n",
       "<p>3263 rows × 2 columns</p>\n",
       "</div>"
      ],
      "text/plain": [
       "         id  target\n",
       "0         0       1\n",
       "1         2       1\n",
       "2         3       1\n",
       "3         9       1\n",
       "4        11       1\n",
       "...     ...     ...\n",
       "3258  10861       1\n",
       "3259  10865       1\n",
       "3260  10868       1\n",
       "3261  10874       1\n",
       "3262  10875       1\n",
       "\n",
       "[3263 rows x 2 columns]"
      ]
     },
     "execution_count": 32,
     "metadata": {},
     "output_type": "execute_result"
    }
   ],
   "source": [
    "OUT_FRAME = pd.DataFrame(data={\"id\":PROC_TEST[\"id\"], \"target\":[x[0] for x in testLabels]})\n",
    "OUT_FRAME"
   ]
  },
  {
   "cell_type": "code",
   "execution_count": 33,
   "id": "27cd5f69",
   "metadata": {},
   "outputs": [],
   "source": [
    "OUT_FRAME.to_csv(SUBMISSIONS_PATH, index=False)"
   ]
  },
  {
   "cell_type": "code",
   "execution_count": null,
   "id": "588de3b8",
   "metadata": {},
   "outputs": [],
   "source": []
  }
 ],
 "metadata": {
  "kernelspec": {
   "display_name": "Python 3 (ipykernel)",
   "language": "python",
   "name": "python3"
  },
  "language_info": {
   "codemirror_mode": {
    "name": "ipython",
    "version": 3
   },
   "file_extension": ".py",
   "mimetype": "text/x-python",
   "name": "python",
   "nbconvert_exporter": "python",
   "pygments_lexer": "ipython3",
   "version": "3.10.6"
  }
 },
 "nbformat": 4,
 "nbformat_minor": 5
}
